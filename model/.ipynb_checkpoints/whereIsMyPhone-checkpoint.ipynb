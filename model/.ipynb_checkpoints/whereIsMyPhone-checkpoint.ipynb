{
 "cells": [
  {
   "cell_type": "code",
   "execution_count": 7,
   "metadata": {
    "collapsed": true
   },
   "outputs": [],
   "source": [
    "import os\n",
    "import pandas as pd\n",
    "\n",
    "rawdir = r'../raw-data'\n",
    "labels = ['pocket','swing','texting','whatever'] "
   ]
  },
  {
   "cell_type": "markdown",
   "metadata": {},
   "source": [
    "### read raw data files and add label colomn by parsing the file name "
   ]
  },
  {
   "cell_type": "code",
   "execution_count": 21,
   "metadata": {},
   "outputs": [],
   "source": [
    "def loadFile(root,file):\n",
    "    print 'loading : ' , file \n",
    "    data=pd.read_csv(os.path.join(root,file))\n",
    "    for label in labels:\n",
    "        if file.lower().startswith(label.lower()):\n",
    "            print 'add label : ', label\n",
    "            data['label']=label\n",
    "    return data"
   ]
  },
  {
   "cell_type": "code",
   "execution_count": 22,
   "metadata": {},
   "outputs": [],
   "source": [
    "def loadFiles(indir):\n",
    "    print 'loading files from : ' , root \n",
    "    for root, dirs, filenames in os.walk(indir):\n",
    "        for f in filenames:\n",
    "            if f.lower().endswith('.csv'):\n",
    "                loadFile(root,f)"
   ]
  },
  {
   "cell_type": "code",
   "execution_count": 23,
   "metadata": {},
   "outputs": [
    {
     "name": "stdout",
     "output_type": "stream",
     "text": [
      "loading :  ../raw-data/SwingRightPhoneDownScBody.csv\n",
      "loading :  ../raw-data/swingLeftHandPhoneDownScBody (1).csv\n",
      "loading :  ../raw-data/swingLeftHandPhoneDownScBody.csv\n",
      "loading :  ../raw-data/TextingPointingDorwatd.csv\n",
      "loading :  ../raw-data/swing3.csv\n",
      "loading :  ../raw-data/Pocket2.csv\n",
      "loading :  ../raw-data/PocketLeftAidePhoneDownScBodyLoose.csv\n",
      "loading :  ../raw-data/Texting2.csv\n",
      "loading :  ../raw-data/SwingRight2.csv\n",
      "loading :  ../raw-data/swing4.csv\n",
      "loading :  ../raw-data/swing2.csv\n"
     ]
    }
   ],
   "source": [
    "loadFiles(rawdir)"
   ]
  },
  {
   "cell_type": "code",
   "execution_count": null,
   "metadata": {
    "collapsed": true
   },
   "outputs": [],
   "source": []
  }
 ],
 "metadata": {
  "kernelspec": {
   "display_name": "Python 2",
   "language": "python",
   "name": "python2"
  },
  "language_info": {
   "codemirror_mode": {
    "name": "ipython",
    "version": 2
   },
   "file_extension": ".py",
   "mimetype": "text/x-python",
   "name": "python",
   "nbconvert_exporter": "python",
   "pygments_lexer": "ipython2",
   "version": "2.7.13"
  }
 },
 "nbformat": 4,
 "nbformat_minor": 2
}
