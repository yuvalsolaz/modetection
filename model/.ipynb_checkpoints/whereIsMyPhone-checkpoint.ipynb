{
 "cells": [
  {
   "cell_type": "code",
   "execution_count": 16,
   "metadata": {
    "collapsed": true
   },
   "outputs": [],
   "source": [
    "import os\n",
    "import pandas as pd\n",
    "import numpy as np\n",
    "\n",
    "# Visualisation\n",
    "import matplotlib as mpl\n",
    "import matplotlib.pyplot as plt\n",
    "import matplotlib.pylab as pylab\n",
    "%matplotlib inline\n",
    "import seaborn as sns\n",
    "\n",
    "from sklearn.metrics import accuracy_score\n",
    "from sklearn.model_selection import train_test_split\n",
    "from sklearn.neighbors import KNeighborsClassifier\n",
    "from sklearn.tree import DecisionTreeClassifier\n",
    "from sklearn import svm\n",
    "from sklearn.metrics import confusion_matrix\n",
    "from sklearn.metrics import classification_report\n",
    "from sklearn.ensemble import RandomForestClassifier\n",
    "from sklearn.model_selection import cross_val_score\n",
    "from sklearn.model_selection import RandomizedSearchCV\n",
    "from sklearn.model_selection import GroupKFold\n",
    "from sklearn.metrics import make_scorer\n",
    "from detect_peaks import detect_peaks\n"
   ]
  },
  {
   "cell_type": "code",
   "execution_count": 17,
   "metadata": {
    "collapsed": true
   },
   "outputs": [],
   "source": [
    "## consts :\n",
    "\n",
    "SAMPLE_FREQ = 50 \n",
    "FILE_MARGINES = 5* SAMPLE_FREQ  ## number of samples to ignore in the  start and in the end of the file (5 seconds )  \n",
    "WINDOW_SIZE = 128  ## sliding window size \n",
    "\n",
    "DEVICE_MODE_LABELS = ['pocket','swing','texting','whatever'] \n",
    "USER_MODE_LABELS = ['walking','fastwalking','stairs','static','whatever'] \n",
    "\n",
    "FEATURES = ['agforce','agyro',               ## avarage \n",
    "            'mgforce','mgyro',               ## median\n",
    "            'vgforce','vgyro',               ## variance  \n",
    "            'maxgforce','maxgyro',           ## max  \n",
    "            'maxgforceabs','maxgyroabs',     ## abs max \n",
    "            'mingforce','mingyro',           ## min \n",
    "            'mingforceabs','mingyroabs',     ## abs min\n",
    "            'ampgforce','ampgyro']           ## amplitude |max - min|\n"
   ]
  },
  {
   "cell_type": "markdown",
   "metadata": {},
   "source": [
    "### Calulates high level features and add to given data frame add norm feature for g-force , gyro vectors calculates additional statistics features  on the norm properties using sliding window fill NaN values "
   ]
  },
  {
   "cell_type": "code",
   "execution_count": 44,
   "metadata": {
    "collapsed": true
   },
   "outputs": [],
   "source": [
    "def addFeatures(df):\n",
    "    \n",
    "    ## norm calculations :\n",
    "    df['gforce'] = np.sqrt(df['gfx']**2 + df['gFy']**2 + df['gFz']**2) \n",
    "    df['gyro'] = np.sqrt(df['wx']**2 + df['wy']**2 + df['wz']**2)     \n",
    "    \n",
    "    ## calculates statistics features on rolling window :\n",
    "    \n",
    "    df['agforce'] = df['gforce'].rolling(window=WINDOW_SIZE,min_periods=1,center=False).mean()\n",
    "    df['agyro']   = df['gyro'].rolling(window=WINDOW_SIZE,min_periods=1 ,center=False).mean()\n",
    "\n",
    "    df['mgforce'] = df['gforce'].rolling(window=WINDOW_SIZE,min_periods=1,center=False).median()\n",
    "    df['mgyro']   = df['gyro'].rolling(window=WINDOW_SIZE,min_periods=1 ,center=False).median()\n",
    "\n",
    "    df['vgforce'] = df['gforce'].rolling(window=WINDOW_SIZE,min_periods=1,center=False).var()\n",
    "    df['vgyro']   = df['gyro'].rolling(window=WINDOW_SIZE,min_periods=1,center=False).var()\n",
    "\n",
    "    df['maxgforce'] = df['gforce'].rolling(window=WINDOW_SIZE,min_periods=1,center=False).max()\n",
    "    df['maxgyro']   = df['gyro'].rolling(window=WINDOW_SIZE,min_periods=1 ,center=False).max()\n",
    "\n",
    "    df['maxgforceabs'] = abs(df['maxgforce'])\n",
    "    df['maxgyroabs']   = abs(df['maxgyro']) \n",
    "\n",
    "    df['mingforce'] = df['gforce'].rolling(window=WINDOW_SIZE,min_periods=1,center=False).min()\n",
    "    df['mingyro']  = df['gyro'].rolling(window=WINDOW_SIZE,min_periods=1 ,center=False).min()\n",
    "\n",
    "    df['mingforceabs'] = abs(df['mingforce'])\n",
    "    df['mingyroabs']   = abs(df['mingyro']) \n",
    "    \n",
    "    df['ampgforce'] = df['maxgforce'] - df['mingforce']\n",
    "    df['ampgyro']  = df['maxgyro'] - df['mingyro']\n",
    "    \n",
    "    df['light'] = df['I'] if 'I' in df else 0.0 \n",
    "    \n",
    "    ## TODO : peaks detection :"
   ]
  },
  {
   "cell_type": "markdown",
   "metadata": {},
   "source": [
    "### Read csv data file , add label colomn by parsing the file name  add high level features , crop file edges  Todo : normlize , remove dc "
   ]
  },
  {
   "cell_type": "code",
   "execution_count": 19,
   "metadata": {
    "collapsed": true
   },
   "outputs": [],
   "source": [
    "def loadFile(root,file):\n",
    "    data=pd.read_csv(os.path.join(root,file))\n",
    "    if len(data) < 1500 :\n",
    "        print (' only ' , len(data) , ' samples in file ', file , ' pass ')\n",
    "        return pd.DataFrame()\n",
    "    \n",
    "    print('loading : ' , file) \n",
    "\n",
    "    print('loading : ' , len(data) , ' samples from ', file) \n",
    "    \n",
    "    ## usefull property : \n",
    "    data['source']=file  \n",
    "\n",
    "    ## default label values in case file name not contains label  \n",
    "    data['devicemodeDescription']=DEVICE_MODE_LABELS[-1] ## 'whatever' label \n",
    "    data['devicemode'] = len(DEVICE_MODE_LABELS)\n",
    "\n",
    "    ## search device mode label in file name and add as new properties :\n",
    "    for label in DEVICE_MODE_LABELS:\n",
    "        if label.lower() in file.lower():  \n",
    "            data['devicemodeDescription']=label         ## label name \n",
    "            data['devicemode'] = DEVICE_MODE_LABELS.index(label)    ## label index \n",
    "            break\n",
    "    \n",
    "    ## add high level features \n",
    "    addFeatures(data)\n",
    "   \n",
    "    ## print( len(data) , ' samples loaded ')\n",
    "    ## print('all records labeld as ', data['devicemodeDescription'][0])\n",
    "        \n",
    "    ## crop samples from start and from the end of the file :\n",
    "    margin = min(len(data) / 2 - 1 , FILE_MARGINES)\n",
    "    data.drop(data.index[range(0,margin)],axis=0,inplace=True)\n",
    "    data.drop(data.index[range(-margin,-1)],axis=0,inplace=True)   \n",
    "    ##  print(len(data) , ' samples after cropping ' , margin , 'samples from start-end of the file  ')\n",
    "    return data "
   ]
  },
  {
   "cell_type": "code",
   "execution_count": 20,
   "metadata": {
    "collapsed": true
   },
   "outputs": [],
   "source": [
    "def loadFiles(inputDir):\n",
    "    print ('loading files from : ' , inputDir )\n",
    "    return pd.concat([loadFile(inputDir,f) for f in os.listdir(inputDir) if f.lower().endswith('.csv')])  "
   ]
  },
  {
   "cell_type": "code",
   "execution_count": 21,
   "metadata": {},
   "outputs": [
    {
     "name": "stdout",
     "output_type": "stream",
     "text": [
      "('loading files from : ', '/home/yuval/2_b_del/trail/data-store/utf8')\n",
      "('loading : ', 'SwingRightPhoneDownScBody.csv')\n",
      "('loading : ', 9258, ' samples from ', 'SwingRightPhoneDownScBody.csv')\n",
      "(' only ', 667, ' samples in file ', 'nisan-S6-pocket-walking-2017-09-1215.49.46.csv', ' pass ')\n",
      "(' only ', 1099, ' samples in file ', 'alon-lg2-pocket-walking-2017-09-0408.58.13.csv', ' pass ')\n",
      "('loading : ', 'alon-lg2-texting-walking-2017-09-1016.39.42.csv')\n",
      "('loading : ', 1957, ' samples from ', 'alon-lg2-texting-walking-2017-09-1016.39.42.csv')\n",
      "('loading : ', 'yehiyam-nexus5-swing-walking-2-2017-09-1113.25.02.csv')\n",
      "('loading : ', 3725, ' samples from ', 'yehiyam-nexus5-swing-walking-2-2017-09-1113.25.02.csv')\n",
      "('loading : ', 'swingLeftHandPhoneDownScBody.csv')\n",
      "('loading : ', 10608, ' samples from ', 'swingLeftHandPhoneDownScBody.csv')\n",
      "('loading : ', 'alon-lg2-pocket-walking-2017-09-1113.12.35.csv')\n",
      "('loading : ', 6162, ' samples from ', 'alon-lg2-pocket-walking-2017-09-1113.12.35.csv')\n",
      "('loading : ', 'SwingRightPhoneDown.csv')\n",
      "('loading : ', 7561, ' samples from ', 'SwingRightPhoneDown.csv')\n",
      "(' only ', 624, ' samples in file ', 'ariella_lg3_pocket_2017-09-1215.49.20.csv', ' pass ')\n",
      "('loading : ', 'yehiyam-nexus5-swing-walking-2017-09-1113.25.00.csv')\n",
      "('loading : ', 6415, ' samples from ', 'yehiyam-nexus5-swing-walking-2017-09-1113.25.00.csv')\n",
      "(' only ', 1112, ' samples in file ', 'alon-lg2-swing-walking-2017-09-1113.07.39.csv', ' pass ')\n",
      "('loading : ', 'TextingPointingDorwatd.csv')\n",
      "('loading : ', 6674, ' samples from ', 'TextingPointingDorwatd.csv')\n",
      "('loading : ', 'TextingLeftHand5.csv')\n",
      "('loading : ', 7101, ' samples from ', 'TextingLeftHand5.csv')\n",
      "('loading : ', 'miri-htc-pocket-walking-2017-09-1113.12.35.csv')\n",
      "('loading : ', 6162, ' samples from ', 'miri-htc-pocket-walking-2017-09-1113.12.35.csv')\n",
      "('loading : ', 'ariella_lg3_swing_2017-09-1215.45.47.csv')\n",
      "('loading : ', 5369, ' samples from ', 'ariella_lg3_swing_2017-09-1215.45.47.csv')\n",
      "('loading : ', 'miri-htc-swing-walking-2017-09-1113.09.53.csv')\n",
      "('loading : ', 2846, ' samples from ', 'miri-htc-swing-walking-2017-09-1113.09.53.csv')\n",
      "(' only ', 1257, ' samples in file ', 'amir-galaxy5-swing-walking-2017-09-1115.00.28.csv', ' pass ')\n",
      "('loading : ', 'TextingRight.csv')\n",
      "('loading : ', 5809, ' samples from ', 'TextingRight.csv')\n",
      "('loading : ', 'alonz-htc-pocket-walking-2017-09-1215.18.34.csv')\n",
      "('loading : ', 1875, ' samples from ', 'alonz-htc-pocket-walking-2017-09-1215.18.34.csv')\n",
      "('loading : ', 'alex-htc-swing-walking-2017-09-1115.00.28.csv')\n",
      "('loading : ', 4703, ' samples from ', 'alex-htc-swing-walking-2017-09-1115.00.28.csv')\n",
      "('loading : ', 'miri-htc-texting-walking-2017-09-1113.03.40.csv')\n",
      "('loading : ', 12283, ' samples from ', 'miri-htc-texting-walking-2017-09-1113.03.40.csv')\n",
      "(' only ', 1099, ' samples in file ', 'yuval-htc-pocket_walking-2017-09-0408.58.13.csv', ' pass ')\n",
      "('loading : ', 'alex-htc-pocket-walking-2017-09-1114.54.57.csv')\n",
      "('loading : ', 19510, ' samples from ', 'alex-htc-pocket-walking-2017-09-1114.54.57.csv')\n",
      "('loading : ', 'RightPocket.csv')\n",
      "('loading : ', 7486, ' samples from ', 'RightPocket.csv')\n",
      "('loading : ', 'yuval-htc-swing_walking-2017-09-0316.04.51.csv')\n",
      "('loading : ', 11775, ' samples from ', 'yuval-htc-swing_walking-2017-09-0316.04.51.csv')\n",
      "('loading : ', 'nisan-S6-swing-walking-2017-09-1215.45.48.csv')\n",
      "('loading : ', 3737, ' samples from ', 'nisan-S6-swing-walking-2017-09-1215.45.48.csv')\n",
      "('loading : ', 'SwingRight2.csv')\n",
      "('loading : ', 7244, ' samples from ', 'SwingRight2.csv')\n",
      "('loading : ', 'alonz-htc-texting-walking-2017-09-1215.15.43.csv')\n",
      "('loading : ', 3738, ' samples from ', 'alonz-htc-texting-walking-2017-09-1215.15.43.csv')\n",
      "('loading : ', 'swing4.csv')\n",
      "('loading : ', 6784, ' samples from ', 'swing4.csv')\n",
      "('loading : ', 'PocketLeftNormalWalking.csv')\n",
      "('loading : ', 6524, ' samples from ', 'PocketLeftNormalWalking.csv')\n",
      "('loading : ', 'alonz-htc-swing-walking-2017-09-1215.20.13.csv')\n",
      "('loading : ', 4915, ' samples from ', 'alonz-htc-swing-walking-2017-09-1215.20.13.csv')\n",
      "('loading : ', 'SwingLeftHand.csv')\n",
      "('loading : ', 3295, ' samples from ', 'SwingLeftHand.csv')\n",
      "('loading : ', 'swing2.csv')\n",
      "('loading : ', 11819, ' samples from ', 'swing2.csv')\n",
      "('loading : ', 'alon-lg2-pocket-walking-2017-09-1113.12.36.csv')\n",
      "('loading : ', 1989, ' samples from ', 'alon-lg2-pocket-walking-2017-09-1113.12.36.csv')\n",
      "('loading : ', 'SwingLeftNormal.csv')\n",
      "('loading : ', 5874, ' samples from ', 'SwingLeftNormal.csv')\n",
      "('loading : ', 'nisan-S6-texting-walking-2017-09-1215.43.03.csv')\n",
      "('loading : ', 5094, ' samples from ', 'nisan-S6-texting-walking-2017-09-1215.43.03.csv')\n",
      "('loading : ', 'yuval-htc-texting-walking-2017-09-0315.53.12.csv')\n",
      "('loading : ', 4329, ' samples from ', 'yuval-htc-texting-walking-2017-09-0315.53.12.csv')\n",
      "('loading : ', 'boris-lg3-texting-walking-2017-09-1108.17.25.csv')\n",
      "('loading : ', 1844, ' samples from ', 'boris-lg3-texting-walking-2017-09-1108.17.25.csv')\n",
      "('loading : ', 'LeftPocketJeansNormalWalk.csv')\n",
      "('loading : ', 6573, ' samples from ', 'LeftPocketJeansNormalWalk.csv')\n",
      "('loading : ', 'ariella_lg3_texting_2017-09-1215.42.51.csv')\n",
      "('loading : ', 7424, ' samples from ', 'ariella_lg3_texting_2017-09-1215.42.51.csv')\n",
      "('loading : ', 'PocketLeftJeansNormlWalk.csv')\n",
      "('loading : ', 6824, ' samples from ', 'PocketLeftJeansNormlWalk.csv')\n",
      "=========================================================\n",
      "('total train samples ', 202152, ' from ', 31, ' files ')\n"
     ]
    }
   ],
   "source": [
    "rdf = loadFiles(r'/home/yuval/2_b_del/trail/data-store/utf8')\n",
    "print('=========================================================')\n",
    "print( 'total train samples ' , len(rdf) , ' from ' ,len(rdf.source.unique()),  ' files ')"
   ]
  },
  {
   "cell_type": "code",
   "execution_count": 22,
   "metadata": {},
   "outputs": [
    {
     "data": {
      "text/html": [
       "<div>\n",
       "<style>\n",
       "    .dataframe thead tr:only-child th {\n",
       "        text-align: right;\n",
       "    }\n",
       "\n",
       "    .dataframe thead th {\n",
       "        text-align: left;\n",
       "    }\n",
       "\n",
       "    .dataframe tbody tr th {\n",
       "        vertical-align: top;\n",
       "    }\n",
       "</style>\n",
       "<table border=\"1\" class=\"dataframe\">\n",
       "  <thead>\n",
       "    <tr style=\"text-align: right;\">\n",
       "      <th></th>\n",
       "      <th>Bx</th>\n",
       "      <th>By</th>\n",
       "      <th>Bz</th>\n",
       "      <th>I</th>\n",
       "      <th>Latitude</th>\n",
       "      <th>Longitude</th>\n",
       "      <th>Speed (m/s)</th>\n",
       "      <th>Unnamed: 11</th>\n",
       "      <th>Unnamed: 12</th>\n",
       "      <th>Unnamed: 17</th>\n",
       "      <th>...</th>\n",
       "      <th>mingforce</th>\n",
       "      <th>mingyro</th>\n",
       "      <th>p</th>\n",
       "      <th>source</th>\n",
       "      <th>time</th>\n",
       "      <th>vgforce</th>\n",
       "      <th>vgyro</th>\n",
       "      <th>wx</th>\n",
       "      <th>wy</th>\n",
       "      <th>wz</th>\n",
       "    </tr>\n",
       "  </thead>\n",
       "  <tbody>\n",
       "    <tr>\n",
       "      <th>250</th>\n",
       "      <td>-33.2520</td>\n",
       "      <td>16.5787</td>\n",
       "      <td>24.9786</td>\n",
       "      <td>NaN</td>\n",
       "      <td>NaN</td>\n",
       "      <td>NaN</td>\n",
       "      <td>NaN</td>\n",
       "      <td>NaN</td>\n",
       "      <td>NaN</td>\n",
       "      <td>NaN</td>\n",
       "      <td>...</td>\n",
       "      <td>0.74283</td>\n",
       "      <td>0.618111</td>\n",
       "      <td>978.6391</td>\n",
       "      <td>SwingRightPhoneDownScBody.csv</td>\n",
       "      <td>5.541</td>\n",
       "      <td>0.132965</td>\n",
       "      <td>0.680789</td>\n",
       "      <td>0.2297</td>\n",
       "      <td>-0.6073</td>\n",
       "      <td>-2.1202</td>\n",
       "    </tr>\n",
       "    <tr>\n",
       "      <th>251</th>\n",
       "      <td>-33.2520</td>\n",
       "      <td>16.5787</td>\n",
       "      <td>24.9786</td>\n",
       "      <td>NaN</td>\n",
       "      <td>NaN</td>\n",
       "      <td>NaN</td>\n",
       "      <td>NaN</td>\n",
       "      <td>NaN</td>\n",
       "      <td>NaN</td>\n",
       "      <td>NaN</td>\n",
       "      <td>...</td>\n",
       "      <td>0.74283</td>\n",
       "      <td>0.618111</td>\n",
       "      <td>978.6391</td>\n",
       "      <td>SwingRightPhoneDownScBody.csv</td>\n",
       "      <td>5.575</td>\n",
       "      <td>0.132745</td>\n",
       "      <td>0.674055</td>\n",
       "      <td>0.2297</td>\n",
       "      <td>-0.6073</td>\n",
       "      <td>-2.1202</td>\n",
       "    </tr>\n",
       "    <tr>\n",
       "      <th>252</th>\n",
       "      <td>-32.9803</td>\n",
       "      <td>16.1774</td>\n",
       "      <td>24.9710</td>\n",
       "      <td>NaN</td>\n",
       "      <td>NaN</td>\n",
       "      <td>NaN</td>\n",
       "      <td>NaN</td>\n",
       "      <td>NaN</td>\n",
       "      <td>NaN</td>\n",
       "      <td>NaN</td>\n",
       "      <td>...</td>\n",
       "      <td>0.74283</td>\n",
       "      <td>0.618111</td>\n",
       "      <td>978.6391</td>\n",
       "      <td>SwingRightPhoneDownScBody.csv</td>\n",
       "      <td>5.626</td>\n",
       "      <td>0.132521</td>\n",
       "      <td>0.667243</td>\n",
       "      <td>0.2297</td>\n",
       "      <td>-0.6073</td>\n",
       "      <td>-2.1202</td>\n",
       "    </tr>\n",
       "    <tr>\n",
       "      <th>253</th>\n",
       "      <td>-32.9803</td>\n",
       "      <td>16.1774</td>\n",
       "      <td>24.9710</td>\n",
       "      <td>NaN</td>\n",
       "      <td>NaN</td>\n",
       "      <td>NaN</td>\n",
       "      <td>NaN</td>\n",
       "      <td>NaN</td>\n",
       "      <td>NaN</td>\n",
       "      <td>NaN</td>\n",
       "      <td>...</td>\n",
       "      <td>0.74283</td>\n",
       "      <td>0.618111</td>\n",
       "      <td>978.6391</td>\n",
       "      <td>SwingRightPhoneDownScBody.csv</td>\n",
       "      <td>5.634</td>\n",
       "      <td>0.131412</td>\n",
       "      <td>0.662967</td>\n",
       "      <td>-0.9014</td>\n",
       "      <td>0.5965</td>\n",
       "      <td>1.4121</td>\n",
       "    </tr>\n",
       "    <tr>\n",
       "      <th>254</th>\n",
       "      <td>-32.9803</td>\n",
       "      <td>16.1774</td>\n",
       "      <td>24.9710</td>\n",
       "      <td>NaN</td>\n",
       "      <td>NaN</td>\n",
       "      <td>NaN</td>\n",
       "      <td>NaN</td>\n",
       "      <td>NaN</td>\n",
       "      <td>NaN</td>\n",
       "      <td>NaN</td>\n",
       "      <td>...</td>\n",
       "      <td>0.74283</td>\n",
       "      <td>0.618111</td>\n",
       "      <td>978.6391</td>\n",
       "      <td>SwingRightPhoneDownScBody.csv</td>\n",
       "      <td>5.637</td>\n",
       "      <td>0.130288</td>\n",
       "      <td>0.658675</td>\n",
       "      <td>-0.9014</td>\n",
       "      <td>0.5965</td>\n",
       "      <td>1.4121</td>\n",
       "    </tr>\n",
       "  </tbody>\n",
       "</table>\n",
       "<p>5 rows × 39 columns</p>\n",
       "</div>"
      ],
      "text/plain": [
       "          Bx       By       Bz   I  Latitude  Longitude  Speed (m/s)  \\\n",
       "250 -33.2520  16.5787  24.9786 NaN       NaN        NaN          NaN   \n",
       "251 -33.2520  16.5787  24.9786 NaN       NaN        NaN          NaN   \n",
       "252 -32.9803  16.1774  24.9710 NaN       NaN        NaN          NaN   \n",
       "253 -32.9803  16.1774  24.9710 NaN       NaN        NaN          NaN   \n",
       "254 -32.9803  16.1774  24.9710 NaN       NaN        NaN          NaN   \n",
       "\n",
       "     Unnamed: 11  Unnamed: 12  Unnamed: 17   ...    mingforce   mingyro  \\\n",
       "250          NaN          NaN          NaN   ...      0.74283  0.618111   \n",
       "251          NaN          NaN          NaN   ...      0.74283  0.618111   \n",
       "252          NaN          NaN          NaN   ...      0.74283  0.618111   \n",
       "253          NaN          NaN          NaN   ...      0.74283  0.618111   \n",
       "254          NaN          NaN          NaN   ...      0.74283  0.618111   \n",
       "\n",
       "            p                         source   time   vgforce     vgyro  \\\n",
       "250  978.6391  SwingRightPhoneDownScBody.csv  5.541  0.132965  0.680789   \n",
       "251  978.6391  SwingRightPhoneDownScBody.csv  5.575  0.132745  0.674055   \n",
       "252  978.6391  SwingRightPhoneDownScBody.csv  5.626  0.132521  0.667243   \n",
       "253  978.6391  SwingRightPhoneDownScBody.csv  5.634  0.131412  0.662967   \n",
       "254  978.6391  SwingRightPhoneDownScBody.csv  5.637  0.130288  0.658675   \n",
       "\n",
       "         wx      wy      wz  \n",
       "250  0.2297 -0.6073 -2.1202  \n",
       "251  0.2297 -0.6073 -2.1202  \n",
       "252  0.2297 -0.6073 -2.1202  \n",
       "253 -0.9014  0.5965  1.4121  \n",
       "254 -0.9014  0.5965  1.4121  \n",
       "\n",
       "[5 rows x 39 columns]"
      ]
     },
     "execution_count": 22,
     "metadata": {},
     "output_type": "execute_result"
    }
   ],
   "source": [
    "rdf.head()"
   ]
  },
  {
   "cell_type": "code",
   "execution_count": 42,
   "metadata": {},
   "outputs": [
    {
     "data": {
      "text/plain": [
       "devicemodeDescription\n",
       "pocket     55748\n",
       "swing      97944\n",
       "texting    48460\n",
       "Name: devicemode, dtype: int64"
      ]
     },
     "execution_count": 42,
     "metadata": {},
     "output_type": "execute_result"
    }
   ],
   "source": [
    "rdf.groupby('devicemodeDescription').devicemode.count()"
   ]
  },
  {
   "cell_type": "code",
   "execution_count": 43,
   "metadata": {},
   "outputs": [
    {
     "data": {
      "text/plain": [
       "source\n",
       "LeftPocketJeansNormalWalk.csv                             6074\n",
       "PocketLeftJeansNormlWalk.csv                              6325\n",
       "PocketLeftNormalWalking.csv                               6025\n",
       "RightPocket.csv                                           6987\n",
       "SwingLeftHand.csv                                         2796\n",
       "SwingLeftNormal.csv                                       5375\n",
       "SwingRight2.csv                                           6745\n",
       "SwingRightPhoneDown.csv                                   7062\n",
       "SwingRightPhoneDownScBody.csv                             8759\n",
       "TextingLeftHand5.csv                                      6602\n",
       "TextingPointingDorwatd.csv                                6175\n",
       "TextingRight.csv                                          5310\n",
       "alex-htc-pocket-walking-2017-09-1114.54.57.csv           19011\n",
       "alex-htc-swing-walking-2017-09-1115.00.28.csv             4204\n",
       "alon-lg2-pocket-walking-2017-09-1113.12.35.csv            5663\n",
       "alonz-htc-swing-walking-2017-09-1215.20.13.csv            4416\n",
       "alonz-htc-texting-walking-2017-09-1215.15.43.csv          3239\n",
       "ariella_lg3_swing_2017-09-1215.45.47.csv                  4870\n",
       "ariella_lg3_texting_2017-09-1215.42.51.csv                6925\n",
       "miri-htc-pocket-walking-2017-09-1113.12.35.csv            5663\n",
       "miri-htc-swing-walking-2017-09-1113.09.53.csv             2347\n",
       "miri-htc-texting-walking-2017-09-1113.03.40.csv          11784\n",
       "nisan-S6-swing-walking-2017-09-1215.45.48.csv             3238\n",
       "nisan-S6-texting-walking-2017-09-1215.43.03.csv           4595\n",
       "swing2.csv                                               11320\n",
       "swing4.csv                                                6285\n",
       "swingLeftHandPhoneDownScBody.csv                         10109\n",
       "yehiyam-nexus5-swing-walking-2-2017-09-1113.25.02.csv     3226\n",
       "yehiyam-nexus5-swing-walking-2017-09-1113.25.00.csv       5916\n",
       "yuval-htc-swing_walking-2017-09-0316.04.51.csv           11276\n",
       "yuval-htc-texting-walking-2017-09-0315.53.12.csv          3830\n",
       "Name: devicemode, dtype: int64"
      ]
     },
     "execution_count": 43,
     "metadata": {},
     "output_type": "execute_result"
    }
   ],
   "source": [
    "rdf.groupby('source').devicemode.count()"
   ]
  },
  {
   "cell_type": "markdown",
   "metadata": {},
   "source": [
    "#### visualize features "
   ]
  },
  {
   "cell_type": "code",
   "execution_count": 38,
   "metadata": {},
   "outputs": [
    {
     "name": "stdout",
     "output_type": "stream",
     "text": [
      "<pandas.core.groupby.SeriesGroupBy object at 0x7f1eecbb6f90>\n"
     ]
    }
   ],
   "source": [
    "print (rdf.groupby('source').devicemode)"
   ]
  },
  {
   "cell_type": "code",
   "execution_count": 40,
   "metadata": {},
   "outputs": [
    {
     "name": "stdout",
     "output_type": "stream",
     "text": [
      "devicemode\n",
      "0    55748\n",
      "1    97944\n",
      "2    48460\n",
      "Name: devicemode, dtype: int64\n"
     ]
    }
   ],
   "source": [
    "pocket = rdf[rdf.devicemode == 0]\n",
    "print(rdf.groupby('devicemodedesc').devicemode.count())"
   ]
  },
  {
   "cell_type": "markdown",
   "metadata": {},
   "source": [
    "## cross_validation (  group by source proprty ) \n",
    "K-fold iterator variant with non-overlapping groups.\n",
    "The same group will not appear in two different folds\n",
    "The number of distinct groups has to be at least equal to the number of folds.\n",
    "The folds are approximately balanced in the sense that the number of distinct groups is approximately the same in each fold."
   ]
  },
  {
   "cell_type": "code",
   "execution_count": 24,
   "metadata": {},
   "outputs": [
    {
     "data": {
      "text/html": [
       "<div>\n",
       "<style>\n",
       "    .dataframe thead tr:only-child th {\n",
       "        text-align: right;\n",
       "    }\n",
       "\n",
       "    .dataframe thead th {\n",
       "        text-align: left;\n",
       "    }\n",
       "\n",
       "    .dataframe tbody tr th {\n",
       "        vertical-align: top;\n",
       "    }\n",
       "</style>\n",
       "<table border=\"1\" class=\"dataframe\">\n",
       "  <thead>\n",
       "    <tr style=\"text-align: right;\">\n",
       "      <th></th>\n",
       "      <th>agforce</th>\n",
       "      <th>agyro</th>\n",
       "      <th>mgforce</th>\n",
       "      <th>mgyro</th>\n",
       "      <th>vgforce</th>\n",
       "      <th>vgyro</th>\n",
       "      <th>maxgforce</th>\n",
       "      <th>maxgyro</th>\n",
       "      <th>mingforce</th>\n",
       "      <th>mingyro</th>\n",
       "      <th>ampgforce</th>\n",
       "      <th>ampgyro</th>\n",
       "    </tr>\n",
       "  </thead>\n",
       "  <tbody>\n",
       "    <tr>\n",
       "      <th>250</th>\n",
       "      <td>1.314327</td>\n",
       "      <td>2.358790</td>\n",
       "      <td>1.301040</td>\n",
       "      <td>2.631593</td>\n",
       "      <td>0.132965</td>\n",
       "      <td>0.680789</td>\n",
       "      <td>2.094436</td>\n",
       "      <td>3.294189</td>\n",
       "      <td>0.74283</td>\n",
       "      <td>0.618111</td>\n",
       "      <td>1.351606</td>\n",
       "      <td>2.676079</td>\n",
       "    </tr>\n",
       "    <tr>\n",
       "      <th>251</th>\n",
       "      <td>1.315529</td>\n",
       "      <td>2.364974</td>\n",
       "      <td>1.304636</td>\n",
       "      <td>2.631593</td>\n",
       "      <td>0.132745</td>\n",
       "      <td>0.674055</td>\n",
       "      <td>2.094436</td>\n",
       "      <td>3.294189</td>\n",
       "      <td>0.74283</td>\n",
       "      <td>0.618111</td>\n",
       "      <td>1.351606</td>\n",
       "      <td>2.676079</td>\n",
       "    </tr>\n",
       "    <tr>\n",
       "      <th>252</th>\n",
       "      <td>1.316730</td>\n",
       "      <td>2.371158</td>\n",
       "      <td>1.304636</td>\n",
       "      <td>2.631593</td>\n",
       "      <td>0.132521</td>\n",
       "      <td>0.667243</td>\n",
       "      <td>2.094436</td>\n",
       "      <td>3.294189</td>\n",
       "      <td>0.74283</td>\n",
       "      <td>0.618111</td>\n",
       "      <td>1.351606</td>\n",
       "      <td>2.676079</td>\n",
       "    </tr>\n",
       "    <tr>\n",
       "      <th>253</th>\n",
       "      <td>1.319528</td>\n",
       "      <td>2.373912</td>\n",
       "      <td>1.304636</td>\n",
       "      <td>2.631593</td>\n",
       "      <td>0.131412</td>\n",
       "      <td>0.662967</td>\n",
       "      <td>2.094436</td>\n",
       "      <td>3.294189</td>\n",
       "      <td>0.74283</td>\n",
       "      <td>0.618111</td>\n",
       "      <td>1.351606</td>\n",
       "      <td>2.676079</td>\n",
       "    </tr>\n",
       "    <tr>\n",
       "      <th>254</th>\n",
       "      <td>1.322326</td>\n",
       "      <td>2.376665</td>\n",
       "      <td>1.304636</td>\n",
       "      <td>2.631593</td>\n",
       "      <td>0.130288</td>\n",
       "      <td>0.658675</td>\n",
       "      <td>2.094436</td>\n",
       "      <td>3.294189</td>\n",
       "      <td>0.74283</td>\n",
       "      <td>0.618111</td>\n",
       "      <td>1.351606</td>\n",
       "      <td>2.676079</td>\n",
       "    </tr>\n",
       "  </tbody>\n",
       "</table>\n",
       "</div>"
      ],
      "text/plain": [
       "      agforce     agyro   mgforce     mgyro   vgforce     vgyro  maxgforce  \\\n",
       "250  1.314327  2.358790  1.301040  2.631593  0.132965  0.680789   2.094436   \n",
       "251  1.315529  2.364974  1.304636  2.631593  0.132745  0.674055   2.094436   \n",
       "252  1.316730  2.371158  1.304636  2.631593  0.132521  0.667243   2.094436   \n",
       "253  1.319528  2.373912  1.304636  2.631593  0.131412  0.662967   2.094436   \n",
       "254  1.322326  2.376665  1.304636  2.631593  0.130288  0.658675   2.094436   \n",
       "\n",
       "      maxgyro  mingforce   mingyro  ampgforce   ampgyro  \n",
       "250  3.294189    0.74283  0.618111   1.351606  2.676079  \n",
       "251  3.294189    0.74283  0.618111   1.351606  2.676079  \n",
       "252  3.294189    0.74283  0.618111   1.351606  2.676079  \n",
       "253  3.294189    0.74283  0.618111   1.351606  2.676079  \n",
       "254  3.294189    0.74283  0.618111   1.351606  2.676079  "
      ]
     },
     "execution_count": 24,
     "metadata": {},
     "output_type": "execute_result"
    }
   ],
   "source": [
    "# take only relevants features :\n",
    "df = rdf[FEATURES]\n",
    "df.head()"
   ]
  },
  {
   "cell_type": "code",
   "execution_count": 27,
   "metadata": {},
   "outputs": [
    {
     "data": {
      "image/png": "[encoded data removed]",
      "text/plain": [
       "<matplotlib.figure.Figure at 0x7f1eeccf0390>"
      ]
     },
     "metadata": {},
     "output_type": "display_data"
    }
   ],
   "source": [
    "    ## set minimum peak height = 0 and minimum peak distance = 20\n",
    "    p test = df[]\n",
    "    peaks_ind = detect_peaks(df['agforce'], mph=0, mpd=200, show=True)"
   ]
  },
  {
   "cell_type": "code",
   "execution_count": 11,
   "metadata": {
    "collapsed": true
   },
   "outputs": [],
   "source": [
    "k= len(rdf.source.unique()) \n",
    "x_train= df\n",
    "y_train = rdf.devicemode\n",
    "forest = RandomForestClassifier()\n",
    "tree = DecisionTreeClassifier()\n",
    "knn5 = KNeighborsClassifier(n_neighbors=5)\n",
    "lin_svm = svm.LinearSVC() ## (C=1.0, class_weight=None, dual=True, fit_intercept=True,\n",
    "                         ## intercept_scaling=1, loss='squared_hinge', max_iter=1000,\n",
    "                         ## multi_class='ovr', penalty='l2', random_state=None, tol=0.0001, verbose=0)"
   ]
  },
  {
   "cell_type": "code",
   "execution_count": 12,
   "metadata": {
    "collapsed": true
   },
   "outputs": [],
   "source": [
    "def sourceFold(): \n",
    "    print ('list of source files for each kfold : ' )    \n",
    "    _kfold = GroupKFold(n_splits=k) \n",
    "    _itr = _kfold.split(x_train, y_train, groups=rdf.source)  \n",
    "    c = 0 \n",
    "    sf = {}\n",
    "    for i in _itr:\n",
    "        ## print (c , str(rdf.iloc[i[1]].source.unique()))\n",
    "        sf[c]= str(rdf.iloc[i[1]].source.unique())\n",
    "        c = c+1\n",
    "    return sf "
   ]
  },
  {
   "cell_type": "code",
   "execution_count": 13,
   "metadata": {
    "collapsed": true
   },
   "outputs": [],
   "source": [
    "def CalcKFoldAccuracy(classifier,X,Y, scoring,k):\n",
    "    group_kfold = GroupKFold(n_splits=k)     \n",
    "    groups_itr = group_kfold.split(x_train, y_train, groups=rdf.source)    \n",
    "    ## for _i in groups_itr:\n",
    "       ## print (rdf.iloc[_i[1]].source.unique())\n",
    "    return cross_val_score(classifier, X, Y, cv=groups_itr, scoring=scoring)"
   ]
  },
  {
   "cell_type": "code",
   "execution_count": 14,
   "metadata": {},
   "outputs": [
    {
     "name": "stdout",
     "output_type": "stream",
     "text": [
      "list of source files for each kfold : \n",
      "(0.30114144442691071, '  ', \"['alex-htc-pocket-walking-2017-09-1114.54.57.csv']\")\n",
      "(0.30719619823489475, '  ', \"['miri-htc-texting-walking-2017-09-1113.03.40.csv']\")\n",
      "(0.91210247349823326, '  ', \"['swing2.csv']\")\n",
      "(0.66184817311103228, '  ', \"['yuval-htc-swing_walking-2017-09-0316.04.51.csv']\")\n",
      "(0.77465624690869517, '  ', \"['swingLeftHandPhoneDownScBody.csv']\")\n",
      "(0.9521634889827606, '  ', \"['SwingRightPhoneDownScBody.csv']\")\n",
      "(0.88685924667233074, '  ', \"['SwingRightPhoneDown.csv']\")\n",
      "(0.74395305567482473, '  ', \"['RightPocket.csv']\")\n",
      "(0.72303249097472921, '  ', \"['ariella_lg3_texting_2017-09-1215.42.51.csv']\")\n",
      "(0.98650852483320983, '  ', \"['SwingRight2.csv']\")\n",
      "(0.85004544077552258, '  ', \"['TextingLeftHand5.csv']\")\n",
      "(0.22861660079051382, '  ', \"['PocketLeftJeansNormlWalk.csv']\")\n",
      "(0.85552903739061259, '  ', \"['swing4.csv']\")\n",
      "(0.4903643724696356, '  ', \"['TextingPointingDorwatd.csv']\")\n",
      "(0.008231807704972012, '  ', \"['LeftPocketJeansNormalWalk.csv']\")\n",
      "(0.58390041493775935, '  ', \"['PocketLeftNormalWalking.csv']\")\n",
      "(0.21501014198782961, '  ', \"['yehiyam-nexus5-swing-walking-2017-09-1113.25.00.csv']\")\n",
      "(0.99841073635882038, '  ', \"['alon-lg2-pocket-walking-2017-09-1113.12.35.csv']\")\n",
      "(0.99841073635882038, '  ', \"['miri-htc-pocket-walking-2017-09-1113.12.35.csv']\")\n",
      "(0.51404651162790693, '  ', \"['SwingLeftNormal.csv']\")\n",
      "(0.98531073446327688, '  ', \"['TextingRight.csv']\")\n",
      "(0.73572895277207395, '  ', \"['ariella_lg3_swing_2017-09-1215.45.47.csv']\")\n",
      "(0.81305767138193685, '  ', \"['nisan-S6-texting-walking-2017-09-1215.43.03.csv']\")\n",
      "(0.39334239130434784, '  ', \"['alonz-htc-swing-walking-2017-09-1215.20.13.csv']\")\n",
      "(0.72121788772597528, '  ', \"['alex-htc-swing-walking-2017-09-1115.00.28.csv']\")\n",
      "(0.89869451697127933, '  ', \"['yuval-htc-texting-walking-2017-09-0315.53.12.csv']\")\n",
      "(0.50540290213028716, '  ', \"['alonz-htc-texting-walking-2017-09-1215.15.43.csv']\")\n",
      "(0.49073502161828292, '  ', \"['nisan-S6-swing-walking-2017-09-1215.45.48.csv']\")\n",
      "(0.10353378797272164, '  ', \"['yehiyam-nexus5-swing-walking-2-2017-09-1113.25.02.csv']\")\n",
      "(0.91809728183118744, '  ', \"['SwingLeftHand.csv']\")\n",
      "(0.12143161482743929, '  ', \"['miri-htc-swing-walking-2017-09-1113.09.53.csv']\")\n"
     ]
    }
   ],
   "source": [
    "scoring='accuracy' \n",
    "sf = sourceFold()\n",
    "fa = CalcKFoldAccuracy(knn5,x_train,y_train,scoring,k)\n",
    "for i in range(k):\n",
    "    print(fa[i] , '  ' , sf[i])"
   ]
  },
  {
   "cell_type": "code",
   "execution_count": null,
   "metadata": {},
   "outputs": [
    {
     "name": "stdout",
     "output_type": "stream",
     "text": [
      "KNN : \n",
      "0.634792900217\n",
      "RF : \n",
      "0.683908652019\n",
      "SVM : \n"
     ]
    }
   ],
   "source": [
    "scoring='accuracy' \n",
    "print ('KNN : ')\n",
    "print (CalcKFoldAccuracy(knn5,x_train,y_train,scoring,k).mean())\n",
    "print ('RF : ')\n",
    "print (CalcKFoldAccuracy(forest,x_train,y_train, scoring,k).mean())\n",
    "print ('SVM : ')\n",
    "print (CalcKFoldAccuracy(lin_svm,x_train,y_train, scoring,k).mean())"
   ]
  },
  {
   "cell_type": "markdown",
   "metadata": {},
   "source": [
    "#### Feature importance "
   ]
  },
  {
   "cell_type": "code",
   "execution_count": 23,
   "metadata": {},
   "outputs": [
    {
     "data": {
      "text/plain": [
       "<matplotlib.axes._subplots.AxesSubplot at 0x7f041c967dd0>"
      ]
     },
     "execution_count": 23,
     "metadata": {},
     "output_type": "execute_result"
    },
    {
     "data": {
      "image/png": "[encoded data removed]",
      "text/plain": [
       "<matplotlib.figure.Figure at 0x7f041c967a50>"
      ]
     },
     "metadata": {},
     "output_type": "display_data"
    }
   ],
   "source": [
    "forest.fit(x_train,y_train)\n",
    "sns.barplot(y=x_train.columns,x=forest.feature_importances_,orient=\"h\" )"
   ]
  },
  {
   "cell_type": "markdown",
   "metadata": {},
   "source": [
    "### visualize"
   ]
  },
  {
   "cell_type": "code",
   "execution_count": 24,
   "metadata": {},
   "outputs": [
    {
     "data": {
      "text/html": [
       "<div>\n",
       "<style>\n",
       "    .dataframe thead tr:only-child th {\n",
       "        text-align: right;\n",
       "    }\n",
       "\n",
       "    .dataframe thead th {\n",
       "        text-align: left;\n",
       "    }\n",
       "\n",
       "    .dataframe tbody tr th {\n",
       "        vertical-align: top;\n",
       "    }\n",
       "</style>\n",
       "<table border=\"1\" class=\"dataframe\">\n",
       "  <thead>\n",
       "    <tr style=\"text-align: right;\">\n",
       "      <th></th>\n",
       "      <th>agforce</th>\n",
       "      <th>agyro</th>\n",
       "      <th>mgforce</th>\n",
       "      <th>mgyro</th>\n",
       "      <th>vgforce</th>\n",
       "      <th>vgyro</th>\n",
       "      <th>maxgforce</th>\n",
       "      <th>maxgyro</th>\n",
       "      <th>mingforce</th>\n",
       "      <th>minxgyro</th>\n",
       "      <th>ampgforce</th>\n",
       "      <th>ampxgyro</th>\n",
       "      <th>devicemode</th>\n",
       "    </tr>\n",
       "  </thead>\n",
       "  <tbody>\n",
       "    <tr>\n",
       "      <th>agforce</th>\n",
       "      <td>1.000000</td>\n",
       "      <td>0.696062</td>\n",
       "      <td>0.820978</td>\n",
       "      <td>0.764672</td>\n",
       "      <td>0.499679</td>\n",
       "      <td>0.246872</td>\n",
       "      <td>0.537963</td>\n",
       "      <td>0.439780</td>\n",
       "      <td>0.117562</td>\n",
       "      <td>0.515889</td>\n",
       "      <td>0.416149</td>\n",
       "      <td>0.160473</td>\n",
       "      <td>-0.260831</td>\n",
       "    </tr>\n",
       "    <tr>\n",
       "      <th>agyro</th>\n",
       "      <td>0.696062</td>\n",
       "      <td>1.000000</td>\n",
       "      <td>0.537844</td>\n",
       "      <td>0.966930</td>\n",
       "      <td>0.491066</td>\n",
       "      <td>0.680385</td>\n",
       "      <td>0.489151</td>\n",
       "      <td>0.877253</td>\n",
       "      <td>-0.196795</td>\n",
       "      <td>0.725319</td>\n",
       "      <td>0.464919</td>\n",
       "      <td>0.558558</td>\n",
       "      <td>-0.599857</td>\n",
       "    </tr>\n",
       "    <tr>\n",
       "      <th>mgforce</th>\n",
       "      <td>0.820978</td>\n",
       "      <td>0.537844</td>\n",
       "      <td>1.000000</td>\n",
       "      <td>0.612023</td>\n",
       "      <td>0.248036</td>\n",
       "      <td>0.162738</td>\n",
       "      <td>0.205913</td>\n",
       "      <td>0.320771</td>\n",
       "      <td>0.105244</td>\n",
       "      <td>0.366937</td>\n",
       "      <td>0.142122</td>\n",
       "      <td>0.100235</td>\n",
       "      <td>-0.048216</td>\n",
       "    </tr>\n",
       "    <tr>\n",
       "      <th>mgyro</th>\n",
       "      <td>0.764672</td>\n",
       "      <td>0.966930</td>\n",
       "      <td>0.612023</td>\n",
       "      <td>1.000000</td>\n",
       "      <td>0.467247</td>\n",
       "      <td>0.543378</td>\n",
       "      <td>0.477024</td>\n",
       "      <td>0.767388</td>\n",
       "      <td>-0.126802</td>\n",
       "      <td>0.693260</td>\n",
       "      <td>0.434839</td>\n",
       "      <td>0.434854</td>\n",
       "      <td>-0.528336</td>\n",
       "    </tr>\n",
       "    <tr>\n",
       "      <th>vgforce</th>\n",
       "      <td>0.499679</td>\n",
       "      <td>0.491066</td>\n",
       "      <td>0.248036</td>\n",
       "      <td>0.467247</td>\n",
       "      <td>1.000000</td>\n",
       "      <td>0.275201</td>\n",
       "      <td>0.873485</td>\n",
       "      <td>0.381973</td>\n",
       "      <td>-0.583507</td>\n",
       "      <td>0.460764</td>\n",
       "      <td>0.896341</td>\n",
       "      <td>0.207177</td>\n",
       "      <td>-0.371557</td>\n",
       "    </tr>\n",
       "    <tr>\n",
       "      <th>vgyro</th>\n",
       "      <td>0.246872</td>\n",
       "      <td>0.680385</td>\n",
       "      <td>0.162738</td>\n",
       "      <td>0.543378</td>\n",
       "      <td>0.275201</td>\n",
       "      <td>1.000000</td>\n",
       "      <td>0.232096</td>\n",
       "      <td>0.900254</td>\n",
       "      <td>-0.215152</td>\n",
       "      <td>0.318886</td>\n",
       "      <td>0.255296</td>\n",
       "      <td>0.779359</td>\n",
       "      <td>-0.483653</td>\n",
       "    </tr>\n",
       "    <tr>\n",
       "      <th>maxgforce</th>\n",
       "      <td>0.537963</td>\n",
       "      <td>0.489151</td>\n",
       "      <td>0.205913</td>\n",
       "      <td>0.477024</td>\n",
       "      <td>0.873485</td>\n",
       "      <td>0.232096</td>\n",
       "      <td>1.000000</td>\n",
       "      <td>0.350825</td>\n",
       "      <td>-0.462329</td>\n",
       "      <td>0.479277</td>\n",
       "      <td>0.967559</td>\n",
       "      <td>0.166383</td>\n",
       "      <td>-0.465318</td>\n",
       "    </tr>\n",
       "    <tr>\n",
       "      <th>maxgyro</th>\n",
       "      <td>0.439780</td>\n",
       "      <td>0.877253</td>\n",
       "      <td>0.320771</td>\n",
       "      <td>0.767388</td>\n",
       "      <td>0.381973</td>\n",
       "      <td>0.900254</td>\n",
       "      <td>0.350825</td>\n",
       "      <td>1.000000</td>\n",
       "      <td>-0.245813</td>\n",
       "      <td>0.549110</td>\n",
       "      <td>0.363268</td>\n",
       "      <td>0.775880</td>\n",
       "      <td>-0.595594</td>\n",
       "    </tr>\n",
       "    <tr>\n",
       "      <th>mingforce</th>\n",
       "      <td>0.117562</td>\n",
       "      <td>-0.196795</td>\n",
       "      <td>0.105244</td>\n",
       "      <td>-0.126802</td>\n",
       "      <td>-0.583507</td>\n",
       "      <td>-0.215152</td>\n",
       "      <td>-0.462329</td>\n",
       "      <td>-0.245813</td>\n",
       "      <td>1.000000</td>\n",
       "      <td>-0.235746</td>\n",
       "      <td>-0.671354</td>\n",
       "      <td>-0.203586</td>\n",
       "      <td>0.242336</td>\n",
       "    </tr>\n",
       "    <tr>\n",
       "      <th>minxgyro</th>\n",
       "      <td>0.515889</td>\n",
       "      <td>0.725319</td>\n",
       "      <td>0.366937</td>\n",
       "      <td>0.693260</td>\n",
       "      <td>0.460764</td>\n",
       "      <td>0.318886</td>\n",
       "      <td>0.479277</td>\n",
       "      <td>0.549110</td>\n",
       "      <td>-0.235746</td>\n",
       "      <td>1.000000</td>\n",
       "      <td>0.467764</td>\n",
       "      <td>0.279480</td>\n",
       "      <td>-0.439512</td>\n",
       "    </tr>\n",
       "    <tr>\n",
       "      <th>ampgforce</th>\n",
       "      <td>0.416149</td>\n",
       "      <td>0.464919</td>\n",
       "      <td>0.142122</td>\n",
       "      <td>0.434839</td>\n",
       "      <td>0.896341</td>\n",
       "      <td>0.255296</td>\n",
       "      <td>0.967559</td>\n",
       "      <td>0.363268</td>\n",
       "      <td>-0.671354</td>\n",
       "      <td>0.467764</td>\n",
       "      <td>1.000000</td>\n",
       "      <td>0.197075</td>\n",
       "      <td>-0.457974</td>\n",
       "    </tr>\n",
       "    <tr>\n",
       "      <th>ampxgyro</th>\n",
       "      <td>0.160473</td>\n",
       "      <td>0.558558</td>\n",
       "      <td>0.100235</td>\n",
       "      <td>0.434854</td>\n",
       "      <td>0.207177</td>\n",
       "      <td>0.779359</td>\n",
       "      <td>0.166383</td>\n",
       "      <td>0.775880</td>\n",
       "      <td>-0.203586</td>\n",
       "      <td>0.279480</td>\n",
       "      <td>0.197075</td>\n",
       "      <td>1.000000</td>\n",
       "      <td>-0.412347</td>\n",
       "    </tr>\n",
       "    <tr>\n",
       "      <th>devicemode</th>\n",
       "      <td>-0.260831</td>\n",
       "      <td>-0.599857</td>\n",
       "      <td>-0.048216</td>\n",
       "      <td>-0.528336</td>\n",
       "      <td>-0.371557</td>\n",
       "      <td>-0.483653</td>\n",
       "      <td>-0.465318</td>\n",
       "      <td>-0.595594</td>\n",
       "      <td>0.242336</td>\n",
       "      <td>-0.439512</td>\n",
       "      <td>-0.457974</td>\n",
       "      <td>-0.412347</td>\n",
       "      <td>1.000000</td>\n",
       "    </tr>\n",
       "  </tbody>\n",
       "</table>\n",
       "</div>"
      ],
      "text/plain": [
       "             agforce     agyro   mgforce     mgyro   vgforce     vgyro  \\\n",
       "agforce     1.000000  0.696062  0.820978  0.764672  0.499679  0.246872   \n",
       "agyro       0.696062  1.000000  0.537844  0.966930  0.491066  0.680385   \n",
       "mgforce     0.820978  0.537844  1.000000  0.612023  0.248036  0.162738   \n",
       "mgyro       0.764672  0.966930  0.612023  1.000000  0.467247  0.543378   \n",
       "vgforce     0.499679  0.491066  0.248036  0.467247  1.000000  0.275201   \n",
       "vgyro       0.246872  0.680385  0.162738  0.543378  0.275201  1.000000   \n",
       "maxgforce   0.537963  0.489151  0.205913  0.477024  0.873485  0.232096   \n",
       "maxgyro     0.439780  0.877253  0.320771  0.767388  0.381973  0.900254   \n",
       "mingforce   0.117562 -0.196795  0.105244 -0.126802 -0.583507 -0.215152   \n",
       "minxgyro    0.515889  0.725319  0.366937  0.693260  0.460764  0.318886   \n",
       "ampgforce   0.416149  0.464919  0.142122  0.434839  0.896341  0.255296   \n",
       "ampxgyro    0.160473  0.558558  0.100235  0.434854  0.207177  0.779359   \n",
       "devicemode -0.260831 -0.599857 -0.048216 -0.528336 -0.371557 -0.483653   \n",
       "\n",
       "            maxgforce   maxgyro  mingforce  minxgyro  ampgforce  ampxgyro  \\\n",
       "agforce      0.537963  0.439780   0.117562  0.515889   0.416149  0.160473   \n",
       "agyro        0.489151  0.877253  -0.196795  0.725319   0.464919  0.558558   \n",
       "mgforce      0.205913  0.320771   0.105244  0.366937   0.142122  0.100235   \n",
       "mgyro        0.477024  0.767388  -0.126802  0.693260   0.434839  0.434854   \n",
       "vgforce      0.873485  0.381973  -0.583507  0.460764   0.896341  0.207177   \n",
       "vgyro        0.232096  0.900254  -0.215152  0.318886   0.255296  0.779359   \n",
       "maxgforce    1.000000  0.350825  -0.462329  0.479277   0.967559  0.166383   \n",
       "maxgyro      0.350825  1.000000  -0.245813  0.549110   0.363268  0.775880   \n",
       "mingforce   -0.462329 -0.245813   1.000000 -0.235746  -0.671354 -0.203586   \n",
       "minxgyro     0.479277  0.549110  -0.235746  1.000000   0.467764  0.279480   \n",
       "ampgforce    0.967559  0.363268  -0.671354  0.467764   1.000000  0.197075   \n",
       "ampxgyro     0.166383  0.775880  -0.203586  0.279480   0.197075  1.000000   \n",
       "devicemode  -0.465318 -0.595594   0.242336 -0.439512  -0.457974 -0.412347   \n",
       "\n",
       "            devicemode  \n",
       "agforce      -0.260831  \n",
       "agyro        -0.599857  \n",
       "mgforce      -0.048216  \n",
       "mgyro        -0.528336  \n",
       "vgforce      -0.371557  \n",
       "vgyro        -0.483653  \n",
       "maxgforce    -0.465318  \n",
       "maxgyro      -0.595594  \n",
       "mingforce     0.242336  \n",
       "minxgyro     -0.439512  \n",
       "ampgforce    -0.457974  \n",
       "ampxgyro     -0.412347  \n",
       "devicemode    1.000000  "
      ]
     },
     "execution_count": 24,
     "metadata": {},
     "output_type": "execute_result"
    }
   ],
   "source": [
    "cor_mat = rdf[FEATURES + ['devicemode']] .corr()\n",
    "cor_mat"
   ]
  },
  {
   "cell_type": "code",
   "execution_count": 25,
   "metadata": {},
   "outputs": [
    {
     "data": {
      "text/plain": [
       "<matplotlib.axes._subplots.AxesSubplot at 0x7f04172fea10>"
      ]
     },
     "execution_count": 25,
     "metadata": {},
     "output_type": "execute_result"
    },
    {
     "data": {
      "image/png": "[encoded data removed]",
      "text/plain": [
       "<matplotlib.figure.Figure at 0x7f041c967890>"
      ]
     },
     "metadata": {},
     "output_type": "display_data"
    }
   ],
   "source": [
    "sns.heatmap(cor_mat)"
   ]
  },
  {
   "cell_type": "markdown",
   "metadata": {},
   "source": [
    "## split train & test data"
   ]
  },
  {
   "cell_type": "code",
   "execution_count": 26,
   "metadata": {
    "collapsed": true
   },
   "outputs": [],
   "source": [
    "x_train, x_test, y_train, y_test = train_test_split(df, rdf.devicemode, test_size=0.4, random_state=42,stratify=rdf.devicemode)"
   ]
  },
  {
   "cell_type": "code",
   "execution_count": 27,
   "metadata": {},
   "outputs": [
    {
     "name": "stdout",
     "output_type": "stream",
     "text": [
      "[[23886   133    24]\n",
      " [  117 39528    81]\n",
      " [   23    80 20402]]\n"
     ]
    },
    {
     "data": {
      "text/plain": [
       "<matplotlib.axes._subplots.AxesSubplot at 0x7f03f738b650>"
      ]
     },
     "execution_count": 27,
     "metadata": {},
     "output_type": "execute_result"
    },
    {
     "data": {
      "image/png": "[encoded data removed]",
      "text/plain": [
       "<matplotlib.figure.Figure at 0x7f0414009a10>"
      ]
     },
     "metadata": {},
     "output_type": "display_data"
    }
   ],
   "source": [
    "knn5 = KNeighborsClassifier(n_neighbors=5)\n",
    "knn5.fit(x_train,y_train)\n",
    "knn5_pred = knn5.predict(x_test)\n",
    "print(confusion_matrix(y_pred=knn5_pred,y_true=y_test))\n",
    "sns.heatmap(xticklabels=range(1,10),yticklabels=range(1,10),data = confusion_matrix(y_pred=knn5_pred,y_true=y_test),cmap='Greens')"
   ]
  },
  {
   "cell_type": "code",
   "execution_count": 28,
   "metadata": {},
   "outputs": [
    {
     "name": "stdout",
     "output_type": "stream",
     "text": [
      "classification report results:\r\n",
      "             precision    recall  f1-score   support\n",
      "\n",
      "          0       0.99      0.99      0.99     24043\n",
      "          1       0.99      1.00      0.99     39726\n",
      "          2       0.99      0.99      0.99     20505\n",
      "\n",
      "avg / total       0.99      0.99      0.99     84274\n",
      "\n"
     ]
    }
   ],
   "source": [
    "print('classification report results:\\r\\n' + classification_report(y_pred=knn5_pred,y_true=y_test))"
   ]
  },
  {
   "cell_type": "code",
   "execution_count": 29,
   "metadata": {},
   "outputs": [
    {
     "data": {
      "text/plain": [
       "0.99456534637017346"
      ]
     },
     "execution_count": 29,
     "metadata": {},
     "output_type": "execute_result"
    }
   ],
   "source": [
    "accuracy_score(y_test,knn5_pred)"
   ]
  },
  {
   "cell_type": "markdown",
   "metadata": {},
   "source": [
    "### validate on file outside of the train bucket "
   ]
  },
  {
   "cell_type": "code",
   "execution_count": 30,
   "metadata": {},
   "outputs": [
    {
     "name": "stdout",
     "output_type": "stream",
     "text": [
      "('loading files from : ', '../raw-data/validation/utf8')\n",
      "('loading : ', 'swing3.csv')\n",
      "('loading : ', 'Pocket2.csv')\n",
      "('loading : ', 'Texting2.csv')\n",
      "=========================================================\n",
      "('total validation samples ', 15752)\n"
     ]
    }
   ],
   "source": [
    "rvl = loadFiles(r'../raw-data/validation/utf8')\n",
    "print ('=========================================================')\n",
    "print ('total validation samples ' , len(rvl) )"
   ]
  },
  {
   "cell_type": "code",
   "execution_count": 31,
   "metadata": {},
   "outputs": [
    {
     "data": {
      "text/html": [
       "<div>\n",
       "<style>\n",
       "    .dataframe thead tr:only-child th {\n",
       "        text-align: right;\n",
       "    }\n",
       "\n",
       "    .dataframe thead th {\n",
       "        text-align: left;\n",
       "    }\n",
       "\n",
       "    .dataframe tbody tr th {\n",
       "        vertical-align: top;\n",
       "    }\n",
       "</style>\n",
       "<table border=\"1\" class=\"dataframe\">\n",
       "  <thead>\n",
       "    <tr style=\"text-align: right;\">\n",
       "      <th></th>\n",
       "      <th>time</th>\n",
       "      <th>gfx</th>\n",
       "      <th>gFy</th>\n",
       "      <th>gFz</th>\n",
       "      <th>wx</th>\n",
       "      <th>wy</th>\n",
       "      <th>wz</th>\n",
       "      <th>p</th>\n",
       "      <th>Bx</th>\n",
       "      <th>By</th>\n",
       "      <th>...</th>\n",
       "      <th>mgyro</th>\n",
       "      <th>vgforce</th>\n",
       "      <th>vgyro</th>\n",
       "      <th>maxgforce</th>\n",
       "      <th>maxgyro</th>\n",
       "      <th>mingforce</th>\n",
       "      <th>minxgyro</th>\n",
       "      <th>ampgforce</th>\n",
       "      <th>ampxgyro</th>\n",
       "      <th>light</th>\n",
       "    </tr>\n",
       "  </thead>\n",
       "  <tbody>\n",
       "    <tr>\n",
       "      <th>250</th>\n",
       "      <td>5.575</td>\n",
       "      <td>-0.7754</td>\n",
       "      <td>-0.6393</td>\n",
       "      <td>-0.0722</td>\n",
       "      <td>0.0342</td>\n",
       "      <td>-0.0166</td>\n",
       "      <td>-0.1185</td>\n",
       "      <td>978.6745</td>\n",
       "      <td>4.1412</td>\n",
       "      <td>43.5471</td>\n",
       "      <td>...</td>\n",
       "      <td>0.305435</td>\n",
       "      <td>0.039810</td>\n",
       "      <td>0.967789</td>\n",
       "      <td>1.565355</td>\n",
       "      <td>2.748156</td>\n",
       "      <td>0.354204</td>\n",
       "      <td>0.044538</td>\n",
       "      <td>1.211151</td>\n",
       "      <td>2.623707</td>\n",
       "      <td>0.0</td>\n",
       "    </tr>\n",
       "    <tr>\n",
       "      <th>251</th>\n",
       "      <td>5.576</td>\n",
       "      <td>-0.8192</td>\n",
       "      <td>-0.6118</td>\n",
       "      <td>-0.1383</td>\n",
       "      <td>0.0342</td>\n",
       "      <td>-0.0166</td>\n",
       "      <td>-0.1185</td>\n",
       "      <td>978.6745</td>\n",
       "      <td>4.1412</td>\n",
       "      <td>43.5471</td>\n",
       "      <td>...</td>\n",
       "      <td>0.305435</td>\n",
       "      <td>0.039242</td>\n",
       "      <td>0.966377</td>\n",
       "      <td>1.565355</td>\n",
       "      <td>2.748156</td>\n",
       "      <td>0.354204</td>\n",
       "      <td>0.044538</td>\n",
       "      <td>1.211151</td>\n",
       "      <td>2.623707</td>\n",
       "      <td>0.0</td>\n",
       "    </tr>\n",
       "    <tr>\n",
       "      <th>252</th>\n",
       "      <td>5.616</td>\n",
       "      <td>-0.8192</td>\n",
       "      <td>-0.6118</td>\n",
       "      <td>-0.1383</td>\n",
       "      <td>-0.2990</td>\n",
       "      <td>-0.3050</td>\n",
       "      <td>-0.1474</td>\n",
       "      <td>978.6745</td>\n",
       "      <td>4.1412</td>\n",
       "      <td>43.5471</td>\n",
       "      <td>...</td>\n",
       "      <td>0.305435</td>\n",
       "      <td>0.038664</td>\n",
       "      <td>0.962026</td>\n",
       "      <td>1.565355</td>\n",
       "      <td>2.748156</td>\n",
       "      <td>0.354204</td>\n",
       "      <td>0.044538</td>\n",
       "      <td>1.211151</td>\n",
       "      <td>2.296323</td>\n",
       "      <td>0.0</td>\n",
       "    </tr>\n",
       "    <tr>\n",
       "      <th>253</th>\n",
       "      <td>5.617</td>\n",
       "      <td>-0.8192</td>\n",
       "      <td>-0.6118</td>\n",
       "      <td>-0.1383</td>\n",
       "      <td>-0.2990</td>\n",
       "      <td>-0.3050</td>\n",
       "      <td>-0.1474</td>\n",
       "      <td>978.6745</td>\n",
       "      <td>4.1412</td>\n",
       "      <td>43.5471</td>\n",
       "      <td>...</td>\n",
       "      <td>0.305435</td>\n",
       "      <td>0.037927</td>\n",
       "      <td>0.957503</td>\n",
       "      <td>1.565355</td>\n",
       "      <td>2.748156</td>\n",
       "      <td>0.354204</td>\n",
       "      <td>0.044538</td>\n",
       "      <td>1.211151</td>\n",
       "      <td>2.296323</td>\n",
       "      <td>0.0</td>\n",
       "    </tr>\n",
       "    <tr>\n",
       "      <th>254</th>\n",
       "      <td>5.638</td>\n",
       "      <td>-0.7282</td>\n",
       "      <td>-0.6251</td>\n",
       "      <td>-0.0240</td>\n",
       "      <td>-0.2990</td>\n",
       "      <td>-0.3050</td>\n",
       "      <td>-0.1474</td>\n",
       "      <td>978.6745</td>\n",
       "      <td>4.1412</td>\n",
       "      <td>43.5471</td>\n",
       "      <td>...</td>\n",
       "      <td>0.305435</td>\n",
       "      <td>0.037203</td>\n",
       "      <td>0.952807</td>\n",
       "      <td>1.565355</td>\n",
       "      <td>2.748156</td>\n",
       "      <td>0.354204</td>\n",
       "      <td>0.044538</td>\n",
       "      <td>1.211151</td>\n",
       "      <td>2.296323</td>\n",
       "      <td>0.0</td>\n",
       "    </tr>\n",
       "  </tbody>\n",
       "</table>\n",
       "<p>5 rows × 28 columns</p>\n",
       "</div>"
      ],
      "text/plain": [
       "      time     gfx     gFy     gFz      wx      wy      wz         p      Bx  \\\n",
       "250  5.575 -0.7754 -0.6393 -0.0722  0.0342 -0.0166 -0.1185  978.6745  4.1412   \n",
       "251  5.576 -0.8192 -0.6118 -0.1383  0.0342 -0.0166 -0.1185  978.6745  4.1412   \n",
       "252  5.616 -0.8192 -0.6118 -0.1383 -0.2990 -0.3050 -0.1474  978.6745  4.1412   \n",
       "253  5.617 -0.8192 -0.6118 -0.1383 -0.2990 -0.3050 -0.1474  978.6745  4.1412   \n",
       "254  5.638 -0.7282 -0.6251 -0.0240 -0.2990 -0.3050 -0.1474  978.6745  4.1412   \n",
       "\n",
       "          By  ...       mgyro   vgforce     vgyro  maxgforce   maxgyro  \\\n",
       "250  43.5471  ...    0.305435  0.039810  0.967789   1.565355  2.748156   \n",
       "251  43.5471  ...    0.305435  0.039242  0.966377   1.565355  2.748156   \n",
       "252  43.5471  ...    0.305435  0.038664  0.962026   1.565355  2.748156   \n",
       "253  43.5471  ...    0.305435  0.037927  0.957503   1.565355  2.748156   \n",
       "254  43.5471  ...    0.305435  0.037203  0.952807   1.565355  2.748156   \n",
       "\n",
       "     mingforce  minxgyro  ampgforce  ampxgyro  light  \n",
       "250   0.354204  0.044538   1.211151  2.623707    0.0  \n",
       "251   0.354204  0.044538   1.211151  2.623707    0.0  \n",
       "252   0.354204  0.044538   1.211151  2.296323    0.0  \n",
       "253   0.354204  0.044538   1.211151  2.296323    0.0  \n",
       "254   0.354204  0.044538   1.211151  2.296323    0.0  \n",
       "\n",
       "[5 rows x 28 columns]"
      ]
     },
     "execution_count": 31,
     "metadata": {},
     "output_type": "execute_result"
    }
   ],
   "source": [
    "rvl.dropna(axis=1,inplace=True)\n",
    "rvl.drop(\"source\",axis=1).head()"
   ]
  },
  {
   "cell_type": "code",
   "execution_count": 32,
   "metadata": {},
   "outputs": [
    {
     "data": {
      "text/html": [
       "<div>\n",
       "<style>\n",
       "    .dataframe thead tr:only-child th {\n",
       "        text-align: right;\n",
       "    }\n",
       "\n",
       "    .dataframe thead th {\n",
       "        text-align: left;\n",
       "    }\n",
       "\n",
       "    .dataframe tbody tr th {\n",
       "        vertical-align: top;\n",
       "    }\n",
       "</style>\n",
       "<table border=\"1\" class=\"dataframe\">\n",
       "  <thead>\n",
       "    <tr style=\"text-align: right;\">\n",
       "      <th></th>\n",
       "      <th>agforce</th>\n",
       "      <th>agyro</th>\n",
       "      <th>mgforce</th>\n",
       "      <th>mgyro</th>\n",
       "      <th>vgforce</th>\n",
       "      <th>vgyro</th>\n",
       "      <th>maxgforce</th>\n",
       "      <th>maxgyro</th>\n",
       "      <th>mingforce</th>\n",
       "      <th>minxgyro</th>\n",
       "      <th>ampgforce</th>\n",
       "      <th>ampxgyro</th>\n",
       "    </tr>\n",
       "  </thead>\n",
       "  <tbody>\n",
       "    <tr>\n",
       "      <th>250</th>\n",
       "      <td>1.009667</td>\n",
       "      <td>0.826034</td>\n",
       "      <td>0.998835</td>\n",
       "      <td>0.305435</td>\n",
       "      <td>0.039810</td>\n",
       "      <td>0.967789</td>\n",
       "      <td>1.565355</td>\n",
       "      <td>2.748156</td>\n",
       "      <td>0.354204</td>\n",
       "      <td>0.044538</td>\n",
       "      <td>1.211151</td>\n",
       "      <td>2.623707</td>\n",
       "    </tr>\n",
       "    <tr>\n",
       "      <th>251</th>\n",
       "      <td>1.011935</td>\n",
       "      <td>0.814236</td>\n",
       "      <td>0.999904</td>\n",
       "      <td>0.305435</td>\n",
       "      <td>0.039242</td>\n",
       "      <td>0.966377</td>\n",
       "      <td>1.565355</td>\n",
       "      <td>2.748156</td>\n",
       "      <td>0.354204</td>\n",
       "      <td>0.044538</td>\n",
       "      <td>1.211151</td>\n",
       "      <td>2.623707</td>\n",
       "    </tr>\n",
       "    <tr>\n",
       "      <th>252</th>\n",
       "      <td>1.014203</td>\n",
       "      <td>0.804996</td>\n",
       "      <td>1.000973</td>\n",
       "      <td>0.305435</td>\n",
       "      <td>0.038664</td>\n",
       "      <td>0.962026</td>\n",
       "      <td>1.565355</td>\n",
       "      <td>2.748156</td>\n",
       "      <td>0.354204</td>\n",
       "      <td>0.044538</td>\n",
       "      <td>1.211151</td>\n",
       "      <td>2.296323</td>\n",
       "    </tr>\n",
       "    <tr>\n",
       "      <th>253</th>\n",
       "      <td>1.016724</td>\n",
       "      <td>0.795755</td>\n",
       "      <td>1.000973</td>\n",
       "      <td>0.305435</td>\n",
       "      <td>0.037927</td>\n",
       "      <td>0.957503</td>\n",
       "      <td>1.565355</td>\n",
       "      <td>2.748156</td>\n",
       "      <td>0.354204</td>\n",
       "      <td>0.044538</td>\n",
       "      <td>1.211151</td>\n",
       "      <td>2.296323</td>\n",
       "    </tr>\n",
       "    <tr>\n",
       "      <th>254</th>\n",
       "      <td>1.018685</td>\n",
       "      <td>0.786515</td>\n",
       "      <td>1.000973</td>\n",
       "      <td>0.305435</td>\n",
       "      <td>0.037203</td>\n",
       "      <td>0.952807</td>\n",
       "      <td>1.565355</td>\n",
       "      <td>2.748156</td>\n",
       "      <td>0.354204</td>\n",
       "      <td>0.044538</td>\n",
       "      <td>1.211151</td>\n",
       "      <td>2.296323</td>\n",
       "    </tr>\n",
       "  </tbody>\n",
       "</table>\n",
       "</div>"
      ],
      "text/plain": [
       "      agforce     agyro   mgforce     mgyro   vgforce     vgyro  maxgforce  \\\n",
       "250  1.009667  0.826034  0.998835  0.305435  0.039810  0.967789   1.565355   \n",
       "251  1.011935  0.814236  0.999904  0.305435  0.039242  0.966377   1.565355   \n",
       "252  1.014203  0.804996  1.000973  0.305435  0.038664  0.962026   1.565355   \n",
       "253  1.016724  0.795755  1.000973  0.305435  0.037927  0.957503   1.565355   \n",
       "254  1.018685  0.786515  1.000973  0.305435  0.037203  0.952807   1.565355   \n",
       "\n",
       "      maxgyro  mingforce  minxgyro  ampgforce  ampxgyro  \n",
       "250  2.748156   0.354204  0.044538   1.211151  2.623707  \n",
       "251  2.748156   0.354204  0.044538   1.211151  2.623707  \n",
       "252  2.748156   0.354204  0.044538   1.211151  2.296323  \n",
       "253  2.748156   0.354204  0.044538   1.211151  2.296323  \n",
       "254  2.748156   0.354204  0.044538   1.211151  2.296323  "
      ]
     },
     "execution_count": 32,
     "metadata": {},
     "output_type": "execute_result"
    }
   ],
   "source": [
    "vl = rvl[FEATURES]\n",
    "vl.head()"
   ]
  },
  {
   "cell_type": "code",
   "execution_count": 34,
   "metadata": {},
   "outputs": [
    {
     "name": "stdout",
     "output_type": "stream",
     "text": [
      "KNN : \n",
      "[[6104 1435   12]\n",
      " [ 396 3980   56]\n",
      " [   0  567 3202]]\n",
      "             precision    recall  f1-score   support\n",
      "\n",
      "          0       0.94      0.81      0.87      7551\n",
      "          1       0.67      0.90      0.76      4432\n",
      "          2       0.98      0.85      0.91      3769\n",
      "\n",
      "avg / total       0.87      0.84      0.85     15752\n",
      "\n",
      "=========================================================\n",
      "RF : \n",
      "[[3749 3800    2]\n",
      " [ 283 4098   51]\n",
      " [  29  732 3008]]\n",
      "             precision    recall  f1-score   support\n",
      "\n",
      "          0       0.92      0.50      0.65      7551\n",
      "          1       0.47      0.92      0.63      4432\n",
      "          2       0.98      0.80      0.88      3769\n",
      "\n",
      "avg / total       0.81      0.69      0.70     15752\n",
      "\n",
      "=========================================================\n",
      "SVM : \n",
      "[[3535 3979   37]\n",
      " [ 220 4146   66]\n",
      " [   1    0 3768]]\n",
      "             precision    recall  f1-score   support\n",
      "\n",
      "          0       0.94      0.47      0.63      7551\n",
      "          1       0.51      0.94      0.66      4432\n",
      "          2       0.97      1.00      0.99      3769\n",
      "\n",
      "avg / total       0.83      0.73      0.72     15752\n",
      "\n"
     ]
    },
    {
     "data": {
      "text/plain": [
       "0.72682833925850687"
      ]
     },
     "execution_count": 34,
     "metadata": {},
     "output_type": "execute_result"
    }
   ],
   "source": [
    "print ('KNN : ')\n",
    "knn5.fit(x_train,y_train)\n",
    "knn5_val = knn5.predict(vl)\n",
    "print(confusion_matrix(y_pred=knn5_val,y_true=rvl.devicemode))\n",
    "##sns.heatmap(xticklabels=range(1,10),yticklabels=range(1,10),data = confusion_matrix(y_pred=knn5_val,y_true=rvl.devicemode),cmap='Greens')\n",
    "print(classification_report(y_pred=knn5_val,y_true=rvl.devicemode))\n",
    "accuracy_score(rvl.devicemode,knn5_val)\n",
    "print ( '=========================================================')\n",
    "\n",
    "print ('RF : ')\n",
    "forest.fit(x_train,y_train)\n",
    "forest_val = forest.predict(vl)\n",
    "print(confusion_matrix(y_pred=forest_val,y_true=rvl.devicemode))\n",
    "print(classification_report(y_pred=forest_val,y_true=rvl.devicemode))\n",
    "accuracy_score(rvl.devicemode,forest_val)\n",
    "print( '=========================================================')\n",
    "\n",
    "print ('SVM : ')\n",
    "lin_svm.fit(x_train,y_train)\n",
    "svm_val = lin_svm.predict(vl)\n",
    "print(confusion_matrix(y_pred=svm_val,y_true=rvl.devicemode))\n",
    "print(classification_report(y_pred=svm_val,y_true=rvl.devicemode))\n",
    "accuracy_score(rvl.devicemode,svm_val)"
   ]
  },
  {
   "cell_type": "code",
   "execution_count": 24,
   "metadata": {},
   "outputs": [
    {
     "data": {
      "text/plain": [
       "<matplotlib.axes._subplots.AxesSubplot at 0x7f5851fe32d0>"
      ]
     },
     "execution_count": 24,
     "metadata": {},
     "output_type": "execute_result"
    },
    {
     "data": {
      "image/png": "[encoded data removed]",
      "text/plain": [
       "<matplotlib.figure.Figure at 0x7f5852227250>"
      ]
     },
     "metadata": {},
     "output_type": "display_data"
    }
   ],
   "source": [
    "sns.barplot(y=vl.columns,x=forest.feature_importances_,orient=\"h\" )"
   ]
  },
  {
   "cell_type": "markdown",
   "metadata": {},
   "source": [
    "### Parameters tuning :"
   ]
  },
  {
   "cell_type": "code",
   "execution_count": 25,
   "metadata": {
    "collapsed": true
   },
   "outputs": [],
   "source": [
    "n_trees = range(10,200)\n",
    "max_features = ['sqrt','log2']\n",
    "cores =-1\n",
    "param_dict = dict(n_estimators=n_trees, max_features=max_features)\n",
    "grid = RandomizedSearchCV(forest, param_dict, cv=5, scoring='accuracy')"
   ]
  },
  {
   "cell_type": "code",
   "execution_count": 26,
   "metadata": {},
   "outputs": [
    {
     "ename": "KeyboardInterrupt",
     "evalue": "",
     "output_type": "error",
     "traceback": [
      "\u001b[0;31m---------------------------------------------------------------------------\u001b[0m",
      "\u001b[0;31mKeyboardInterrupt\u001b[0m                         Traceback (most recent call last)",
      "\u001b[0;32m<ipython-input-26-69e1d5e6dd43>\u001b[0m in \u001b[0;36m<module>\u001b[0;34m()\u001b[0m\n\u001b[0;32m----> 1\u001b[0;31m \u001b[0mgrid\u001b[0m\u001b[0;34m.\u001b[0m\u001b[0mfit\u001b[0m\u001b[0;34m(\u001b[0m\u001b[0mx_train\u001b[0m\u001b[0;34m,\u001b[0m\u001b[0my_train\u001b[0m\u001b[0;34m)\u001b[0m\u001b[0;34m\u001b[0m\u001b[0m\n\u001b[0m",
      "\u001b[0;32m/home/yuval/anaconda2/lib/python2.7/site-packages/sklearn/model_selection/_search.pyc\u001b[0m in \u001b[0;36mfit\u001b[0;34m(self, X, y, groups)\u001b[0m\n\u001b[1;32m   1188\u001b[0m                                           \u001b[0mself\u001b[0m\u001b[0;34m.\u001b[0m\u001b[0mn_iter\u001b[0m\u001b[0;34m,\u001b[0m\u001b[0;34m\u001b[0m\u001b[0m\n\u001b[1;32m   1189\u001b[0m                                           random_state=self.random_state)\n\u001b[0;32m-> 1190\u001b[0;31m         \u001b[0;32mreturn\u001b[0m \u001b[0mself\u001b[0m\u001b[0;34m.\u001b[0m\u001b[0m_fit\u001b[0m\u001b[0;34m(\u001b[0m\u001b[0mX\u001b[0m\u001b[0;34m,\u001b[0m \u001b[0my\u001b[0m\u001b[0;34m,\u001b[0m \u001b[0mgroups\u001b[0m\u001b[0;34m,\u001b[0m \u001b[0msampled_params\u001b[0m\u001b[0;34m)\u001b[0m\u001b[0;34m\u001b[0m\u001b[0m\n\u001b[0m",
      "\u001b[0;32m/home/yuval/anaconda2/lib/python2.7/site-packages/sklearn/model_selection/_search.pyc\u001b[0m in \u001b[0;36m_fit\u001b[0;34m(self, X, y, groups, parameter_iterable)\u001b[0m\n\u001b[1;32m    562\u001b[0m                                   \u001b[0mreturn_times\u001b[0m\u001b[0;34m=\u001b[0m\u001b[0mTrue\u001b[0m\u001b[0;34m,\u001b[0m \u001b[0mreturn_parameters\u001b[0m\u001b[0;34m=\u001b[0m\u001b[0mTrue\u001b[0m\u001b[0;34m,\u001b[0m\u001b[0;34m\u001b[0m\u001b[0m\n\u001b[1;32m    563\u001b[0m                                   error_score=self.error_score)\n\u001b[0;32m--> 564\u001b[0;31m           \u001b[0;32mfor\u001b[0m \u001b[0mparameters\u001b[0m \u001b[0;32min\u001b[0m \u001b[0mparameter_iterable\u001b[0m\u001b[0;34m\u001b[0m\u001b[0m\n\u001b[0m\u001b[1;32m    565\u001b[0m           for train, test in cv_iter)\n\u001b[1;32m    566\u001b[0m \u001b[0;34m\u001b[0m\u001b[0m\n",
      "\u001b[0;32m/home/yuval/anaconda2/lib/python2.7/site-packages/sklearn/externals/joblib/parallel.pyc\u001b[0m in \u001b[0;36m__call__\u001b[0;34m(self, iterable)\u001b[0m\n\u001b[1;32m    756\u001b[0m             \u001b[0;31m# was dispatched. In particular this covers the edge\u001b[0m\u001b[0;34m\u001b[0m\u001b[0;34m\u001b[0m\u001b[0m\n\u001b[1;32m    757\u001b[0m             \u001b[0;31m# case of Parallel used with an exhausted iterator.\u001b[0m\u001b[0;34m\u001b[0m\u001b[0;34m\u001b[0m\u001b[0m\n\u001b[0;32m--> 758\u001b[0;31m             \u001b[0;32mwhile\u001b[0m \u001b[0mself\u001b[0m\u001b[0;34m.\u001b[0m\u001b[0mdispatch_one_batch\u001b[0m\u001b[0;34m(\u001b[0m\u001b[0miterator\u001b[0m\u001b[0;34m)\u001b[0m\u001b[0;34m:\u001b[0m\u001b[0;34m\u001b[0m\u001b[0m\n\u001b[0m\u001b[1;32m    759\u001b[0m                 \u001b[0mself\u001b[0m\u001b[0;34m.\u001b[0m\u001b[0m_iterating\u001b[0m \u001b[0;34m=\u001b[0m \u001b[0mTrue\u001b[0m\u001b[0;34m\u001b[0m\u001b[0m\n\u001b[1;32m    760\u001b[0m             \u001b[0;32melse\u001b[0m\u001b[0;34m:\u001b[0m\u001b[0;34m\u001b[0m\u001b[0m\n",
      "\u001b[0;32m/home/yuval/anaconda2/lib/python2.7/site-packages/sklearn/externals/joblib/parallel.pyc\u001b[0m in \u001b[0;36mdispatch_one_batch\u001b[0;34m(self, iterator)\u001b[0m\n\u001b[1;32m    606\u001b[0m                 \u001b[0;32mreturn\u001b[0m \u001b[0mFalse\u001b[0m\u001b[0;34m\u001b[0m\u001b[0m\n\u001b[1;32m    607\u001b[0m             \u001b[0;32melse\u001b[0m\u001b[0;34m:\u001b[0m\u001b[0;34m\u001b[0m\u001b[0m\n\u001b[0;32m--> 608\u001b[0;31m                 \u001b[0mself\u001b[0m\u001b[0;34m.\u001b[0m\u001b[0m_dispatch\u001b[0m\u001b[0;34m(\u001b[0m\u001b[0mtasks\u001b[0m\u001b[0;34m)\u001b[0m\u001b[0;34m\u001b[0m\u001b[0m\n\u001b[0m\u001b[1;32m    609\u001b[0m                 \u001b[0;32mreturn\u001b[0m \u001b[0mTrue\u001b[0m\u001b[0;34m\u001b[0m\u001b[0m\n\u001b[1;32m    610\u001b[0m \u001b[0;34m\u001b[0m\u001b[0m\n",
      "\u001b[0;32m/home/yuval/anaconda2/lib/python2.7/site-packages/sklearn/externals/joblib/parallel.pyc\u001b[0m in \u001b[0;36m_dispatch\u001b[0;34m(self, batch)\u001b[0m\n\u001b[1;32m    569\u001b[0m         \u001b[0mdispatch_timestamp\u001b[0m \u001b[0;34m=\u001b[0m \u001b[0mtime\u001b[0m\u001b[0;34m.\u001b[0m\u001b[0mtime\u001b[0m\u001b[0;34m(\u001b[0m\u001b[0;34m)\u001b[0m\u001b[0;34m\u001b[0m\u001b[0m\n\u001b[1;32m    570\u001b[0m         \u001b[0mcb\u001b[0m \u001b[0;34m=\u001b[0m \u001b[0mBatchCompletionCallBack\u001b[0m\u001b[0;34m(\u001b[0m\u001b[0mdispatch_timestamp\u001b[0m\u001b[0;34m,\u001b[0m \u001b[0mlen\u001b[0m\u001b[0;34m(\u001b[0m\u001b[0mbatch\u001b[0m\u001b[0;34m)\u001b[0m\u001b[0;34m,\u001b[0m \u001b[0mself\u001b[0m\u001b[0;34m)\u001b[0m\u001b[0;34m\u001b[0m\u001b[0m\n\u001b[0;32m--> 571\u001b[0;31m         \u001b[0mjob\u001b[0m \u001b[0;34m=\u001b[0m \u001b[0mself\u001b[0m\u001b[0;34m.\u001b[0m\u001b[0m_backend\u001b[0m\u001b[0;34m.\u001b[0m\u001b[0mapply_async\u001b[0m\u001b[0;34m(\u001b[0m\u001b[0mbatch\u001b[0m\u001b[0;34m,\u001b[0m \u001b[0mcallback\u001b[0m\u001b[0;34m=\u001b[0m\u001b[0mcb\u001b[0m\u001b[0;34m)\u001b[0m\u001b[0;34m\u001b[0m\u001b[0m\n\u001b[0m\u001b[1;32m    572\u001b[0m         \u001b[0mself\u001b[0m\u001b[0;34m.\u001b[0m\u001b[0m_jobs\u001b[0m\u001b[0;34m.\u001b[0m\u001b[0mappend\u001b[0m\u001b[0;34m(\u001b[0m\u001b[0mjob\u001b[0m\u001b[0;34m)\u001b[0m\u001b[0;34m\u001b[0m\u001b[0m\n\u001b[1;32m    573\u001b[0m \u001b[0;34m\u001b[0m\u001b[0m\n",
      "\u001b[0;32m/home/yuval/anaconda2/lib/python2.7/site-packages/sklearn/externals/joblib/_parallel_backends.pyc\u001b[0m in \u001b[0;36mapply_async\u001b[0;34m(self, func, callback)\u001b[0m\n\u001b[1;32m    107\u001b[0m     \u001b[0;32mdef\u001b[0m \u001b[0mapply_async\u001b[0m\u001b[0;34m(\u001b[0m\u001b[0mself\u001b[0m\u001b[0;34m,\u001b[0m \u001b[0mfunc\u001b[0m\u001b[0;34m,\u001b[0m \u001b[0mcallback\u001b[0m\u001b[0;34m=\u001b[0m\u001b[0mNone\u001b[0m\u001b[0;34m)\u001b[0m\u001b[0;34m:\u001b[0m\u001b[0;34m\u001b[0m\u001b[0m\n\u001b[1;32m    108\u001b[0m         \u001b[0;34m\"\"\"Schedule a func to be run\"\"\"\u001b[0m\u001b[0;34m\u001b[0m\u001b[0m\n\u001b[0;32m--> 109\u001b[0;31m         \u001b[0mresult\u001b[0m \u001b[0;34m=\u001b[0m \u001b[0mImmediateResult\u001b[0m\u001b[0;34m(\u001b[0m\u001b[0mfunc\u001b[0m\u001b[0;34m)\u001b[0m\u001b[0;34m\u001b[0m\u001b[0m\n\u001b[0m\u001b[1;32m    110\u001b[0m         \u001b[0;32mif\u001b[0m \u001b[0mcallback\u001b[0m\u001b[0;34m:\u001b[0m\u001b[0;34m\u001b[0m\u001b[0m\n\u001b[1;32m    111\u001b[0m             \u001b[0mcallback\u001b[0m\u001b[0;34m(\u001b[0m\u001b[0mresult\u001b[0m\u001b[0;34m)\u001b[0m\u001b[0;34m\u001b[0m\u001b[0m\n",
      "\u001b[0;32m/home/yuval/anaconda2/lib/python2.7/site-packages/sklearn/externals/joblib/_parallel_backends.pyc\u001b[0m in \u001b[0;36m__init__\u001b[0;34m(self, batch)\u001b[0m\n\u001b[1;32m    324\u001b[0m         \u001b[0;31m# Don't delay the application, to avoid keeping the input\u001b[0m\u001b[0;34m\u001b[0m\u001b[0;34m\u001b[0m\u001b[0m\n\u001b[1;32m    325\u001b[0m         \u001b[0;31m# arguments in memory\u001b[0m\u001b[0;34m\u001b[0m\u001b[0;34m\u001b[0m\u001b[0m\n\u001b[0;32m--> 326\u001b[0;31m         \u001b[0mself\u001b[0m\u001b[0;34m.\u001b[0m\u001b[0mresults\u001b[0m \u001b[0;34m=\u001b[0m \u001b[0mbatch\u001b[0m\u001b[0;34m(\u001b[0m\u001b[0;34m)\u001b[0m\u001b[0;34m\u001b[0m\u001b[0m\n\u001b[0m\u001b[1;32m    327\u001b[0m \u001b[0;34m\u001b[0m\u001b[0m\n\u001b[1;32m    328\u001b[0m     \u001b[0;32mdef\u001b[0m \u001b[0mget\u001b[0m\u001b[0;34m(\u001b[0m\u001b[0mself\u001b[0m\u001b[0;34m)\u001b[0m\u001b[0;34m:\u001b[0m\u001b[0;34m\u001b[0m\u001b[0m\n",
      "\u001b[0;32m/home/yuval/anaconda2/lib/python2.7/site-packages/sklearn/externals/joblib/parallel.pyc\u001b[0m in \u001b[0;36m__call__\u001b[0;34m(self)\u001b[0m\n\u001b[1;32m    129\u001b[0m \u001b[0;34m\u001b[0m\u001b[0m\n\u001b[1;32m    130\u001b[0m     \u001b[0;32mdef\u001b[0m \u001b[0m__call__\u001b[0m\u001b[0;34m(\u001b[0m\u001b[0mself\u001b[0m\u001b[0;34m)\u001b[0m\u001b[0;34m:\u001b[0m\u001b[0;34m\u001b[0m\u001b[0m\n\u001b[0;32m--> 131\u001b[0;31m         \u001b[0;32mreturn\u001b[0m \u001b[0;34m[\u001b[0m\u001b[0mfunc\u001b[0m\u001b[0;34m(\u001b[0m\u001b[0;34m*\u001b[0m\u001b[0margs\u001b[0m\u001b[0;34m,\u001b[0m \u001b[0;34m**\u001b[0m\u001b[0mkwargs\u001b[0m\u001b[0;34m)\u001b[0m \u001b[0;32mfor\u001b[0m \u001b[0mfunc\u001b[0m\u001b[0;34m,\u001b[0m \u001b[0margs\u001b[0m\u001b[0;34m,\u001b[0m \u001b[0mkwargs\u001b[0m \u001b[0;32min\u001b[0m \u001b[0mself\u001b[0m\u001b[0;34m.\u001b[0m\u001b[0mitems\u001b[0m\u001b[0;34m]\u001b[0m\u001b[0;34m\u001b[0m\u001b[0m\n\u001b[0m\u001b[1;32m    132\u001b[0m \u001b[0;34m\u001b[0m\u001b[0m\n\u001b[1;32m    133\u001b[0m     \u001b[0;32mdef\u001b[0m \u001b[0m__len__\u001b[0m\u001b[0;34m(\u001b[0m\u001b[0mself\u001b[0m\u001b[0;34m)\u001b[0m\u001b[0;34m:\u001b[0m\u001b[0;34m\u001b[0m\u001b[0m\n",
      "\u001b[0;32m/home/yuval/anaconda2/lib/python2.7/site-packages/sklearn/model_selection/_validation.pyc\u001b[0m in \u001b[0;36m_fit_and_score\u001b[0;34m(estimator, X, y, scorer, train, test, verbose, parameters, fit_params, return_train_score, return_parameters, return_n_test_samples, return_times, error_score)\u001b[0m\n\u001b[1;32m    236\u001b[0m             \u001b[0mestimator\u001b[0m\u001b[0;34m.\u001b[0m\u001b[0mfit\u001b[0m\u001b[0;34m(\u001b[0m\u001b[0mX_train\u001b[0m\u001b[0;34m,\u001b[0m \u001b[0;34m**\u001b[0m\u001b[0mfit_params\u001b[0m\u001b[0;34m)\u001b[0m\u001b[0;34m\u001b[0m\u001b[0m\n\u001b[1;32m    237\u001b[0m         \u001b[0;32melse\u001b[0m\u001b[0;34m:\u001b[0m\u001b[0;34m\u001b[0m\u001b[0m\n\u001b[0;32m--> 238\u001b[0;31m             \u001b[0mestimator\u001b[0m\u001b[0;34m.\u001b[0m\u001b[0mfit\u001b[0m\u001b[0;34m(\u001b[0m\u001b[0mX_train\u001b[0m\u001b[0;34m,\u001b[0m \u001b[0my_train\u001b[0m\u001b[0;34m,\u001b[0m \u001b[0;34m**\u001b[0m\u001b[0mfit_params\u001b[0m\u001b[0;34m)\u001b[0m\u001b[0;34m\u001b[0m\u001b[0m\n\u001b[0m\u001b[1;32m    239\u001b[0m \u001b[0;34m\u001b[0m\u001b[0m\n\u001b[1;32m    240\u001b[0m     \u001b[0;32mexcept\u001b[0m \u001b[0mException\u001b[0m \u001b[0;32mas\u001b[0m \u001b[0me\u001b[0m\u001b[0;34m:\u001b[0m\u001b[0;34m\u001b[0m\u001b[0m\n",
      "\u001b[0;32m/home/yuval/anaconda2/lib/python2.7/site-packages/sklearn/ensemble/forest.pyc\u001b[0m in \u001b[0;36mfit\u001b[0;34m(self, X, y, sample_weight)\u001b[0m\n\u001b[1;32m    324\u001b[0m                     \u001b[0mt\u001b[0m\u001b[0;34m,\u001b[0m \u001b[0mself\u001b[0m\u001b[0;34m,\u001b[0m \u001b[0mX\u001b[0m\u001b[0;34m,\u001b[0m \u001b[0my\u001b[0m\u001b[0;34m,\u001b[0m \u001b[0msample_weight\u001b[0m\u001b[0;34m,\u001b[0m \u001b[0mi\u001b[0m\u001b[0;34m,\u001b[0m \u001b[0mlen\u001b[0m\u001b[0;34m(\u001b[0m\u001b[0mtrees\u001b[0m\u001b[0;34m)\u001b[0m\u001b[0;34m,\u001b[0m\u001b[0;34m\u001b[0m\u001b[0m\n\u001b[1;32m    325\u001b[0m                     verbose=self.verbose, class_weight=self.class_weight)\n\u001b[0;32m--> 326\u001b[0;31m                 for i, t in enumerate(trees))\n\u001b[0m\u001b[1;32m    327\u001b[0m \u001b[0;34m\u001b[0m\u001b[0m\n\u001b[1;32m    328\u001b[0m             \u001b[0;31m# Collect newly grown trees\u001b[0m\u001b[0;34m\u001b[0m\u001b[0;34m\u001b[0m\u001b[0m\n",
      "\u001b[0;32m/home/yuval/anaconda2/lib/python2.7/site-packages/sklearn/externals/joblib/parallel.pyc\u001b[0m in \u001b[0;36m__call__\u001b[0;34m(self, iterable)\u001b[0m\n\u001b[1;32m    756\u001b[0m             \u001b[0;31m# was dispatched. In particular this covers the edge\u001b[0m\u001b[0;34m\u001b[0m\u001b[0;34m\u001b[0m\u001b[0m\n\u001b[1;32m    757\u001b[0m             \u001b[0;31m# case of Parallel used with an exhausted iterator.\u001b[0m\u001b[0;34m\u001b[0m\u001b[0;34m\u001b[0m\u001b[0m\n\u001b[0;32m--> 758\u001b[0;31m             \u001b[0;32mwhile\u001b[0m \u001b[0mself\u001b[0m\u001b[0;34m.\u001b[0m\u001b[0mdispatch_one_batch\u001b[0m\u001b[0;34m(\u001b[0m\u001b[0miterator\u001b[0m\u001b[0;34m)\u001b[0m\u001b[0;34m:\u001b[0m\u001b[0;34m\u001b[0m\u001b[0m\n\u001b[0m\u001b[1;32m    759\u001b[0m                 \u001b[0mself\u001b[0m\u001b[0;34m.\u001b[0m\u001b[0m_iterating\u001b[0m \u001b[0;34m=\u001b[0m \u001b[0mTrue\u001b[0m\u001b[0;34m\u001b[0m\u001b[0m\n\u001b[1;32m    760\u001b[0m             \u001b[0;32melse\u001b[0m\u001b[0;34m:\u001b[0m\u001b[0;34m\u001b[0m\u001b[0m\n",
      "\u001b[0;32m/home/yuval/anaconda2/lib/python2.7/site-packages/sklearn/externals/joblib/parallel.pyc\u001b[0m in \u001b[0;36mdispatch_one_batch\u001b[0;34m(self, iterator)\u001b[0m\n\u001b[1;32m    606\u001b[0m                 \u001b[0;32mreturn\u001b[0m \u001b[0mFalse\u001b[0m\u001b[0;34m\u001b[0m\u001b[0m\n\u001b[1;32m    607\u001b[0m             \u001b[0;32melse\u001b[0m\u001b[0;34m:\u001b[0m\u001b[0;34m\u001b[0m\u001b[0m\n\u001b[0;32m--> 608\u001b[0;31m                 \u001b[0mself\u001b[0m\u001b[0;34m.\u001b[0m\u001b[0m_dispatch\u001b[0m\u001b[0;34m(\u001b[0m\u001b[0mtasks\u001b[0m\u001b[0;34m)\u001b[0m\u001b[0;34m\u001b[0m\u001b[0m\n\u001b[0m\u001b[1;32m    609\u001b[0m                 \u001b[0;32mreturn\u001b[0m \u001b[0mTrue\u001b[0m\u001b[0;34m\u001b[0m\u001b[0m\n\u001b[1;32m    610\u001b[0m \u001b[0;34m\u001b[0m\u001b[0m\n",
      "\u001b[0;32m/home/yuval/anaconda2/lib/python2.7/site-packages/sklearn/externals/joblib/parallel.pyc\u001b[0m in \u001b[0;36m_dispatch\u001b[0;34m(self, batch)\u001b[0m\n\u001b[1;32m    569\u001b[0m         \u001b[0mdispatch_timestamp\u001b[0m \u001b[0;34m=\u001b[0m \u001b[0mtime\u001b[0m\u001b[0;34m.\u001b[0m\u001b[0mtime\u001b[0m\u001b[0;34m(\u001b[0m\u001b[0;34m)\u001b[0m\u001b[0;34m\u001b[0m\u001b[0m\n\u001b[1;32m    570\u001b[0m         \u001b[0mcb\u001b[0m \u001b[0;34m=\u001b[0m \u001b[0mBatchCompletionCallBack\u001b[0m\u001b[0;34m(\u001b[0m\u001b[0mdispatch_timestamp\u001b[0m\u001b[0;34m,\u001b[0m \u001b[0mlen\u001b[0m\u001b[0;34m(\u001b[0m\u001b[0mbatch\u001b[0m\u001b[0;34m)\u001b[0m\u001b[0;34m,\u001b[0m \u001b[0mself\u001b[0m\u001b[0;34m)\u001b[0m\u001b[0;34m\u001b[0m\u001b[0m\n\u001b[0;32m--> 571\u001b[0;31m         \u001b[0mjob\u001b[0m \u001b[0;34m=\u001b[0m \u001b[0mself\u001b[0m\u001b[0;34m.\u001b[0m\u001b[0m_backend\u001b[0m\u001b[0;34m.\u001b[0m\u001b[0mapply_async\u001b[0m\u001b[0;34m(\u001b[0m\u001b[0mbatch\u001b[0m\u001b[0;34m,\u001b[0m \u001b[0mcallback\u001b[0m\u001b[0;34m=\u001b[0m\u001b[0mcb\u001b[0m\u001b[0;34m)\u001b[0m\u001b[0;34m\u001b[0m\u001b[0m\n\u001b[0m\u001b[1;32m    572\u001b[0m         \u001b[0mself\u001b[0m\u001b[0;34m.\u001b[0m\u001b[0m_jobs\u001b[0m\u001b[0;34m.\u001b[0m\u001b[0mappend\u001b[0m\u001b[0;34m(\u001b[0m\u001b[0mjob\u001b[0m\u001b[0;34m)\u001b[0m\u001b[0;34m\u001b[0m\u001b[0m\n\u001b[1;32m    573\u001b[0m \u001b[0;34m\u001b[0m\u001b[0m\n",
      "\u001b[0;32m/home/yuval/anaconda2/lib/python2.7/site-packages/sklearn/externals/joblib/_parallel_backends.pyc\u001b[0m in \u001b[0;36mapply_async\u001b[0;34m(self, func, callback)\u001b[0m\n\u001b[1;32m    107\u001b[0m     \u001b[0;32mdef\u001b[0m \u001b[0mapply_async\u001b[0m\u001b[0;34m(\u001b[0m\u001b[0mself\u001b[0m\u001b[0;34m,\u001b[0m \u001b[0mfunc\u001b[0m\u001b[0;34m,\u001b[0m \u001b[0mcallback\u001b[0m\u001b[0;34m=\u001b[0m\u001b[0mNone\u001b[0m\u001b[0;34m)\u001b[0m\u001b[0;34m:\u001b[0m\u001b[0;34m\u001b[0m\u001b[0m\n\u001b[1;32m    108\u001b[0m         \u001b[0;34m\"\"\"Schedule a func to be run\"\"\"\u001b[0m\u001b[0;34m\u001b[0m\u001b[0m\n\u001b[0;32m--> 109\u001b[0;31m         \u001b[0mresult\u001b[0m \u001b[0;34m=\u001b[0m \u001b[0mImmediateResult\u001b[0m\u001b[0;34m(\u001b[0m\u001b[0mfunc\u001b[0m\u001b[0;34m)\u001b[0m\u001b[0;34m\u001b[0m\u001b[0m\n\u001b[0m\u001b[1;32m    110\u001b[0m         \u001b[0;32mif\u001b[0m \u001b[0mcallback\u001b[0m\u001b[0;34m:\u001b[0m\u001b[0;34m\u001b[0m\u001b[0m\n\u001b[1;32m    111\u001b[0m             \u001b[0mcallback\u001b[0m\u001b[0;34m(\u001b[0m\u001b[0mresult\u001b[0m\u001b[0;34m)\u001b[0m\u001b[0;34m\u001b[0m\u001b[0m\n",
      "\u001b[0;32m/home/yuval/anaconda2/lib/python2.7/site-packages/sklearn/externals/joblib/_parallel_backends.pyc\u001b[0m in \u001b[0;36m__init__\u001b[0;34m(self, batch)\u001b[0m\n\u001b[1;32m    324\u001b[0m         \u001b[0;31m# Don't delay the application, to avoid keeping the input\u001b[0m\u001b[0;34m\u001b[0m\u001b[0;34m\u001b[0m\u001b[0m\n\u001b[1;32m    325\u001b[0m         \u001b[0;31m# arguments in memory\u001b[0m\u001b[0;34m\u001b[0m\u001b[0;34m\u001b[0m\u001b[0m\n\u001b[0;32m--> 326\u001b[0;31m         \u001b[0mself\u001b[0m\u001b[0;34m.\u001b[0m\u001b[0mresults\u001b[0m \u001b[0;34m=\u001b[0m \u001b[0mbatch\u001b[0m\u001b[0;34m(\u001b[0m\u001b[0;34m)\u001b[0m\u001b[0;34m\u001b[0m\u001b[0m\n\u001b[0m\u001b[1;32m    327\u001b[0m \u001b[0;34m\u001b[0m\u001b[0m\n\u001b[1;32m    328\u001b[0m     \u001b[0;32mdef\u001b[0m \u001b[0mget\u001b[0m\u001b[0;34m(\u001b[0m\u001b[0mself\u001b[0m\u001b[0;34m)\u001b[0m\u001b[0;34m:\u001b[0m\u001b[0;34m\u001b[0m\u001b[0m\n",
      "\u001b[0;32m/home/yuval/anaconda2/lib/python2.7/site-packages/sklearn/externals/joblib/parallel.pyc\u001b[0m in \u001b[0;36m__call__\u001b[0;34m(self)\u001b[0m\n\u001b[1;32m    129\u001b[0m \u001b[0;34m\u001b[0m\u001b[0m\n\u001b[1;32m    130\u001b[0m     \u001b[0;32mdef\u001b[0m \u001b[0m__call__\u001b[0m\u001b[0;34m(\u001b[0m\u001b[0mself\u001b[0m\u001b[0;34m)\u001b[0m\u001b[0;34m:\u001b[0m\u001b[0;34m\u001b[0m\u001b[0m\n\u001b[0;32m--> 131\u001b[0;31m         \u001b[0;32mreturn\u001b[0m \u001b[0;34m[\u001b[0m\u001b[0mfunc\u001b[0m\u001b[0;34m(\u001b[0m\u001b[0;34m*\u001b[0m\u001b[0margs\u001b[0m\u001b[0;34m,\u001b[0m \u001b[0;34m**\u001b[0m\u001b[0mkwargs\u001b[0m\u001b[0;34m)\u001b[0m \u001b[0;32mfor\u001b[0m \u001b[0mfunc\u001b[0m\u001b[0;34m,\u001b[0m \u001b[0margs\u001b[0m\u001b[0;34m,\u001b[0m \u001b[0mkwargs\u001b[0m \u001b[0;32min\u001b[0m \u001b[0mself\u001b[0m\u001b[0;34m.\u001b[0m\u001b[0mitems\u001b[0m\u001b[0;34m]\u001b[0m\u001b[0;34m\u001b[0m\u001b[0m\n\u001b[0m\u001b[1;32m    132\u001b[0m \u001b[0;34m\u001b[0m\u001b[0m\n\u001b[1;32m    133\u001b[0m     \u001b[0;32mdef\u001b[0m \u001b[0m__len__\u001b[0m\u001b[0;34m(\u001b[0m\u001b[0mself\u001b[0m\u001b[0;34m)\u001b[0m\u001b[0;34m:\u001b[0m\u001b[0;34m\u001b[0m\u001b[0m\n",
      "\u001b[0;32m/home/yuval/anaconda2/lib/python2.7/site-packages/sklearn/ensemble/forest.pyc\u001b[0m in \u001b[0;36m_parallel_build_trees\u001b[0;34m(tree, forest, X, y, sample_weight, tree_idx, n_trees, verbose, class_weight)\u001b[0m\n\u001b[1;32m    118\u001b[0m             \u001b[0mcurr_sample_weight\u001b[0m \u001b[0;34m*=\u001b[0m \u001b[0mcompute_sample_weight\u001b[0m\u001b[0;34m(\u001b[0m\u001b[0;34m'balanced'\u001b[0m\u001b[0;34m,\u001b[0m \u001b[0my\u001b[0m\u001b[0;34m,\u001b[0m \u001b[0mindices\u001b[0m\u001b[0;34m)\u001b[0m\u001b[0;34m\u001b[0m\u001b[0m\n\u001b[1;32m    119\u001b[0m \u001b[0;34m\u001b[0m\u001b[0m\n\u001b[0;32m--> 120\u001b[0;31m         \u001b[0mtree\u001b[0m\u001b[0;34m.\u001b[0m\u001b[0mfit\u001b[0m\u001b[0;34m(\u001b[0m\u001b[0mX\u001b[0m\u001b[0;34m,\u001b[0m \u001b[0my\u001b[0m\u001b[0;34m,\u001b[0m \u001b[0msample_weight\u001b[0m\u001b[0;34m=\u001b[0m\u001b[0mcurr_sample_weight\u001b[0m\u001b[0;34m,\u001b[0m \u001b[0mcheck_input\u001b[0m\u001b[0;34m=\u001b[0m\u001b[0mFalse\u001b[0m\u001b[0;34m)\u001b[0m\u001b[0;34m\u001b[0m\u001b[0m\n\u001b[0m\u001b[1;32m    121\u001b[0m     \u001b[0;32melse\u001b[0m\u001b[0;34m:\u001b[0m\u001b[0;34m\u001b[0m\u001b[0m\n\u001b[1;32m    122\u001b[0m         \u001b[0mtree\u001b[0m\u001b[0;34m.\u001b[0m\u001b[0mfit\u001b[0m\u001b[0;34m(\u001b[0m\u001b[0mX\u001b[0m\u001b[0;34m,\u001b[0m \u001b[0my\u001b[0m\u001b[0;34m,\u001b[0m \u001b[0msample_weight\u001b[0m\u001b[0;34m=\u001b[0m\u001b[0msample_weight\u001b[0m\u001b[0;34m,\u001b[0m \u001b[0mcheck_input\u001b[0m\u001b[0;34m=\u001b[0m\u001b[0mFalse\u001b[0m\u001b[0;34m)\u001b[0m\u001b[0;34m\u001b[0m\u001b[0m\n",
      "\u001b[0;32m/home/yuval/anaconda2/lib/python2.7/site-packages/sklearn/tree/tree.pyc\u001b[0m in \u001b[0;36mfit\u001b[0;34m(self, X, y, sample_weight, check_input, X_idx_sorted)\u001b[0m\n\u001b[1;32m    737\u001b[0m             \u001b[0msample_weight\u001b[0m\u001b[0;34m=\u001b[0m\u001b[0msample_weight\u001b[0m\u001b[0;34m,\u001b[0m\u001b[0;34m\u001b[0m\u001b[0m\n\u001b[1;32m    738\u001b[0m             \u001b[0mcheck_input\u001b[0m\u001b[0;34m=\u001b[0m\u001b[0mcheck_input\u001b[0m\u001b[0;34m,\u001b[0m\u001b[0;34m\u001b[0m\u001b[0m\n\u001b[0;32m--> 739\u001b[0;31m             X_idx_sorted=X_idx_sorted)\n\u001b[0m\u001b[1;32m    740\u001b[0m         \u001b[0;32mreturn\u001b[0m \u001b[0mself\u001b[0m\u001b[0;34m\u001b[0m\u001b[0m\n\u001b[1;32m    741\u001b[0m \u001b[0;34m\u001b[0m\u001b[0m\n",
      "\u001b[0;32m/home/yuval/anaconda2/lib/python2.7/site-packages/sklearn/tree/tree.pyc\u001b[0m in \u001b[0;36mfit\u001b[0;34m(self, X, y, sample_weight, check_input, X_idx_sorted)\u001b[0m\n\u001b[1;32m    348\u001b[0m                                            self.min_impurity_split)\n\u001b[1;32m    349\u001b[0m \u001b[0;34m\u001b[0m\u001b[0m\n\u001b[0;32m--> 350\u001b[0;31m         \u001b[0mbuilder\u001b[0m\u001b[0;34m.\u001b[0m\u001b[0mbuild\u001b[0m\u001b[0;34m(\u001b[0m\u001b[0mself\u001b[0m\u001b[0;34m.\u001b[0m\u001b[0mtree_\u001b[0m\u001b[0;34m,\u001b[0m \u001b[0mX\u001b[0m\u001b[0;34m,\u001b[0m \u001b[0my\u001b[0m\u001b[0;34m,\u001b[0m \u001b[0msample_weight\u001b[0m\u001b[0;34m,\u001b[0m \u001b[0mX_idx_sorted\u001b[0m\u001b[0;34m)\u001b[0m\u001b[0;34m\u001b[0m\u001b[0m\n\u001b[0m\u001b[1;32m    351\u001b[0m \u001b[0;34m\u001b[0m\u001b[0m\n\u001b[1;32m    352\u001b[0m         \u001b[0;32mif\u001b[0m \u001b[0mself\u001b[0m\u001b[0;34m.\u001b[0m\u001b[0mn_outputs_\u001b[0m \u001b[0;34m==\u001b[0m \u001b[0;36m1\u001b[0m\u001b[0;34m:\u001b[0m\u001b[0;34m\u001b[0m\u001b[0m\n",
      "\u001b[0;31mKeyboardInterrupt\u001b[0m: "
     ]
    }
   ],
   "source": [
    "grid.fit(x_train,y_train)"
   ]
  },
  {
   "cell_type": "code",
   "execution_count": null,
   "metadata": {
    "collapsed": true
   },
   "outputs": [],
   "source": [
    "print (grid.best_score_)\n",
    "print (grid.best_params_)\n",
    "print (grid.best_estimator_)"
   ]
  },
  {
   "cell_type": "code",
   "execution_count": 57,
   "metadata": {},
   "outputs": [
    {
     "name": "stdout",
     "output_type": "stream",
     "text": [
      "             precision    recall  f1-score   support\n",
      "\n",
      "          0       0.97      0.24      0.38      7551\n",
      "          1       0.43      0.98      0.60      4432\n",
      "          2       0.98      1.00      0.99      3769\n",
      "\n",
      "avg / total       0.82      0.63      0.59     15752\n",
      "\n",
      "0.630078720163\n"
     ]
    }
   ],
   "source": [
    "forset = RandomForestClassifier(n_estimators=grid.best_params_[\"n_estimators\"],max_features =grid.best_params_[\"max_features\"])\n",
    "forest.fit(x_train, y_train)\n",
    "forest_val = forest.predict(vl)\n",
    "print(classification_report(y_pred=forest_val,y_true=rvl.devicemode))\n",
    "print (accuracy_score(rvl.devicemode,forest_val))"
   ]
  },
  {
   "cell_type": "code",
   "execution_count": null,
   "metadata": {
    "collapsed": true
   },
   "outputs": [],
   "source": [
    "print ('Thanks !')"
   ]
  }
 ],
 "metadata": {
  "kernelspec": {
   "display_name": "Python 2",
   "language": "python",
   "name": "python2"
  },
  "language_info": {
   "codemirror_mode": {
    "name": "ipython",
    "version": 2
   },
   "file_extension": ".py",
   "mimetype": "text/x-python",
   "name": "python",
   "nbconvert_exporter": "python",
   "pygments_lexer": "ipython2",
   "version": "2.7.13"
  }
 },
 "nbformat": 4,
 "nbformat_minor": 2
}
