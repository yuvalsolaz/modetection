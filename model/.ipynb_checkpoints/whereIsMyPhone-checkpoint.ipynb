{
 "cells": [
  {
   "cell_type": "code",
   "execution_count": 112,
   "metadata": {},
   "outputs": [],
   "source": [
    "import os\n",
    "import pandas as pd\n",
    "from pandas import rolling_median\n",
    "import numpy as np\n",
    "\n",
    "# Visualisation\n",
    "import matplotlib as mpl\n",
    "import matplotlib.pyplot as plt\n",
    "import matplotlib.pylab as pylab\n",
    "%matplotlib inline\n",
    "import seaborn as sns\n",
    "\n",
    "from sklearn.metrics import accuracy_score\n",
    "from sklearn.model_selection import train_test_split\n",
    "from sklearn.model_selection import GroupShuffleSplit\n",
    "from sklearn.neighbors import KNeighborsClassifier\n",
    "from sklearn.tree import DecisionTreeClassifier\n",
    "from sklearn import svm\n",
    "from sklearn.metrics import confusion_matrix\n",
    "from sklearn.metrics import classification_report\n",
    "from sklearn.ensemble import RandomForestClassifier\n",
    "from sklearn.model_selection import cross_val_score\n",
    "from sklearn.model_selection import RandomizedSearchCV\n",
    "from sklearn.model_selection import GroupKFold\n",
    "from sklearn.metrics import make_scorer\n",
    "from detect_peaks import detect_peaks\n",
    "\n",
    "import xgboost as xgb\n",
    "from xgboost import XGBClassifier\n",
    "from sklearn.datasets import dump_svmlight_file\n",
    "\n",
    "from sklearn.feature_selection import RFECV\n",
    "\n",
    "\n",
    "\n"
   ]
  },
  {
   "cell_type": "code",
   "execution_count": 90,
   "metadata": {
    "collapsed": true
   },
   "outputs": [],
   "source": [
    "## consts :\n",
    "dataSource = r'../raw-data/utf8'\n",
    "SAMPLE_FREQ = 50 \n",
    "FILE_MARGINES = 5* SAMPLE_FREQ  ## number of samples to ignore in the  start and in the end of the file (5 seconds )  \n",
    "WINDOW_SIZE = 2 * 128  ## sliding window size \n",
    "PEAKS_WINDOW_SIZE = 5*WINDOW_SIZE  ## sliding window size for peaks count feature\n",
    "\n",
    "DEVICE_MODE_LABELS = ['pocket','swing','texting','talking','whatever'] \n",
    "USER_MODE_LABELS = ['walking','fastwalking','stairs','static','whatever'] \n",
    "\n",
    "FEATURES = ['agforce','agyro',               ## avarage \n",
    "            'mgforce','mgyro',               ## median\n",
    "            'vgforce','vgyro',               ## variance \n",
    "            'iqrforce','iqqgyro',            ## iqr\n",
    "            'entforce','entgyro',            ## entropy\n",
    "            #'gforcegyrocorr',               ## correlation\n",
    "            'skforce', 'skgyro',             ## skewness\n",
    "            'kuforce','kugyro',              ## kurtosis \n",
    "            'MultiGyroAcc',                  ## max  gyro * max acc\n",
    "            'maxgforce','maxgyro',           ## max  \n",
    "            'maxgforceabs','maxgyroabs',     ## abs max \n",
    "            'mingforce','mingyro',           ## min \n",
    "            'mingforceabs','mingyroabs',     ## abs min\n",
    "            'ampgforce','ampgyro' ,           ## amplitude |max - min|\n",
    "            'peaksgforce','peaksgyro',       ## peaks count in PEAKS_WINDOW_SIZE\n",
    "            'light'                          ## embient light sensor  \n",
    "           ]\n"
   ]
  },
  {
   "cell_type": "markdown",
   "metadata": {},
   "source": [
    "### Calulates high level features and add to given data frame add norm feature for g-force , gyro vectors calculates additional statistics features  on the norm properties using sliding window fill NaN values "
   ]
  },
  {
   "cell_type": "code",
   "execution_count": 91,
   "metadata": {
    "collapsed": true
   },
   "outputs": [],
   "source": [
    "def RollingPercentile(values,a):\n",
    "    res = np.percentile(values,a)\n",
    "    return res  "
   ]
  },
  {
   "cell_type": "code",
   "execution_count": 92,
   "metadata": {
    "collapsed": true
   },
   "outputs": [],
   "source": [
    "def RollingEntropy(values):\n",
    "    res = (-values*np.log2(values)).sum(axis=0)\n",
    "    return res"
   ]
  },
  {
   "cell_type": "code",
   "execution_count": 93,
   "metadata": {
    "collapsed": true
   },
   "outputs": [],
   "source": [
    "def NormValues(values):\n",
    "    Res = values/values.max()\n",
    "    return Res"
   ]
  },
  {
   "cell_type": "code",
   "execution_count": 94,
   "metadata": {
    "collapsed": true
   },
   "outputs": [],
   "source": [
    "def LowPassFilter(values):\n",
    "    threshold = values.mean()+3*values.std()\n",
    "    ResE = rolling_median(values, window=15, center=True).fillna(method='bfill').fillna(method='ffill')\n",
    "    #ResE = NormValues(ResEtemp)\n",
    "    return ResE"
   ]
  },
  {
   "cell_type": "code",
   "execution_count": 95,
   "metadata": {
    "collapsed": true
   },
   "outputs": [],
   "source": [
    "def RemoveOutlier (values):\n",
    "    threshold = values.mean()+3*values.std()\n",
    "    ResEtemp = rolling_median(values, window=15, center=True).fillna(method='bfill').fillna(method='ffill')\n",
    "    difference = np.abs(values - ResEtemp)\n",
    "    outlier_idx = difference > threshold\n",
    "    values[outlier_idx] = threshold\n",
    "    #ResE = NormValues(ResEtemp)\n",
    "    return values"
   ]
  },
  {
   "cell_type": "code",
   "execution_count": 96,
   "metadata": {
    "collapsed": true
   },
   "outputs": [],
   "source": [
    "    ## peaks detection :\n",
    "    mph = 0 ## minimum peak height \n",
    "    mpd = 5 ## minimum peak distance = 20\n",
    "    def peaks(values):\n",
    "        return len(detect_peaks(values, mph, mpd, show=False))\n"
   ]
  },
  {
   "cell_type": "code",
   "execution_count": 97,
   "metadata": {
    "collapsed": true
   },
   "outputs": [],
   "source": [
    "# rolling window on 2d numpy array. return crrelation between first and second array colomn \n",
    "# input 2d array with 2 colomns and rolling window size \n",
    "# output: 1d array with correlation results  \n",
    "\n",
    "def window_correlation(a,window_size):\n",
    "    ## pad array start with zeros for rolling window compatibility \n",
    "    c = np.append(np.zeros((window_size,2),np.float64 ), a , axis=0)\n",
    "\n",
    "    ## stacks windows : \n",
    "    interlaceing = np.hstack(c[i:1+i-window_size or None:1] for i in range(0,window_size) )\n",
    "    \n",
    "    # get left and right indices :\n",
    "    l = interlaceing[:,range(0, 2*window_size, 2)] \n",
    "    r = interlaceing[:,range(1, 2*window_size, 2)]\n",
    "\n",
    "    ## correlates left and right values \n",
    "    return  np.array([np.corrcoef(l[i] , r[i],rowvar=0)[0,1] for i in range(len(l)-1)])\n",
    "\n",
    "# test method :\n",
    "if 0 != 0 :\n",
    "    v = np.linspace(0.0,20.0,20).reshape(10,2)\n",
    "    print 'v= ' , v.shape ,v \n",
    "    print window_correlation(v,4)\n"
   ]
  },
  {
   "cell_type": "code",
   "execution_count": 98,
   "metadata": {
    "collapsed": true
   },
   "outputs": [],
   "source": [
    "def addFeatures(df):\n",
    "    \n",
    "   \n",
    "    ## norm calculations :\n",
    "    df['gforce'] = np.sqrt(df['gfx']**2 + df['gFy']**2 + df['gFz']**2) \n",
    "    df['gyro'] = np.sqrt(df['wx']**2 + df['wy']**2 + df['wz']**2)     \n",
    "    \n",
    "   # remove outliers\n",
    "    rawforce = np.sqrt(df['gfx']**2 + df['gFy']**2 + df['gFz']**2) \n",
    "    df['gforce'] = RemoveOutlier(rawforce)\n",
    "    rawgyro = np.sqrt(df['wx']**2 + df['wy']**2 + df['wz']**2) \n",
    "    df['gyro'] =RemoveOutlier(rawgyro)\n",
    "\n",
    "    ## calculates statistics features on rolling window :\n",
    "    \n",
    "    df['agforce'] = df['gforce'].rolling(window=WINDOW_SIZE,min_periods=1,center=False).mean()\n",
    "    df['agyro']   = df['gyro'].rolling(window=WINDOW_SIZE,min_periods=1 ,center=False).mean()\n",
    "\n",
    "    df['mgforce'] = df['gforce'].rolling(window=WINDOW_SIZE,min_periods=1,center=False).median()\n",
    "    df['mgyro']   = df['gyro'].rolling(window=WINDOW_SIZE,min_periods=1 ,center=False).median()\n",
    "\n",
    "    df['vgforce'] = df['gforce'].rolling(window=WINDOW_SIZE,min_periods=1,center=False).var()\n",
    "    df['vgyro']   = df['gyro'].rolling(window=WINDOW_SIZE,min_periods=1,center=False).var()\n",
    "\n",
    "    df['maxgforce'] = df['gforce'].rolling(window=WINDOW_SIZE,min_periods=1,center=False).max()\n",
    "    df['maxgyro']   = df['gyro'].rolling(window=WINDOW_SIZE,min_periods=1 ,center=False).max()\n",
    "\n",
    "    df['maxgforceabs'] = abs(df['maxgforce'])\n",
    "    df['maxgyroabs']   = abs(df['maxgyro']) \n",
    "\n",
    "    df['mingforce'] = df['gforce'].rolling(window=WINDOW_SIZE,min_periods=1,center=False).min()\n",
    "    df['mingyro']  = df['gyro'].rolling(window=WINDOW_SIZE,min_periods=1 ,center=False).min()\n",
    "\n",
    "    df['mingforceabs'] = abs(df['mingforce'])\n",
    "    df['mingyroabs']   = abs(df['mingyro']) \n",
    "    \n",
    "    df['ampgforce'] = df['maxgforce'] - df['mingforce']\n",
    "    df['ampgyro']  = df['maxgyro'] - df['mingyro']\n",
    "    \n",
    "    roll_force = df['gforce'].rolling(window=WINDOW_SIZE,min_periods=1,center=False)\n",
    "    roll_gyro = df['gyro'].rolling(window=WINDOW_SIZE,min_periods=1,center=False)\n",
    "        \n",
    "    ## iqr calculations:\n",
    "\n",
    "    q25 = roll_force.apply(RollingPercentile, [25.0])\n",
    "    q75 = roll_force.apply(RollingPercentile, [75.0])\n",
    "    q25 = roll_gyro.apply(RollingPercentile, [25.0])\n",
    "    q75 = roll_gyro.apply(RollingPercentile, [75.0])\n",
    "    df['iqrforce'] = q75 - q25\n",
    "    df['iqqgyro'] = q75 - q25\n",
    "    \n",
    "    \n",
    "    \n",
    "    ## entropy calculations:\n",
    "    df['entforce'] = roll_force.apply(RollingEntropy);\n",
    "    df['entgyro'] = roll_gyro.apply(RollingEntropy);\n",
    "    \n",
    "    ## ratio calculations\n",
    "    df['MultiGyroAcc'] = df['maxgforce']*df['maxgyro']\n",
    "    \n",
    "    df['skforce'] = roll_force.skew()\n",
    "    df['skgyro'] = roll_gyro.skew()             \n",
    "                                           \n",
    "    df['kuforce'] = roll_force.kurt()\n",
    "    df['kugyro'] = roll_gyro.kurt()             \n",
    "    \n",
    "    df['light'] = df['I'] if 'I' in df else 0.0 \n",
    "\n",
    "    df['peaksgforce'] = df['gforce'].rolling(window=PEAKS_WINDOW_SIZE,min_periods=1 ,center=False).apply(peaks)\n",
    "    df['peaksgyro'] = df['gyro'].rolling(window=PEAKS_WINDOW_SIZE,min_periods=1 ,center=False).apply(peaks)    \n",
    "    \n",
    "    ## gforce gyro correlation :\n",
    "    df['gforcegyrocorr'] = window_correlation(df[['gforce','gyro']].values,WINDOW_SIZE)\n",
    "\n",
    "    df.fillna(method='ffill', axis=0, inplace=True)"
   ]
  },
  {
   "cell_type": "markdown",
   "metadata": {},
   "source": [
    "### Read csv data file , add label colomn by parsing the file name  add high level features , crop file edges  Todo : normlize , remove dc "
   ]
  },
  {
   "cell_type": "code",
   "execution_count": 99,
   "metadata": {
    "collapsed": true
   },
   "outputs": [],
   "source": [
    "def loadFile(root,file):\n",
    "    data=pd.read_csv(os.path.join(root,file))\n",
    "    if len(data) < 500 :\n",
    "        print (' only ' , len(data) , ' samples in file ', file , ' pass ')\n",
    "        return pd.DataFrame()\n",
    "    \n",
    "    print('loading : ' , file) \n",
    "\n",
    "    print('loading : ' , len(data) , ' samples from ', file) \n",
    "    \n",
    "    ## usefull property : \n",
    "    data['source']=file  \n",
    "\n",
    "    ## default label values in case file name not contains label  \n",
    "    data['devicemodeDescription']=DEVICE_MODE_LABELS[-1] ## 'whatever' label \n",
    "    data['devicemode'] = len(DEVICE_MODE_LABELS)\n",
    "\n",
    "    ## search device mode label in file name and add as new properties :\n",
    "    for label in DEVICE_MODE_LABELS:\n",
    "        if label.lower() in file.lower():  \n",
    "            data['devicemodeDescription']=label         ## label name \n",
    "            data['devicemode'] = DEVICE_MODE_LABELS.index(label)    ## label index \n",
    "            break\n",
    "    \n",
    "    ## add high level features \n",
    "    addFeatures(data)\n",
    "        \n",
    "    ## crop samples from start and from the end of the file :\n",
    "    margin = min(len(data) / 2 - 1 , FILE_MARGINES)\n",
    "    data.drop(data.index[range(0,margin)],axis=0,inplace=True)\n",
    "    data.drop(data.index[range(-margin,-1)],axis=0,inplace=True)   \n",
    "    ##  print(len(data) , ' samples after cropping ' , margin , 'samples from start-end of the file  ')\n",
    "    return data "
   ]
  },
  {
   "cell_type": "code",
   "execution_count": 100,
   "metadata": {
    "collapsed": true
   },
   "outputs": [],
   "source": [
    "def loadFiles(inputDir):\n",
    "    print ('loading files from : ' , inputDir )\n",
    "    return pd.concat([loadFile(inputDir,f) for f in os.listdir(inputDir) if f.lower().endswith('.csv')])  "
   ]
  },
  {
   "cell_type": "code",
   "execution_count": 101,
   "metadata": {},
   "outputs": [
    {
     "name": "stdout",
     "output_type": "stream",
     "text": [
      "('loading files from : ', '../raw-data/utf8')\n",
      "('loading : ', 'SwingRightPhoneDownScBody.csv')\n",
      "('loading : ', 9258, ' samples from ', 'SwingRightPhoneDownScBody.csv')\n"
     ]
    },
    {
     "name": "stderr",
     "output_type": "stream",
     "text": [
      "/home/yuval/anaconda2/lib/python2.7/site-packages/ipykernel_launcher.py:3: FutureWarning: pd.rolling_median is deprecated for Series and will be removed in a future version, replace with \n",
      "\tSeries.rolling(window=15,center=True).median()\n",
      "  This is separate from the ipykernel package so we can avoid doing imports until\n"
     ]
    },
    {
     "name": "stdout",
     "output_type": "stream",
     "text": [
      "('loading : ', 'TalkingLeftHandNight2.csv')\n",
      "('loading : ', 7636, ' samples from ', 'TalkingLeftHandNight2.csv')\n",
      "('loading : ', 'swingLeftHandPhoneDownScBody.csv')\n",
      "('loading : ', 10608, ' samples from ', 'swingLeftHandPhoneDownScBody.csv')\n",
      "('loading : ', 'SwingRightPhoneDown.csv')\n",
      "('loading : ', 7561, ' samples from ', 'SwingRightPhoneDown.csv')\n",
      "('loading : ', 'TextingPointingDorwatd.csv')\n",
      "('loading : ', 6674, ' samples from ', 'TextingPointingDorwatd.csv')\n",
      "('loading : ', 'LeftPocketStatic.csv')\n",
      "('loading : ', 2703, ' samples from ', 'LeftPocketStatic.csv')\n",
      "('loading : ', 'swing3.csv')\n",
      "('loading : ', 4931, ' samples from ', 'swing3.csv')\n",
      "('loading : ', 'Pocket2.csv')\n",
      "('loading : ', 8050, ' samples from ', 'Pocket2.csv')\n",
      "('loading : ', 'PocketLeftAidePhoneDownScBodyLoose.csv')\n",
      "('loading : ', 8756, ' samples from ', 'PocketLeftAidePhoneDownScBodyLoose.csv')\n",
      "('loading : ', 'TextingRight.csv')\n",
      "('loading : ', 5809, ' samples from ', 'TextingRight.csv')\n",
      "('loading : ', 'TalkingLeftHandToSignChexk.csv')\n",
      "('loading : ', 3366, ' samples from ', 'TalkingLeftHandToSignChexk.csv')\n",
      "('loading : ', 'TalkingLeftHandFromSignBack.csv')\n",
      "('loading : ', 3223, ' samples from ', 'TalkingLeftHandFromSignBack.csv')\n",
      "('loading : ', 'Texting2.csv')\n",
      "('loading : ', 4268, ' samples from ', 'Texting2.csv')\n",
      "('loading : ', 'yuval-htc-pocket_walking-2017-09-0408.58.13.csv')\n",
      "('loading : ', 1099, ' samples from ', 'yuval-htc-pocket_walking-2017-09-0408.58.13.csv')\n",
      "('loading : ', 'RightPocket.csv')\n",
      "('loading : ', 7486, ' samples from ', 'RightPocket.csv')\n",
      "('loading : ', 'yuval-htc-swing_walking-2017-09-0316.04.51.csv')\n",
      "('loading : ', 11775, ' samples from ', 'yuval-htc-swing_walking-2017-09-0316.04.51.csv')\n",
      "('loading : ', 'SwingRight2.csv')\n",
      "('loading : ', 7244, ' samples from ', 'SwingRight2.csv')\n",
      "('loading : ', 'swing4.csv')\n",
      "('loading : ', 6784, ' samples from ', 'swing4.csv')\n",
      "('loading : ', 'PocketLeftNormalWalking.csv')\n",
      "('loading : ', 6524, ' samples from ', 'PocketLeftNormalWalking.csv')\n",
      "('loading : ', 'swing2.csv')\n",
      "('loading : ', 11819, ' samples from ', 'swing2.csv')\n",
      "('loading : ', 'TalkingLeftHandNight1.csv')\n",
      "('loading : ', 7360, ' samples from ', 'TalkingLeftHandNight1.csv')\n",
      "('loading : ', 'SwingLeftNormal.csv')\n",
      "('loading : ', 5874, ' samples from ', 'SwingLeftNormal.csv')\n",
      "(' only ', 464, ' samples in file ', 'yuval-htc-pocket_stairs_down_2017-09-0411.50.29.csv', ' pass ')\n",
      "('loading : ', 'LeftPocketJeansNormalWalk.csv')\n",
      "('loading : ', 6573, ' samples from ', 'LeftPocketJeansNormalWalk.csv')\n",
      "=========================================================\n",
      "('total train samples ', 143904, ' from ', 23, ' files ')\n"
     ]
    }
   ],
   "source": [
    "rdf = loadFiles(dataSource)\n",
    "print('=========================================================')\n",
    "print( 'total train samples ' , len(rdf) , ' from ' ,len(rdf.source.unique()),  ' files ')"
   ]
  },
  {
   "cell_type": "code",
   "execution_count": 102,
   "metadata": {},
   "outputs": [
    {
     "data": {
      "text/html": [
       "<div>\n",
       "<style>\n",
       "    .dataframe thead tr:only-child th {\n",
       "        text-align: right;\n",
       "    }\n",
       "\n",
       "    .dataframe thead th {\n",
       "        text-align: left;\n",
       "    }\n",
       "\n",
       "    .dataframe tbody tr th {\n",
       "        vertical-align: top;\n",
       "    }\n",
       "</style>\n",
       "<table border=\"1\" class=\"dataframe\">\n",
       "  <thead>\n",
       "    <tr style=\"text-align: right;\">\n",
       "      <th></th>\n",
       "      <th>Bx</th>\n",
       "      <th>By</th>\n",
       "      <th>Bz</th>\n",
       "      <th>I</th>\n",
       "      <th>Latitude</th>\n",
       "      <th>Longitude</th>\n",
       "      <th>MultiGyroAcc</th>\n",
       "      <th>Speed (m/s)</th>\n",
       "      <th>Unnamed: 11</th>\n",
       "      <th>Unnamed: 12</th>\n",
       "      <th>...</th>\n",
       "      <th>peaksgyro</th>\n",
       "      <th>skforce</th>\n",
       "      <th>skgyro</th>\n",
       "      <th>source</th>\n",
       "      <th>time</th>\n",
       "      <th>vgforce</th>\n",
       "      <th>vgyro</th>\n",
       "      <th>wx</th>\n",
       "      <th>wy</th>\n",
       "      <th>wz</th>\n",
       "    </tr>\n",
       "  </thead>\n",
       "  <tbody>\n",
       "    <tr>\n",
       "      <th>250</th>\n",
       "      <td>-33.2520</td>\n",
       "      <td>16.5787</td>\n",
       "      <td>24.9786</td>\n",
       "      <td>NaN</td>\n",
       "      <td>NaN</td>\n",
       "      <td>NaN</td>\n",
       "      <td>11.113862</td>\n",
       "      <td>NaN</td>\n",
       "      <td>NaN</td>\n",
       "      <td>NaN</td>\n",
       "      <td>...</td>\n",
       "      <td>13.0</td>\n",
       "      <td>0.434711</td>\n",
       "      <td>-0.026901</td>\n",
       "      <td>SwingRightPhoneDownScBody.csv</td>\n",
       "      <td>5.541</td>\n",
       "      <td>0.158193</td>\n",
       "      <td>1.291401</td>\n",
       "      <td>0.2297</td>\n",
       "      <td>-0.6073</td>\n",
       "      <td>-2.1202</td>\n",
       "    </tr>\n",
       "    <tr>\n",
       "      <th>251</th>\n",
       "      <td>-33.2520</td>\n",
       "      <td>16.5787</td>\n",
       "      <td>24.9786</td>\n",
       "      <td>NaN</td>\n",
       "      <td>NaN</td>\n",
       "      <td>NaN</td>\n",
       "      <td>11.113862</td>\n",
       "      <td>NaN</td>\n",
       "      <td>NaN</td>\n",
       "      <td>NaN</td>\n",
       "      <td>...</td>\n",
       "      <td>13.0</td>\n",
       "      <td>0.433266</td>\n",
       "      <td>-0.027364</td>\n",
       "      <td>SwingRightPhoneDownScBody.csv</td>\n",
       "      <td>5.575</td>\n",
       "      <td>0.157585</td>\n",
       "      <td>1.286262</td>\n",
       "      <td>0.2297</td>\n",
       "      <td>-0.6073</td>\n",
       "      <td>-2.1202</td>\n",
       "    </tr>\n",
       "    <tr>\n",
       "      <th>252</th>\n",
       "      <td>-32.9803</td>\n",
       "      <td>16.1774</td>\n",
       "      <td>24.9710</td>\n",
       "      <td>NaN</td>\n",
       "      <td>NaN</td>\n",
       "      <td>NaN</td>\n",
       "      <td>11.113862</td>\n",
       "      <td>NaN</td>\n",
       "      <td>NaN</td>\n",
       "      <td>NaN</td>\n",
       "      <td>...</td>\n",
       "      <td>13.0</td>\n",
       "      <td>0.431828</td>\n",
       "      <td>-0.027826</td>\n",
       "      <td>SwingRightPhoneDownScBody.csv</td>\n",
       "      <td>5.626</td>\n",
       "      <td>0.156981</td>\n",
       "      <td>1.281164</td>\n",
       "      <td>0.2297</td>\n",
       "      <td>-0.6073</td>\n",
       "      <td>-2.1202</td>\n",
       "    </tr>\n",
       "    <tr>\n",
       "      <th>253</th>\n",
       "      <td>-32.9803</td>\n",
       "      <td>16.1774</td>\n",
       "      <td>24.9710</td>\n",
       "      <td>NaN</td>\n",
       "      <td>NaN</td>\n",
       "      <td>NaN</td>\n",
       "      <td>11.113862</td>\n",
       "      <td>NaN</td>\n",
       "      <td>NaN</td>\n",
       "      <td>NaN</td>\n",
       "      <td>...</td>\n",
       "      <td>13.0</td>\n",
       "      <td>0.430398</td>\n",
       "      <td>-0.023816</td>\n",
       "      <td>SwingRightPhoneDownScBody.csv</td>\n",
       "      <td>5.634</td>\n",
       "      <td>0.156382</td>\n",
       "      <td>1.276731</td>\n",
       "      <td>-0.9014</td>\n",
       "      <td>0.5965</td>\n",
       "      <td>1.4121</td>\n",
       "    </tr>\n",
       "    <tr>\n",
       "      <th>254</th>\n",
       "      <td>-32.9803</td>\n",
       "      <td>16.1774</td>\n",
       "      <td>24.9710</td>\n",
       "      <td>NaN</td>\n",
       "      <td>NaN</td>\n",
       "      <td>NaN</td>\n",
       "      <td>11.113862</td>\n",
       "      <td>NaN</td>\n",
       "      <td>NaN</td>\n",
       "      <td>NaN</td>\n",
       "      <td>...</td>\n",
       "      <td>13.0</td>\n",
       "      <td>0.428976</td>\n",
       "      <td>-0.019826</td>\n",
       "      <td>SwingRightPhoneDownScBody.csv</td>\n",
       "      <td>5.637</td>\n",
       "      <td>0.155787</td>\n",
       "      <td>1.272329</td>\n",
       "      <td>-0.9014</td>\n",
       "      <td>0.5965</td>\n",
       "      <td>1.4121</td>\n",
       "    </tr>\n",
       "  </tbody>\n",
       "</table>\n",
       "<p>5 rows × 55 columns</p>\n",
       "</div>"
      ],
      "text/plain": [
       "          Bx       By       Bz   I  Latitude  Longitude  MultiGyroAcc  \\\n",
       "250 -33.2520  16.5787  24.9786 NaN       NaN        NaN     11.113862   \n",
       "251 -33.2520  16.5787  24.9786 NaN       NaN        NaN     11.113862   \n",
       "252 -32.9803  16.1774  24.9710 NaN       NaN        NaN     11.113862   \n",
       "253 -32.9803  16.1774  24.9710 NaN       NaN        NaN     11.113862   \n",
       "254 -32.9803  16.1774  24.9710 NaN       NaN        NaN     11.113862   \n",
       "\n",
       "     Speed (m/s)  Unnamed: 11  Unnamed: 12   ...    peaksgyro   skforce  \\\n",
       "250          NaN          NaN          NaN   ...         13.0  0.434711   \n",
       "251          NaN          NaN          NaN   ...         13.0  0.433266   \n",
       "252          NaN          NaN          NaN   ...         13.0  0.431828   \n",
       "253          NaN          NaN          NaN   ...         13.0  0.430398   \n",
       "254          NaN          NaN          NaN   ...         13.0  0.428976   \n",
       "\n",
       "       skgyro                         source   time   vgforce     vgyro  \\\n",
       "250 -0.026901  SwingRightPhoneDownScBody.csv  5.541  0.158193  1.291401   \n",
       "251 -0.027364  SwingRightPhoneDownScBody.csv  5.575  0.157585  1.286262   \n",
       "252 -0.027826  SwingRightPhoneDownScBody.csv  5.626  0.156981  1.281164   \n",
       "253 -0.023816  SwingRightPhoneDownScBody.csv  5.634  0.156382  1.276731   \n",
       "254 -0.019826  SwingRightPhoneDownScBody.csv  5.637  0.155787  1.272329   \n",
       "\n",
       "         wx      wy      wz  \n",
       "250  0.2297 -0.6073 -2.1202  \n",
       "251  0.2297 -0.6073 -2.1202  \n",
       "252  0.2297 -0.6073 -2.1202  \n",
       "253 -0.9014  0.5965  1.4121  \n",
       "254 -0.9014  0.5965  1.4121  \n",
       "\n",
       "[5 rows x 55 columns]"
      ]
     },
     "execution_count": 102,
     "metadata": {},
     "output_type": "execute_result"
    }
   ],
   "source": [
    "rdf.head()"
   ]
  },
  {
   "cell_type": "code",
   "execution_count": 103,
   "metadata": {},
   "outputs": [
    {
     "data": {
      "text/plain": [
       "devicemodeDescription\n",
       "pocket     37698\n",
       "swing      71363\n",
       "talking    19589\n",
       "texting    15254\n",
       "Name: devicemode, dtype: int64"
      ]
     },
     "execution_count": 103,
     "metadata": {},
     "output_type": "execute_result"
    }
   ],
   "source": [
    "rdf.groupby('devicemodeDescription').devicemode.count()"
   ]
  },
  {
   "cell_type": "code",
   "execution_count": 104,
   "metadata": {
    "scrolled": true
   },
   "outputs": [
    {
     "data": {
      "text/plain": [
       "source\n",
       "LeftPocketJeansNormalWalk.csv                       6074\n",
       "LeftPocketStatic.csv                                2204\n",
       "Pocket2.csv                                         7551\n",
       "PocketLeftAidePhoneDownScBodyLoose.csv              8257\n",
       "PocketLeftNormalWalking.csv                         6025\n",
       "RightPocket.csv                                     6987\n",
       "SwingLeftNormal.csv                                 5375\n",
       "SwingRight2.csv                                     6745\n",
       "SwingRightPhoneDown.csv                             7062\n",
       "SwingRightPhoneDownScBody.csv                       8759\n",
       "TalkingLeftHandFromSignBack.csv                     2724\n",
       "TalkingLeftHandNight1.csv                           6861\n",
       "TalkingLeftHandNight2.csv                           7137\n",
       "TalkingLeftHandToSignChexk.csv                      2867\n",
       "Texting2.csv                                        3769\n",
       "TextingPointingDorwatd.csv                          6175\n",
       "TextingRight.csv                                    5310\n",
       "swing2.csv                                         11320\n",
       "swing3.csv                                          4432\n",
       "swing4.csv                                          6285\n",
       "swingLeftHandPhoneDownScBody.csv                   10109\n",
       "yuval-htc-pocket_walking-2017-09-0408.58.13.csv      600\n",
       "yuval-htc-swing_walking-2017-09-0316.04.51.csv     11276\n",
       "Name: devicemode, dtype: int64"
      ]
     },
     "execution_count": 104,
     "metadata": {},
     "output_type": "execute_result"
    }
   ],
   "source": [
    "rdf.groupby('source').devicemode.count()"
   ]
  },
  {
   "cell_type": "markdown",
   "metadata": {},
   "source": [
    "#### visualize features "
   ]
  },
  {
   "cell_type": "code",
   "execution_count": 105,
   "metadata": {},
   "outputs": [],
   "source": [
    "if 0!=0:\n",
    "    for s in rdf.groupby('source').source:\n",
    "        print (s[0])\n",
    "        yy = rdf[rdf.source == s[0]]\n",
    "        plt.plot(yy.time,yy.agyro, 'g' ) \n",
    "        plt.show()\n"
   ]
  },
  {
   "cell_type": "markdown",
   "metadata": {},
   "source": [
    "## cross_validation (  group by source proprty ) \n",
    "K-fold iterator variant with non-overlapping groups.\n",
    "The same group will not appear in two different folds\n",
    "The number of distinct groups has to be at least equal to the number of folds.\n",
    "The folds are approximately balanced in the sense that the number of distinct groups is approximately the same in each fold."
   ]
  },
  {
   "cell_type": "code",
   "execution_count": 106,
   "metadata": {},
   "outputs": [
    {
     "data": {
      "text/html": [
       "<div>\n",
       "<style>\n",
       "    .dataframe thead tr:only-child th {\n",
       "        text-align: right;\n",
       "    }\n",
       "\n",
       "    .dataframe thead th {\n",
       "        text-align: left;\n",
       "    }\n",
       "\n",
       "    .dataframe tbody tr th {\n",
       "        vertical-align: top;\n",
       "    }\n",
       "</style>\n",
       "<table border=\"1\" class=\"dataframe\">\n",
       "  <thead>\n",
       "    <tr style=\"text-align: right;\">\n",
       "      <th></th>\n",
       "      <th>agforce</th>\n",
       "      <th>agyro</th>\n",
       "      <th>mgforce</th>\n",
       "      <th>mgyro</th>\n",
       "      <th>vgforce</th>\n",
       "      <th>vgyro</th>\n",
       "      <th>iqrforce</th>\n",
       "      <th>iqqgyro</th>\n",
       "      <th>entforce</th>\n",
       "      <th>entgyro</th>\n",
       "      <th>...</th>\n",
       "      <th>maxgyroabs</th>\n",
       "      <th>mingforce</th>\n",
       "      <th>mingyro</th>\n",
       "      <th>mingforceabs</th>\n",
       "      <th>mingyroabs</th>\n",
       "      <th>ampgforce</th>\n",
       "      <th>ampgyro</th>\n",
       "      <th>peaksgforce</th>\n",
       "      <th>peaksgyro</th>\n",
       "      <th>light</th>\n",
       "    </tr>\n",
       "  </thead>\n",
       "  <tbody>\n",
       "    <tr>\n",
       "      <th>250</th>\n",
       "      <td>1.226713</td>\n",
       "      <td>2.178575</td>\n",
       "      <td>1.161921</td>\n",
       "      <td>2.518054</td>\n",
       "      <td>0.158193</td>\n",
       "      <td>1.291401</td>\n",
       "      <td>2.089685</td>\n",
       "      <td>2.089685</td>\n",
       "      <td>-113.881287</td>\n",
       "      <td>-734.050594</td>\n",
       "      <td>...</td>\n",
       "      <td>4.695869</td>\n",
       "      <td>0.447872</td>\n",
       "      <td>0.408303</td>\n",
       "      <td>0.447872</td>\n",
       "      <td>0.408303</td>\n",
       "      <td>1.918859</td>\n",
       "      <td>4.287567</td>\n",
       "      <td>23.0</td>\n",
       "      <td>13.0</td>\n",
       "      <td>0.0</td>\n",
       "    </tr>\n",
       "    <tr>\n",
       "      <th>251</th>\n",
       "      <td>1.227007</td>\n",
       "      <td>2.178729</td>\n",
       "      <td>1.161921</td>\n",
       "      <td>2.518054</td>\n",
       "      <td>0.157585</td>\n",
       "      <td>1.286262</td>\n",
       "      <td>2.085222</td>\n",
       "      <td>2.085222</td>\n",
       "      <td>-114.374616</td>\n",
       "      <td>-736.598074</td>\n",
       "      <td>...</td>\n",
       "      <td>4.695869</td>\n",
       "      <td>0.447872</td>\n",
       "      <td>0.408303</td>\n",
       "      <td>0.447872</td>\n",
       "      <td>0.408303</td>\n",
       "      <td>1.918859</td>\n",
       "      <td>4.287567</td>\n",
       "      <td>23.0</td>\n",
       "      <td>13.0</td>\n",
       "      <td>0.0</td>\n",
       "    </tr>\n",
       "    <tr>\n",
       "      <th>252</th>\n",
       "      <td>1.227298</td>\n",
       "      <td>2.178882</td>\n",
       "      <td>1.161921</td>\n",
       "      <td>2.518054</td>\n",
       "      <td>0.156981</td>\n",
       "      <td>1.281164</td>\n",
       "      <td>2.080760</td>\n",
       "      <td>2.080760</td>\n",
       "      <td>-114.867945</td>\n",
       "      <td>-739.145553</td>\n",
       "      <td>...</td>\n",
       "      <td>4.695869</td>\n",
       "      <td>0.447872</td>\n",
       "      <td>0.408303</td>\n",
       "      <td>0.447872</td>\n",
       "      <td>0.408303</td>\n",
       "      <td>1.918859</td>\n",
       "      <td>4.287567</td>\n",
       "      <td>23.0</td>\n",
       "      <td>13.0</td>\n",
       "      <td>0.0</td>\n",
       "    </tr>\n",
       "    <tr>\n",
       "      <th>253</th>\n",
       "      <td>1.227587</td>\n",
       "      <td>2.177305</td>\n",
       "      <td>1.171469</td>\n",
       "      <td>2.518054</td>\n",
       "      <td>0.156382</td>\n",
       "      <td>1.276731</td>\n",
       "      <td>2.057745</td>\n",
       "      <td>2.057745</td>\n",
       "      <td>-115.361274</td>\n",
       "      <td>-740.622435</td>\n",
       "      <td>...</td>\n",
       "      <td>4.695869</td>\n",
       "      <td>0.447872</td>\n",
       "      <td>0.408303</td>\n",
       "      <td>0.447872</td>\n",
       "      <td>0.408303</td>\n",
       "      <td>1.918859</td>\n",
       "      <td>4.287567</td>\n",
       "      <td>23.0</td>\n",
       "      <td>13.0</td>\n",
       "      <td>0.0</td>\n",
       "    </tr>\n",
       "    <tr>\n",
       "      <th>254</th>\n",
       "      <td>1.227874</td>\n",
       "      <td>2.175740</td>\n",
       "      <td>1.181017</td>\n",
       "      <td>2.518054</td>\n",
       "      <td>0.155787</td>\n",
       "      <td>1.272329</td>\n",
       "      <td>2.034731</td>\n",
       "      <td>2.034731</td>\n",
       "      <td>-115.854603</td>\n",
       "      <td>-742.099317</td>\n",
       "      <td>...</td>\n",
       "      <td>4.695869</td>\n",
       "      <td>0.447872</td>\n",
       "      <td>0.408303</td>\n",
       "      <td>0.447872</td>\n",
       "      <td>0.408303</td>\n",
       "      <td>1.918859</td>\n",
       "      <td>4.287567</td>\n",
       "      <td>23.0</td>\n",
       "      <td>13.0</td>\n",
       "      <td>0.0</td>\n",
       "    </tr>\n",
       "  </tbody>\n",
       "</table>\n",
       "<p>5 rows × 28 columns</p>\n",
       "</div>"
      ],
      "text/plain": [
       "      agforce     agyro   mgforce     mgyro   vgforce     vgyro  iqrforce  \\\n",
       "250  1.226713  2.178575  1.161921  2.518054  0.158193  1.291401  2.089685   \n",
       "251  1.227007  2.178729  1.161921  2.518054  0.157585  1.286262  2.085222   \n",
       "252  1.227298  2.178882  1.161921  2.518054  0.156981  1.281164  2.080760   \n",
       "253  1.227587  2.177305  1.171469  2.518054  0.156382  1.276731  2.057745   \n",
       "254  1.227874  2.175740  1.181017  2.518054  0.155787  1.272329  2.034731   \n",
       "\n",
       "      iqqgyro    entforce     entgyro  ...    maxgyroabs  mingforce   mingyro  \\\n",
       "250  2.089685 -113.881287 -734.050594  ...      4.695869   0.447872  0.408303   \n",
       "251  2.085222 -114.374616 -736.598074  ...      4.695869   0.447872  0.408303   \n",
       "252  2.080760 -114.867945 -739.145553  ...      4.695869   0.447872  0.408303   \n",
       "253  2.057745 -115.361274 -740.622435  ...      4.695869   0.447872  0.408303   \n",
       "254  2.034731 -115.854603 -742.099317  ...      4.695869   0.447872  0.408303   \n",
       "\n",
       "     mingforceabs  mingyroabs  ampgforce   ampgyro  peaksgforce  peaksgyro  \\\n",
       "250      0.447872    0.408303   1.918859  4.287567         23.0       13.0   \n",
       "251      0.447872    0.408303   1.918859  4.287567         23.0       13.0   \n",
       "252      0.447872    0.408303   1.918859  4.287567         23.0       13.0   \n",
       "253      0.447872    0.408303   1.918859  4.287567         23.0       13.0   \n",
       "254      0.447872    0.408303   1.918859  4.287567         23.0       13.0   \n",
       "\n",
       "     light  \n",
       "250    0.0  \n",
       "251    0.0  \n",
       "252    0.0  \n",
       "253    0.0  \n",
       "254    0.0  \n",
       "\n",
       "[5 rows x 28 columns]"
      ]
     },
     "execution_count": 106,
     "metadata": {},
     "output_type": "execute_result"
    }
   ],
   "source": [
    "# take only relevants features :\n",
    "df = rdf[FEATURES]\n",
    "df.head()"
   ]
  },
  {
   "cell_type": "code",
   "execution_count": 107,
   "metadata": {
    "collapsed": true
   },
   "outputs": [],
   "source": [
    "k= 4 ## len(rdf.source.unique()) \n",
    "x_train= df\n",
    "y_train = rdf.devicemode\n",
    "forest = RandomForestClassifier()\n",
    "tree = DecisionTreeClassifier()\n",
    "knn5 = KNeighborsClassifier(n_neighbors=5)\n",
    "lin_svm = svm.LinearSVC() ## (C=1.0, class_weight=None, dual=True, fit_intercept=True,\n",
    "                         ## intercept_scaling=1, loss='squared_hinge', max_iter=1000,\n",
    "                         ## multi_class='ovr', penalty='l2', random_state=None, tol=0.0001, verbose=0)"
   ]
  },
  {
   "cell_type": "code",
   "execution_count": 108,
   "metadata": {
    "collapsed": true
   },
   "outputs": [],
   "source": [
    "def sourceFold(): \n",
    "    print ('list of source files for each kfold : ' )    \n",
    "    _kfold = GroupKFold(n_splits=k) \n",
    "    _itr = _kfold.split(x_train, y_train, groups=rdf.source)  \n",
    "    c = 0 \n",
    "    sf = {}\n",
    "    for i in _itr:\n",
    "        ## print (c , str(rdf.iloc[i[1]].source.unique()))\n",
    "        sf[c]= str(rdf.iloc[i[1]].source.unique())\n",
    "        c = c+1\n",
    "    return sf "
   ]
  },
  {
   "cell_type": "code",
   "execution_count": 109,
   "metadata": {
    "collapsed": true
   },
   "outputs": [],
   "source": [
    "def CalcKFoldAccuracy(classifier,X,Y,k):\n",
    "    group_kfold = GroupKFold(n_splits=k)     \n",
    "    groups_itr = group_kfold.split(X, Y, groups=rdf.source)    \n",
    "    return cross_val_score(classifier, X, Y, cv=groups_itr, scoring='accuracy')"
   ]
  },
  {
   "cell_type": "code",
   "execution_count": 110,
   "metadata": {
    "scrolled": true
   },
   "outputs": [
    {
     "name": "stdout",
     "output_type": "stream",
     "text": [
      "list of source files for each kfold : \n",
      "0.904823549277  SwingRightPhoneDown.csv' 'swing3.csv'\n",
      " 'yuval-htc-pocket_walking-2017-09-0408.58.13.csv' 'SwingRight2.csv'\n",
      " 'swing2.csv' 'SwingLeftNormal.csv\n",
      "0.64192873272  TalkingLeftHandNight2.csv' 'TalkingLeftHandToSignChexk.csv'\n",
      " 'TalkingLeftHandFromSignBack.csv'\n",
      " 'yuval-htc-swing_walking-2017-09-0316.04.51.csv' 'swing4.csv'\n",
      " 'PocketLeftNormalWalking.csv\n",
      "0.772779479326  swingLeftHandPhoneDownScBody.csv' 'LeftPocketStatic.csv' 'Pocket2.csv'\n",
      " 'Texting2.csv' 'TalkingLeftHandNight1.csv' 'LeftPocketJeansNormalWalk.csv\n",
      "0.813627141569  SwingRightPhoneDownScBody.csv' 'TextingPointingDorwatd.csv'\n",
      " 'PocketLeftAidePhoneDownScBodyLoose.csv' 'TextingRight.csv'\n",
      " 'RightPocket.csv\n"
     ]
    }
   ],
   "source": [
    "sf = sourceFold()\n",
    "fa = CalcKFoldAccuracy(knn5,x_train,y_train,k)\n",
    "for i in range(k):\n",
    "    print(str(fa[i]) + '  ' + sf[i][2:-2])\n",
    "    # plt.title(str(fa[i]) + '  ' + sf[i][2:-2])\n",
    "    # tt = rdf[rdf.source == sf[i][2:-2]]\n",
    "    # plt.plot(tt.time,tt.agyro,'g') \n",
    "    # plt.show() "
   ]
  },
  {
   "cell_type": "code",
   "execution_count": 23,
   "metadata": {},
   "outputs": [
    {
     "name": "stdout",
     "output_type": "stream",
     "text": [
      "KNN : \n",
      "[ 0.91566955  0.90540838  0.76028221  0.81464157]\n",
      "RF : \n",
      "[ 0.84516517  0.70471444  0.75976263  0.82196799]\n",
      "SVM : \n",
      "[ 0.61882407  0.65275101  0.709965    0.83664901]\n"
     ]
    }
   ],
   "source": [
    "print ('KNN : ')\n",
    "print (CalcKFoldAccuracy(knn5,x_train,y_train,k))\n",
    "print ('RF : ')\n",
    "print (CalcKFoldAccuracy(forest,x_train,y_train,k))\n",
    "print ('SVM : ')\n",
    "print (CalcKFoldAccuracy(lin_svm,x_train,y_train,k))"
   ]
  },
  {
   "cell_type": "markdown",
   "metadata": {},
   "source": [
    "## split train & test data"
   ]
  },
  {
   "cell_type": "code",
   "execution_count": 166,
   "metadata": {},
   "outputs": [],
   "source": [
    "#### x_train, x_test, y_train, y_test = train_test_split(df, rdf.devicemode, test_size=0.4, random_state=42,stratify=rdf.devicemode)\n",
    "train_inds, test_inds = GroupShuffleSplit().split(df,rdf.devicemode , groups=rdf.source).next()\n",
    "x_train = df.iloc[train_inds]\n",
    "x_test  = df.iloc[test_inds]\n",
    "y_train = rdf.devicemode.iloc[train_inds]\n",
    "y_test  = rdf.devicemode.iloc[test_inds]\n"
   ]
  },
  {
   "cell_type": "markdown",
   "metadata": {},
   "source": [
    "### xgboost  classifier "
   ]
  },
  {
   "cell_type": "code",
   "execution_count": 167,
   "metadata": {},
   "outputs": [],
   "source": [
    "dtrain = xgb.DMatrix(x_train, label=y_train)\n",
    "dtest = xgb.DMatrix(x_test, label=y_test)"
   ]
  },
  {
   "cell_type": "code",
   "execution_count": 174,
   "metadata": {
    "collapsed": true
   },
   "outputs": [],
   "source": [
    "params = {'objective':'multi:softprob',\n",
    "                    ## 'silent': 1,       # logging mode - quiet\n",
    "                    ##  'eta': 0.3,          # the training step for each iteration\n",
    "                    ##  'learning_rate':0.2,\n",
    "                    ## 'subsample':0.8,\n",
    "                    ## 'colsample_bytree':0.9,\n",
    "                    ## 'colsample_bylevel':0.7,\n",
    "                    'max_depth':3,        # the maximum depth of each tree\n",
    "                    ## 'nthread':4,\n",
    "                    ## 'eval_metric':'mlogloss',\n",
    "                    ## 'n_estimators':100,\n",
    "                    'num_class':4,        # the number of classes that exist in this datset\n",
    "                    'seed':1234}\n",
    "num_round = 40  # the number of training iterations\n",
    "early_stopping_rounds=20 ## TODO :check results with this parameter "
   ]
  },
  {
   "cell_type": "code",
   "execution_count": 175,
   "metadata": {},
   "outputs": [],
   "source": [
    "bst = xgb.train(param, dtrain, num_round)"
   ]
  },
  {
   "cell_type": "code",
   "execution_count": 176,
   "metadata": {
    "collapsed": true
   },
   "outputs": [],
   "source": [
    "#bst.dump_model('dump.raw.txt')"
   ]
  },
  {
   "cell_type": "code",
   "execution_count": 177,
   "metadata": {},
   "outputs": [
    {
     "name": "stdout",
     "output_type": "stream",
     "text": [
      "[0 0 0 ..., 1 1 1]\n"
     ]
    }
   ],
   "source": [
    "preds = bst.predict(dtest)\n",
    "best_preds = np.asarray([np.argmax(line) for line in preds])\n",
    "print(best_preds)"
   ]
  },
  {
   "cell_type": "code",
   "execution_count": 178,
   "metadata": {},
   "outputs": [
    {
     "name": "stdout",
     "output_type": "stream",
     "text": [
      "0.657438391375\n"
     ]
    }
   ],
   "source": [
    "from sklearn.metrics import precision_score\n",
    "print precision_score(y_test, best_preds, average='macro')"
   ]
  },
  {
   "cell_type": "markdown",
   "metadata": {},
   "source": [
    "### validate on files outside of the train bucket "
   ]
  },
  {
   "cell_type": "code",
   "execution_count": 179,
   "metadata": {},
   "outputs": [
    {
     "name": "stdout",
     "output_type": "stream",
     "text": [
      "('loading files from : ', '../raw-data/validation/utf8')\n",
      "('loading : ', 'StairsUpSwingLeftHand1.csv')\n",
      "('loading : ', 2437, ' samples from ', 'StairsUpSwingLeftHand1.csv')\n"
     ]
    },
    {
     "name": "stderr",
     "output_type": "stream",
     "text": [
      "/home/yuval/anaconda2/lib/python2.7/site-packages/ipykernel_launcher.py:3: FutureWarning: pd.rolling_median is deprecated for Series and will be removed in a future version, replace with \n",
      "\tSeries.rolling(window=15,center=True).median()\n",
      "  This is separate from the ipykernel package so we can avoid doing imports until\n"
     ]
    },
    {
     "name": "stdout",
     "output_type": "stream",
     "text": [
      "('loading : ', 'swing3.csv')\n",
      "('loading : ', 4931, ' samples from ', 'swing3.csv')\n",
      "('loading : ', 'Pocket2.csv')\n",
      "('loading : ', 8050, ' samples from ', 'Pocket2.csv')\n",
      "('loading : ', 'StairsDownSwingLeftHand1.csv')\n",
      "('loading : ', 2304, ' samples from ', 'StairsDownSwingLeftHand1.csv')\n",
      "('loading : ', 'PocketLeftNormalWalkAlex.csv')\n",
      "('loading : ', 600, ' samples from ', 'PocketLeftNormalWalkAlex.csv')\n",
      "('loading : ', 'TalkingLeftNormalWalkAlex.csv')\n",
      "('loading : ', 586, ' samples from ', 'TalkingLeftNormalWalkAlex.csv')\n",
      "('loading : ', 'Texting2.csv')\n",
      "('loading : ', 4268, ' samples from ', 'Texting2.csv')\n",
      "('loading : ', 'LeftHandTextingNormalAlex.csv')\n",
      "('loading : ', 691, ' samples from ', 'LeftHandTextingNormalAlex.csv')\n",
      "('loading : ', 'SwingLeftHandNormalWalkAlex.csv')\n",
      "('loading : ', 677, ' samples from ', 'SwingLeftHandNormalWalkAlex.csv')\n",
      "('loading : ', 'TextingLeftNormalWalkNir.csv')\n",
      "('loading : ', 749, ' samples from ', 'TextingLeftNormalWalkNir.csv')\n",
      "('loading : ', 'TalkingLeftNormalWalkNir.csv')\n",
      "('loading : ', 740, ' samples from ', 'TalkingLeftNormalWalkNir.csv')\n",
      "(' only ', 469, ' samples in file ', 'TalkingLeftFastWalkNir.csv', ' pass ')\n",
      "('loading : ', 'SwingRightNormalWalkNir.csv')\n",
      "('loading : ', 898, ' samples from ', 'SwingRightNormalWalkNir.csv')\n",
      "=========================================================\n",
      "('total validation samples ', 20943)\n"
     ]
    }
   ],
   "source": [
    "rvl = loadFiles(r'../raw-data/validation/utf8')\n",
    "print ('=========================================================')\n",
    "print ('total validation samples ' , len(rvl) )"
   ]
  },
  {
   "cell_type": "code",
   "execution_count": 180,
   "metadata": {},
   "outputs": [
    {
     "data": {
      "text/html": [
       "<div>\n",
       "<style>\n",
       "    .dataframe thead tr:only-child th {\n",
       "        text-align: right;\n",
       "    }\n",
       "\n",
       "    .dataframe thead th {\n",
       "        text-align: left;\n",
       "    }\n",
       "\n",
       "    .dataframe tbody tr th {\n",
       "        vertical-align: top;\n",
       "    }\n",
       "</style>\n",
       "<table border=\"1\" class=\"dataframe\">\n",
       "  <thead>\n",
       "    <tr style=\"text-align: right;\">\n",
       "      <th></th>\n",
       "      <th>Bx</th>\n",
       "      <th>By</th>\n",
       "      <th>Bz</th>\n",
       "      <th>MultiGyroAcc</th>\n",
       "      <th>agforce</th>\n",
       "      <th>agyro</th>\n",
       "      <th>ampgforce</th>\n",
       "      <th>ampgyro</th>\n",
       "      <th>devicemode</th>\n",
       "      <th>devicemodeDescription</th>\n",
       "      <th>...</th>\n",
       "      <th>peaksgforce</th>\n",
       "      <th>peaksgyro</th>\n",
       "      <th>skforce</th>\n",
       "      <th>skgyro</th>\n",
       "      <th>time</th>\n",
       "      <th>vgforce</th>\n",
       "      <th>vgyro</th>\n",
       "      <th>wx</th>\n",
       "      <th>wy</th>\n",
       "      <th>wz</th>\n",
       "    </tr>\n",
       "  </thead>\n",
       "  <tbody>\n",
       "    <tr>\n",
       "      <th>250</th>\n",
       "      <td>54.3915</td>\n",
       "      <td>-16.4948</td>\n",
       "      <td>15.9912</td>\n",
       "      <td>7.099248</td>\n",
       "      <td>1.082068</td>\n",
       "      <td>1.805360</td>\n",
       "      <td>1.049873</td>\n",
       "      <td>4.331397</td>\n",
       "      <td>1</td>\n",
       "      <td>swing</td>\n",
       "      <td>...</td>\n",
       "      <td>17.0</td>\n",
       "      <td>20.0</td>\n",
       "      <td>0.120526</td>\n",
       "      <td>0.241538</td>\n",
       "      <td>7.324</td>\n",
       "      <td>0.095442</td>\n",
       "      <td>1.461461</td>\n",
       "      <td>-2.491</td>\n",
       "      <td>0.1213</td>\n",
       "      <td>-0.8333</td>\n",
       "    </tr>\n",
       "    <tr>\n",
       "      <th>251</th>\n",
       "      <td>54.3915</td>\n",
       "      <td>-16.4948</td>\n",
       "      <td>15.9912</td>\n",
       "      <td>7.099248</td>\n",
       "      <td>1.081621</td>\n",
       "      <td>1.808630</td>\n",
       "      <td>1.049873</td>\n",
       "      <td>4.331397</td>\n",
       "      <td>1</td>\n",
       "      <td>swing</td>\n",
       "      <td>...</td>\n",
       "      <td>17.0</td>\n",
       "      <td>21.0</td>\n",
       "      <td>0.124852</td>\n",
       "      <td>0.234429</td>\n",
       "      <td>7.336</td>\n",
       "      <td>0.095112</td>\n",
       "      <td>1.458334</td>\n",
       "      <td>-2.491</td>\n",
       "      <td>0.1213</td>\n",
       "      <td>-0.8333</td>\n",
       "    </tr>\n",
       "    <tr>\n",
       "      <th>252</th>\n",
       "      <td>54.3915</td>\n",
       "      <td>-16.4948</td>\n",
       "      <td>15.9912</td>\n",
       "      <td>7.099248</td>\n",
       "      <td>1.081841</td>\n",
       "      <td>1.811875</td>\n",
       "      <td>1.049873</td>\n",
       "      <td>4.331397</td>\n",
       "      <td>1</td>\n",
       "      <td>swing</td>\n",
       "      <td>...</td>\n",
       "      <td>17.0</td>\n",
       "      <td>21.0</td>\n",
       "      <td>0.122938</td>\n",
       "      <td>0.227371</td>\n",
       "      <td>7.361</td>\n",
       "      <td>0.094747</td>\n",
       "      <td>1.455210</td>\n",
       "      <td>-2.491</td>\n",
       "      <td>0.1213</td>\n",
       "      <td>-0.8333</td>\n",
       "    </tr>\n",
       "    <tr>\n",
       "      <th>253</th>\n",
       "      <td>54.3915</td>\n",
       "      <td>-16.4948</td>\n",
       "      <td>15.9912</td>\n",
       "      <td>7.099248</td>\n",
       "      <td>1.082059</td>\n",
       "      <td>1.815094</td>\n",
       "      <td>1.049873</td>\n",
       "      <td>4.331397</td>\n",
       "      <td>1</td>\n",
       "      <td>swing</td>\n",
       "      <td>...</td>\n",
       "      <td>18.0</td>\n",
       "      <td>21.0</td>\n",
       "      <td>0.121034</td>\n",
       "      <td>0.220362</td>\n",
       "      <td>7.385</td>\n",
       "      <td>0.094384</td>\n",
       "      <td>1.452090</td>\n",
       "      <td>-2.491</td>\n",
       "      <td>0.1213</td>\n",
       "      <td>-0.8333</td>\n",
       "    </tr>\n",
       "    <tr>\n",
       "      <th>254</th>\n",
       "      <td>54.3915</td>\n",
       "      <td>-16.4948</td>\n",
       "      <td>15.9912</td>\n",
       "      <td>7.099248</td>\n",
       "      <td>1.082275</td>\n",
       "      <td>1.818288</td>\n",
       "      <td>1.049873</td>\n",
       "      <td>4.331397</td>\n",
       "      <td>1</td>\n",
       "      <td>swing</td>\n",
       "      <td>...</td>\n",
       "      <td>18.0</td>\n",
       "      <td>21.0</td>\n",
       "      <td>0.119137</td>\n",
       "      <td>0.213403</td>\n",
       "      <td>7.468</td>\n",
       "      <td>0.094025</td>\n",
       "      <td>1.448974</td>\n",
       "      <td>-2.491</td>\n",
       "      <td>0.1213</td>\n",
       "      <td>-0.8333</td>\n",
       "    </tr>\n",
       "  </tbody>\n",
       "</table>\n",
       "<p>5 rows × 44 columns</p>\n",
       "</div>"
      ],
      "text/plain": [
       "          Bx       By       Bz  MultiGyroAcc   agforce     agyro  ampgforce  \\\n",
       "250  54.3915 -16.4948  15.9912      7.099248  1.082068  1.805360   1.049873   \n",
       "251  54.3915 -16.4948  15.9912      7.099248  1.081621  1.808630   1.049873   \n",
       "252  54.3915 -16.4948  15.9912      7.099248  1.081841  1.811875   1.049873   \n",
       "253  54.3915 -16.4948  15.9912      7.099248  1.082059  1.815094   1.049873   \n",
       "254  54.3915 -16.4948  15.9912      7.099248  1.082275  1.818288   1.049873   \n",
       "\n",
       "      ampgyro  devicemode devicemodeDescription   ...    peaksgforce  \\\n",
       "250  4.331397           1                 swing   ...           17.0   \n",
       "251  4.331397           1                 swing   ...           17.0   \n",
       "252  4.331397           1                 swing   ...           17.0   \n",
       "253  4.331397           1                 swing   ...           18.0   \n",
       "254  4.331397           1                 swing   ...           18.0   \n",
       "\n",
       "     peaksgyro   skforce    skgyro   time   vgforce     vgyro     wx      wy  \\\n",
       "250       20.0  0.120526  0.241538  7.324  0.095442  1.461461 -2.491  0.1213   \n",
       "251       21.0  0.124852  0.234429  7.336  0.095112  1.458334 -2.491  0.1213   \n",
       "252       21.0  0.122938  0.227371  7.361  0.094747  1.455210 -2.491  0.1213   \n",
       "253       21.0  0.121034  0.220362  7.385  0.094384  1.452090 -2.491  0.1213   \n",
       "254       21.0  0.119137  0.213403  7.468  0.094025  1.448974 -2.491  0.1213   \n",
       "\n",
       "         wz  \n",
       "250 -0.8333  \n",
       "251 -0.8333  \n",
       "252 -0.8333  \n",
       "253 -0.8333  \n",
       "254 -0.8333  \n",
       "\n",
       "[5 rows x 44 columns]"
      ]
     },
     "execution_count": 180,
     "metadata": {},
     "output_type": "execute_result"
    }
   ],
   "source": [
    "rvl.dropna(axis=1,inplace=True)\n",
    "rvl.drop(\"source\",axis=1).head()"
   ]
  },
  {
   "cell_type": "code",
   "execution_count": 181,
   "metadata": {},
   "outputs": [
    {
     "data": {
      "text/html": [
       "<div>\n",
       "<style>\n",
       "    .dataframe thead tr:only-child th {\n",
       "        text-align: right;\n",
       "    }\n",
       "\n",
       "    .dataframe thead th {\n",
       "        text-align: left;\n",
       "    }\n",
       "\n",
       "    .dataframe tbody tr th {\n",
       "        vertical-align: top;\n",
       "    }\n",
       "</style>\n",
       "<table border=\"1\" class=\"dataframe\">\n",
       "  <thead>\n",
       "    <tr style=\"text-align: right;\">\n",
       "      <th></th>\n",
       "      <th>agforce</th>\n",
       "      <th>agyro</th>\n",
       "      <th>mgforce</th>\n",
       "      <th>mgyro</th>\n",
       "      <th>vgforce</th>\n",
       "      <th>vgyro</th>\n",
       "      <th>iqrforce</th>\n",
       "      <th>iqqgyro</th>\n",
       "      <th>entforce</th>\n",
       "      <th>entgyro</th>\n",
       "      <th>...</th>\n",
       "      <th>maxgyroabs</th>\n",
       "      <th>mingforce</th>\n",
       "      <th>mingyro</th>\n",
       "      <th>mingforceabs</th>\n",
       "      <th>mingyroabs</th>\n",
       "      <th>ampgforce</th>\n",
       "      <th>ampgyro</th>\n",
       "      <th>peaksgforce</th>\n",
       "      <th>peaksgyro</th>\n",
       "      <th>light</th>\n",
       "    </tr>\n",
       "  </thead>\n",
       "  <tbody>\n",
       "    <tr>\n",
       "      <th>250</th>\n",
       "      <td>1.082068</td>\n",
       "      <td>1.805360</td>\n",
       "      <td>0.996755</td>\n",
       "      <td>2.143237</td>\n",
       "      <td>0.095442</td>\n",
       "      <td>1.461461</td>\n",
       "      <td>1.785930</td>\n",
       "      <td>1.785930</td>\n",
       "      <td>-47.043526</td>\n",
       "      <td>-554.798637</td>\n",
       "      <td>...</td>\n",
       "      <td>4.395376</td>\n",
       "      <td>0.56529</td>\n",
       "      <td>0.06398</td>\n",
       "      <td>0.56529</td>\n",
       "      <td>0.06398</td>\n",
       "      <td>1.049873</td>\n",
       "      <td>4.331397</td>\n",
       "      <td>17.0</td>\n",
       "      <td>20.0</td>\n",
       "      <td>23.0</td>\n",
       "    </tr>\n",
       "    <tr>\n",
       "      <th>251</th>\n",
       "      <td>1.081621</td>\n",
       "      <td>1.808630</td>\n",
       "      <td>0.996755</td>\n",
       "      <td>2.143237</td>\n",
       "      <td>0.095112</td>\n",
       "      <td>1.458334</td>\n",
       "      <td>1.801149</td>\n",
       "      <td>1.801149</td>\n",
       "      <td>-47.000208</td>\n",
       "      <td>-558.466186</td>\n",
       "      <td>...</td>\n",
       "      <td>4.395376</td>\n",
       "      <td>0.56529</td>\n",
       "      <td>0.06398</td>\n",
       "      <td>0.56529</td>\n",
       "      <td>0.06398</td>\n",
       "      <td>1.049873</td>\n",
       "      <td>4.331397</td>\n",
       "      <td>17.0</td>\n",
       "      <td>21.0</td>\n",
       "      <td>23.0</td>\n",
       "    </tr>\n",
       "    <tr>\n",
       "      <th>252</th>\n",
       "      <td>1.081841</td>\n",
       "      <td>1.811875</td>\n",
       "      <td>0.996755</td>\n",
       "      <td>2.143237</td>\n",
       "      <td>0.094747</td>\n",
       "      <td>1.455210</td>\n",
       "      <td>1.846805</td>\n",
       "      <td>1.846805</td>\n",
       "      <td>-47.211105</td>\n",
       "      <td>-562.133736</td>\n",
       "      <td>...</td>\n",
       "      <td>4.395376</td>\n",
       "      <td>0.56529</td>\n",
       "      <td>0.06398</td>\n",
       "      <td>0.56529</td>\n",
       "      <td>0.06398</td>\n",
       "      <td>1.049873</td>\n",
       "      <td>4.331397</td>\n",
       "      <td>17.0</td>\n",
       "      <td>21.0</td>\n",
       "      <td>23.0</td>\n",
       "    </tr>\n",
       "    <tr>\n",
       "      <th>253</th>\n",
       "      <td>1.082059</td>\n",
       "      <td>1.815094</td>\n",
       "      <td>0.996755</td>\n",
       "      <td>2.143237</td>\n",
       "      <td>0.094384</td>\n",
       "      <td>1.452090</td>\n",
       "      <td>1.846805</td>\n",
       "      <td>1.846805</td>\n",
       "      <td>-47.422002</td>\n",
       "      <td>-565.801285</td>\n",
       "      <td>...</td>\n",
       "      <td>4.395376</td>\n",
       "      <td>0.56529</td>\n",
       "      <td>0.06398</td>\n",
       "      <td>0.56529</td>\n",
       "      <td>0.06398</td>\n",
       "      <td>1.049873</td>\n",
       "      <td>4.331397</td>\n",
       "      <td>18.0</td>\n",
       "      <td>21.0</td>\n",
       "      <td>22.0</td>\n",
       "    </tr>\n",
       "    <tr>\n",
       "      <th>254</th>\n",
       "      <td>1.082275</td>\n",
       "      <td>1.818288</td>\n",
       "      <td>0.996755</td>\n",
       "      <td>2.143237</td>\n",
       "      <td>0.094025</td>\n",
       "      <td>1.448974</td>\n",
       "      <td>1.846805</td>\n",
       "      <td>1.846805</td>\n",
       "      <td>-47.632899</td>\n",
       "      <td>-569.468835</td>\n",
       "      <td>...</td>\n",
       "      <td>4.395376</td>\n",
       "      <td>0.56529</td>\n",
       "      <td>0.06398</td>\n",
       "      <td>0.56529</td>\n",
       "      <td>0.06398</td>\n",
       "      <td>1.049873</td>\n",
       "      <td>4.331397</td>\n",
       "      <td>18.0</td>\n",
       "      <td>21.0</td>\n",
       "      <td>14.0</td>\n",
       "    </tr>\n",
       "  </tbody>\n",
       "</table>\n",
       "<p>5 rows × 28 columns</p>\n",
       "</div>"
      ],
      "text/plain": [
       "      agforce     agyro   mgforce     mgyro   vgforce     vgyro  iqrforce  \\\n",
       "250  1.082068  1.805360  0.996755  2.143237  0.095442  1.461461  1.785930   \n",
       "251  1.081621  1.808630  0.996755  2.143237  0.095112  1.458334  1.801149   \n",
       "252  1.081841  1.811875  0.996755  2.143237  0.094747  1.455210  1.846805   \n",
       "253  1.082059  1.815094  0.996755  2.143237  0.094384  1.452090  1.846805   \n",
       "254  1.082275  1.818288  0.996755  2.143237  0.094025  1.448974  1.846805   \n",
       "\n",
       "      iqqgyro   entforce     entgyro  ...    maxgyroabs  mingforce  mingyro  \\\n",
       "250  1.785930 -47.043526 -554.798637  ...      4.395376    0.56529  0.06398   \n",
       "251  1.801149 -47.000208 -558.466186  ...      4.395376    0.56529  0.06398   \n",
       "252  1.846805 -47.211105 -562.133736  ...      4.395376    0.56529  0.06398   \n",
       "253  1.846805 -47.422002 -565.801285  ...      4.395376    0.56529  0.06398   \n",
       "254  1.846805 -47.632899 -569.468835  ...      4.395376    0.56529  0.06398   \n",
       "\n",
       "     mingforceabs  mingyroabs  ampgforce   ampgyro  peaksgforce  peaksgyro  \\\n",
       "250       0.56529     0.06398   1.049873  4.331397         17.0       20.0   \n",
       "251       0.56529     0.06398   1.049873  4.331397         17.0       21.0   \n",
       "252       0.56529     0.06398   1.049873  4.331397         17.0       21.0   \n",
       "253       0.56529     0.06398   1.049873  4.331397         18.0       21.0   \n",
       "254       0.56529     0.06398   1.049873  4.331397         18.0       21.0   \n",
       "\n",
       "     light  \n",
       "250   23.0  \n",
       "251   23.0  \n",
       "252   23.0  \n",
       "253   22.0  \n",
       "254   14.0  \n",
       "\n",
       "[5 rows x 28 columns]"
      ]
     },
     "execution_count": 181,
     "metadata": {},
     "output_type": "execute_result"
    }
   ],
   "source": [
    "vl = rvl[FEATURES]\n",
    "vl.head()"
   ]
  },
  {
   "cell_type": "code",
   "execution_count": 182,
   "metadata": {},
   "outputs": [
    {
     "name": "stdout",
     "output_type": "stream",
     "text": [
      "[1 1 1 ..., 1 1 0]\n"
     ]
    }
   ],
   "source": [
    "dtest = xgb.DMatrix(vl, label=rvl.devicemode)\n",
    "preds = bst.predict(dtest)\n",
    "best_preds = np.asarray([np.argmax(line) for line in preds])\n",
    "print(best_preds)"
   ]
  },
  {
   "cell_type": "code",
   "execution_count": 183,
   "metadata": {},
   "outputs": [
    {
     "name": "stdout",
     "output_type": "stream",
     "text": [
      "0.723247079383\n"
     ]
    }
   ],
   "source": [
    "print (precision_score(rvl.devicemode, best_preds, average='macro'))"
   ]
  },
  {
   "cell_type": "code",
   "execution_count": 184,
   "metadata": {},
   "outputs": [
    {
     "name": "stdout",
     "output_type": "stream",
     "text": [
      "0.96399751707\n"
     ]
    }
   ],
   "source": [
    "print (accuracy_score(rvl.devicemode,best_preds))"
   ]
  },
  {
   "cell_type": "code",
   "execution_count": 185,
   "metadata": {},
   "outputs": [
    {
     "name": "stdout",
     "output_type": "stream",
     "text": [
      "             precision    recall  f1-score   support\n",
      "\n",
      "          0       0.97      0.96      0.97      7652\n",
      "          1       0.96      1.00      0.98      8752\n",
      "          2       0.96      0.96      0.96      4211\n",
      "          3       0.00      0.00      0.00       328\n",
      "\n",
      "avg / total       0.95      0.96      0.96     20943\n",
      "\n",
      "===============\n",
      "[[7384  268    0    0]\n",
      " [   1 8751    0    0]\n",
      " [ 132    0 4054   25]\n",
      " [  84   69  175    0]]\n"
     ]
    }
   ],
   "source": [
    "print(classification_report(y_pred=best_preds,y_true=rvl.devicemode))\n",
    "print ('===============')\n",
    "conf_matrix = confusion_matrix(y_pred=best_preds,y_true=rvl.devicemode)\n",
    "print(conf_matrix)"
   ]
  },
  {
   "cell_type": "code",
   "execution_count": 186,
   "metadata": {},
   "outputs": [
    {
     "data": {
      "text/plain": [
       "<matplotlib.axes._subplots.AxesSubplot at 0x7f1809a0ded0>"
      ]
     },
     "execution_count": 186,
     "metadata": {},
     "output_type": "execute_result"
    },
    {
     "data": {
      "image/png": "[encoded data removed]",
      "text/plain": [
       "<matplotlib.figure.Figure at 0x7f17eee03050>"
      ]
     },
     "metadata": {},
     "output_type": "display_data"
    }
   ],
   "source": [
    "sns.heatmap(xticklabels=range(1,10),yticklabels=range(1,10),data = conf_matrix,cmap='Greens')"
   ]
  },
  {
   "cell_type": "code",
   "execution_count": null,
   "metadata": {
    "collapsed": true
   },
   "outputs": [],
   "source": []
  },
  {
   "cell_type": "code",
   "execution_count": 187,
   "metadata": {},
   "outputs": [
    {
     "name": "stdout",
     "output_type": "stream",
     "text": [
      "xgboost : \n",
      "[[7384  268    0    0]\n",
      " [   1 8751    0    0]\n",
      " [ 132    0 4054   25]\n",
      " [  84   69  175    0]]\n",
      "             precision    recall  f1-score   support\n",
      "\n",
      "          0       0.97      0.96      0.97      7652\n",
      "          1       0.96      1.00      0.98      8752\n",
      "          2       0.96      0.96      0.96      4211\n",
      "          3       0.00      0.00      0.00       328\n",
      "\n",
      "avg / total       0.95      0.96      0.96     20943\n",
      "\n",
      "=========================================================\n",
      "KNN : \n",
      "[[7462  190    0    0]\n",
      " [ 428 8324    0    0]\n",
      " [   0    0 3893  318]\n",
      " [  36   91  168   33]]\n",
      "             precision    recall  f1-score   support\n",
      "\n",
      "          0       0.94      0.98      0.96      7652\n",
      "          1       0.97      0.95      0.96      8752\n",
      "          2       0.96      0.92      0.94      4211\n",
      "          3       0.09      0.10      0.10       328\n",
      "\n",
      "avg / total       0.94      0.94      0.94     20943\n",
      "\n",
      "=========================================================\n",
      "RF : \n",
      "[[7380  272    0    0]\n",
      " [   0 8752    0    0]\n",
      " [ 173   78 3841  119]\n",
      " [  42  280    0    6]]\n",
      "             precision    recall  f1-score   support\n",
      "\n",
      "          0       0.97      0.96      0.97      7652\n",
      "          1       0.93      1.00      0.97      8752\n",
      "          2       1.00      0.91      0.95      4211\n",
      "          3       0.05      0.02      0.03       328\n",
      "\n",
      "avg / total       0.95      0.95      0.95     20943\n",
      "\n",
      "=========================================================\n",
      "SVM : \n",
      "[[6400 1088    0  164]\n",
      " [   1 8213    3  535]\n",
      " [ 263   58 3745  145]\n",
      " [ 125   83    0  120]]\n",
      "             precision    recall  f1-score   support\n",
      "\n",
      "          0       0.94      0.84      0.89      7652\n",
      "          1       0.87      0.94      0.90      8752\n",
      "          2       1.00      0.89      0.94      4211\n",
      "          3       0.12      0.37      0.19       328\n",
      "\n",
      "avg / total       0.91      0.88      0.89     20943\n",
      "\n"
     ]
    },
    {
     "data": {
      "text/plain": [
       "0.88229957503700518"
      ]
     },
     "execution_count": 187,
     "metadata": {},
     "output_type": "execute_result"
    }
   ],
   "source": [
    "print ('xgboost : ')\n",
    "dtest = xgb.DMatrix(vl, label=rvl.devicemode)\n",
    "preds = bst.predict(dtest)\n",
    "best_preds = np.asarray([np.argmax(line) for line in preds])\n",
    "print(confusion_matrix(y_pred=best_preds,y_true=rvl.devicemode))\n",
    "print(classification_report(y_pred=best_preds,y_true=rvl.devicemode))\n",
    "accuracy_score(rvl.devicemode,best_preds)\n",
    "print ( '=========================================================')\n",
    "\n",
    "print ('KNN : ')\n",
    "knn5.fit(x_train,y_train)\n",
    "knn5_val = knn5.predict(vl)\n",
    "print(confusion_matrix(y_pred=knn5_val,y_true=rvl.devicemode))\n",
    "##sns.heatmap(xticklabels=range(1,10),yticklabels=range(1,10),data = confusion_matrix(y_pred=knn5_val,y_true=rvl.devicemode),cmap='Greens')\n",
    "print(classification_report(y_pred=knn5_val,y_true=rvl.devicemode))\n",
    "accuracy_score(rvl.devicemode,knn5_val)\n",
    "print ( '=========================================================')\n",
    "\n",
    "print ('RF : ')\n",
    "forest.fit(x_train,y_train)\n",
    "forest_val = forest.predict(vl)\n",
    "print(confusion_matrix(y_pred=forest_val,y_true=rvl.devicemode))\n",
    "print(classification_report(y_pred=forest_val,y_true=rvl.devicemode))\n",
    "accuracy_score(rvl.devicemode,forest_val)\n",
    "print( '=========================================================')\n",
    "\n",
    "print ('SVM : ')\n",
    "lin_svm.fit(x_train,y_train)\n",
    "svm_val = lin_svm.predict(vl)\n",
    "print(confusion_matrix(y_pred=svm_val,y_true=rvl.devicemode))\n",
    "print(classification_report(y_pred=svm_val,y_true=rvl.devicemode))\n",
    "accuracy_score(rvl.devicemode,svm_val)"
   ]
  },
  {
   "cell_type": "code",
   "execution_count": null,
   "metadata": {
    "collapsed": true
   },
   "outputs": [],
   "source": []
  },
  {
   "cell_type": "markdown",
   "metadata": {},
   "source": [
    "### visualize"
   ]
  },
  {
   "cell_type": "code",
   "execution_count": 24,
   "metadata": {},
   "outputs": [
    {
     "data": {
      "text/html": [
       "<div>\n",
       "<style>\n",
       "    .dataframe thead tr:only-child th {\n",
       "        text-align: right;\n",
       "    }\n",
       "\n",
       "    .dataframe thead th {\n",
       "        text-align: left;\n",
       "    }\n",
       "\n",
       "    .dataframe tbody tr th {\n",
       "        vertical-align: top;\n",
       "    }\n",
       "</style>\n",
       "<table border=\"1\" class=\"dataframe\">\n",
       "  <thead>\n",
       "    <tr style=\"text-align: right;\">\n",
       "      <th></th>\n",
       "      <th>agforce</th>\n",
       "      <th>agyro</th>\n",
       "      <th>mgforce</th>\n",
       "      <th>mgyro</th>\n",
       "      <th>vgforce</th>\n",
       "      <th>vgyro</th>\n",
       "      <th>maxgforce</th>\n",
       "      <th>maxgyro</th>\n",
       "      <th>mingforce</th>\n",
       "      <th>minxgyro</th>\n",
       "      <th>ampgforce</th>\n",
       "      <th>ampxgyro</th>\n",
       "      <th>devicemode</th>\n",
       "    </tr>\n",
       "  </thead>\n",
       "  <tbody>\n",
       "    <tr>\n",
       "      <th>agforce</th>\n",
       "      <td>1.000000</td>\n",
       "      <td>0.696062</td>\n",
       "      <td>0.820978</td>\n",
       "      <td>0.764672</td>\n",
       "      <td>0.499679</td>\n",
       "      <td>0.246872</td>\n",
       "      <td>0.537963</td>\n",
       "      <td>0.439780</td>\n",
       "      <td>0.117562</td>\n",
       "      <td>0.515889</td>\n",
       "      <td>0.416149</td>\n",
       "      <td>0.160473</td>\n",
       "      <td>-0.260831</td>\n",
       "    </tr>\n",
       "    <tr>\n",
       "      <th>agyro</th>\n",
       "      <td>0.696062</td>\n",
       "      <td>1.000000</td>\n",
       "      <td>0.537844</td>\n",
       "      <td>0.966930</td>\n",
       "      <td>0.491066</td>\n",
       "      <td>0.680385</td>\n",
       "      <td>0.489151</td>\n",
       "      <td>0.877253</td>\n",
       "      <td>-0.196795</td>\n",
       "      <td>0.725319</td>\n",
       "      <td>0.464919</td>\n",
       "      <td>0.558558</td>\n",
       "      <td>-0.599857</td>\n",
       "    </tr>\n",
       "    <tr>\n",
       "      <th>mgforce</th>\n",
       "      <td>0.820978</td>\n",
       "      <td>0.537844</td>\n",
       "      <td>1.000000</td>\n",
       "      <td>0.612023</td>\n",
       "      <td>0.248036</td>\n",
       "      <td>0.162738</td>\n",
       "      <td>0.205913</td>\n",
       "      <td>0.320771</td>\n",
       "      <td>0.105244</td>\n",
       "      <td>0.366937</td>\n",
       "      <td>0.142122</td>\n",
       "      <td>0.100235</td>\n",
       "      <td>-0.048216</td>\n",
       "    </tr>\n",
       "    <tr>\n",
       "      <th>mgyro</th>\n",
       "      <td>0.764672</td>\n",
       "      <td>0.966930</td>\n",
       "      <td>0.612023</td>\n",
       "      <td>1.000000</td>\n",
       "      <td>0.467247</td>\n",
       "      <td>0.543378</td>\n",
       "      <td>0.477024</td>\n",
       "      <td>0.767388</td>\n",
       "      <td>-0.126802</td>\n",
       "      <td>0.693260</td>\n",
       "      <td>0.434839</td>\n",
       "      <td>0.434854</td>\n",
       "      <td>-0.528336</td>\n",
       "    </tr>\n",
       "    <tr>\n",
       "      <th>vgforce</th>\n",
       "      <td>0.499679</td>\n",
       "      <td>0.491066</td>\n",
       "      <td>0.248036</td>\n",
       "      <td>0.467247</td>\n",
       "      <td>1.000000</td>\n",
       "      <td>0.275201</td>\n",
       "      <td>0.873485</td>\n",
       "      <td>0.381973</td>\n",
       "      <td>-0.583507</td>\n",
       "      <td>0.460764</td>\n",
       "      <td>0.896341</td>\n",
       "      <td>0.207177</td>\n",
       "      <td>-0.371557</td>\n",
       "    </tr>\n",
       "    <tr>\n",
       "      <th>vgyro</th>\n",
       "      <td>0.246872</td>\n",
       "      <td>0.680385</td>\n",
       "      <td>0.162738</td>\n",
       "      <td>0.543378</td>\n",
       "      <td>0.275201</td>\n",
       "      <td>1.000000</td>\n",
       "      <td>0.232096</td>\n",
       "      <td>0.900254</td>\n",
       "      <td>-0.215152</td>\n",
       "      <td>0.318886</td>\n",
       "      <td>0.255296</td>\n",
       "      <td>0.779359</td>\n",
       "      <td>-0.483653</td>\n",
       "    </tr>\n",
       "    <tr>\n",
       "      <th>maxgforce</th>\n",
       "      <td>0.537963</td>\n",
       "      <td>0.489151</td>\n",
       "      <td>0.205913</td>\n",
       "      <td>0.477024</td>\n",
       "      <td>0.873485</td>\n",
       "      <td>0.232096</td>\n",
       "      <td>1.000000</td>\n",
       "      <td>0.350825</td>\n",
       "      <td>-0.462329</td>\n",
       "      <td>0.479277</td>\n",
       "      <td>0.967559</td>\n",
       "      <td>0.166383</td>\n",
       "      <td>-0.465318</td>\n",
       "    </tr>\n",
       "    <tr>\n",
       "      <th>maxgyro</th>\n",
       "      <td>0.439780</td>\n",
       "      <td>0.877253</td>\n",
       "      <td>0.320771</td>\n",
       "      <td>0.767388</td>\n",
       "      <td>0.381973</td>\n",
       "      <td>0.900254</td>\n",
       "      <td>0.350825</td>\n",
       "      <td>1.000000</td>\n",
       "      <td>-0.245813</td>\n",
       "      <td>0.549110</td>\n",
       "      <td>0.363268</td>\n",
       "      <td>0.775880</td>\n",
       "      <td>-0.595594</td>\n",
       "    </tr>\n",
       "    <tr>\n",
       "      <th>mingforce</th>\n",
       "      <td>0.117562</td>\n",
       "      <td>-0.196795</td>\n",
       "      <td>0.105244</td>\n",
       "      <td>-0.126802</td>\n",
       "      <td>-0.583507</td>\n",
       "      <td>-0.215152</td>\n",
       "      <td>-0.462329</td>\n",
       "      <td>-0.245813</td>\n",
       "      <td>1.000000</td>\n",
       "      <td>-0.235746</td>\n",
       "      <td>-0.671354</td>\n",
       "      <td>-0.203586</td>\n",
       "      <td>0.242336</td>\n",
       "    </tr>\n",
       "    <tr>\n",
       "      <th>minxgyro</th>\n",
       "      <td>0.515889</td>\n",
       "      <td>0.725319</td>\n",
       "      <td>0.366937</td>\n",
       "      <td>0.693260</td>\n",
       "      <td>0.460764</td>\n",
       "      <td>0.318886</td>\n",
       "      <td>0.479277</td>\n",
       "      <td>0.549110</td>\n",
       "      <td>-0.235746</td>\n",
       "      <td>1.000000</td>\n",
       "      <td>0.467764</td>\n",
       "      <td>0.279480</td>\n",
       "      <td>-0.439512</td>\n",
       "    </tr>\n",
       "    <tr>\n",
       "      <th>ampgforce</th>\n",
       "      <td>0.416149</td>\n",
       "      <td>0.464919</td>\n",
       "      <td>0.142122</td>\n",
       "      <td>0.434839</td>\n",
       "      <td>0.896341</td>\n",
       "      <td>0.255296</td>\n",
       "      <td>0.967559</td>\n",
       "      <td>0.363268</td>\n",
       "      <td>-0.671354</td>\n",
       "      <td>0.467764</td>\n",
       "      <td>1.000000</td>\n",
       "      <td>0.197075</td>\n",
       "      <td>-0.457974</td>\n",
       "    </tr>\n",
       "    <tr>\n",
       "      <th>ampxgyro</th>\n",
       "      <td>0.160473</td>\n",
       "      <td>0.558558</td>\n",
       "      <td>0.100235</td>\n",
       "      <td>0.434854</td>\n",
       "      <td>0.207177</td>\n",
       "      <td>0.779359</td>\n",
       "      <td>0.166383</td>\n",
       "      <td>0.775880</td>\n",
       "      <td>-0.203586</td>\n",
       "      <td>0.279480</td>\n",
       "      <td>0.197075</td>\n",
       "      <td>1.000000</td>\n",
       "      <td>-0.412347</td>\n",
       "    </tr>\n",
       "    <tr>\n",
       "      <th>devicemode</th>\n",
       "      <td>-0.260831</td>\n",
       "      <td>-0.599857</td>\n",
       "      <td>-0.048216</td>\n",
       "      <td>-0.528336</td>\n",
       "      <td>-0.371557</td>\n",
       "      <td>-0.483653</td>\n",
       "      <td>-0.465318</td>\n",
       "      <td>-0.595594</td>\n",
       "      <td>0.242336</td>\n",
       "      <td>-0.439512</td>\n",
       "      <td>-0.457974</td>\n",
       "      <td>-0.412347</td>\n",
       "      <td>1.000000</td>\n",
       "    </tr>\n",
       "  </tbody>\n",
       "</table>\n",
       "</div>"
      ],
      "text/plain": [
       "             agforce     agyro   mgforce     mgyro   vgforce     vgyro  \\\n",
       "agforce     1.000000  0.696062  0.820978  0.764672  0.499679  0.246872   \n",
       "agyro       0.696062  1.000000  0.537844  0.966930  0.491066  0.680385   \n",
       "mgforce     0.820978  0.537844  1.000000  0.612023  0.248036  0.162738   \n",
       "mgyro       0.764672  0.966930  0.612023  1.000000  0.467247  0.543378   \n",
       "vgforce     0.499679  0.491066  0.248036  0.467247  1.000000  0.275201   \n",
       "vgyro       0.246872  0.680385  0.162738  0.543378  0.275201  1.000000   \n",
       "maxgforce   0.537963  0.489151  0.205913  0.477024  0.873485  0.232096   \n",
       "maxgyro     0.439780  0.877253  0.320771  0.767388  0.381973  0.900254   \n",
       "mingforce   0.117562 -0.196795  0.105244 -0.126802 -0.583507 -0.215152   \n",
       "minxgyro    0.515889  0.725319  0.366937  0.693260  0.460764  0.318886   \n",
       "ampgforce   0.416149  0.464919  0.142122  0.434839  0.896341  0.255296   \n",
       "ampxgyro    0.160473  0.558558  0.100235  0.434854  0.207177  0.779359   \n",
       "devicemode -0.260831 -0.599857 -0.048216 -0.528336 -0.371557 -0.483653   \n",
       "\n",
       "            maxgforce   maxgyro  mingforce  minxgyro  ampgforce  ampxgyro  \\\n",
       "agforce      0.537963  0.439780   0.117562  0.515889   0.416149  0.160473   \n",
       "agyro        0.489151  0.877253  -0.196795  0.725319   0.464919  0.558558   \n",
       "mgforce      0.205913  0.320771   0.105244  0.366937   0.142122  0.100235   \n",
       "mgyro        0.477024  0.767388  -0.126802  0.693260   0.434839  0.434854   \n",
       "vgforce      0.873485  0.381973  -0.583507  0.460764   0.896341  0.207177   \n",
       "vgyro        0.232096  0.900254  -0.215152  0.318886   0.255296  0.779359   \n",
       "maxgforce    1.000000  0.350825  -0.462329  0.479277   0.967559  0.166383   \n",
       "maxgyro      0.350825  1.000000  -0.245813  0.549110   0.363268  0.775880   \n",
       "mingforce   -0.462329 -0.245813   1.000000 -0.235746  -0.671354 -0.203586   \n",
       "minxgyro     0.479277  0.549110  -0.235746  1.000000   0.467764  0.279480   \n",
       "ampgforce    0.967559  0.363268  -0.671354  0.467764   1.000000  0.197075   \n",
       "ampxgyro     0.166383  0.775880  -0.203586  0.279480   0.197075  1.000000   \n",
       "devicemode  -0.465318 -0.595594   0.242336 -0.439512  -0.457974 -0.412347   \n",
       "\n",
       "            devicemode  \n",
       "agforce      -0.260831  \n",
       "agyro        -0.599857  \n",
       "mgforce      -0.048216  \n",
       "mgyro        -0.528336  \n",
       "vgforce      -0.371557  \n",
       "vgyro        -0.483653  \n",
       "maxgforce    -0.465318  \n",
       "maxgyro      -0.595594  \n",
       "mingforce     0.242336  \n",
       "minxgyro     -0.439512  \n",
       "ampgforce    -0.457974  \n",
       "ampxgyro     -0.412347  \n",
       "devicemode    1.000000  "
      ]
     },
     "execution_count": 24,
     "metadata": {},
     "output_type": "execute_result"
    }
   ],
   "source": [
    "cor_mat = rdf[FEATURES + ['devicemode']] .corr()\n",
    "cor_mat"
   ]
  },
  {
   "cell_type": "code",
   "execution_count": 25,
   "metadata": {},
   "outputs": [
    {
     "data": {
      "text/plain": [
       "<matplotlib.axes._subplots.AxesSubplot at 0x7f04172fea10>"
      ]
     },
     "execution_count": 25,
     "metadata": {},
     "output_type": "execute_result"
    },
    {
     "data": {
      "image/png": "[encoded data removed]",
      "text/plain": [
       "<matplotlib.figure.Figure at 0x7f041c967890>"
      ]
     },
     "metadata": {},
     "output_type": "display_data"
    }
   ],
   "source": [
    "sns.heatmap(cor_mat)"
   ]
  },
  {
   "cell_type": "code",
   "execution_count": 27,
   "metadata": {},
   "outputs": [
    {
     "name": "stdout",
     "output_type": "stream",
     "text": [
      "[[23886   133    24]\n",
      " [  117 39528    81]\n",
      " [   23    80 20402]]\n"
     ]
    },
    {
     "data": {
      "text/plain": [
       "<matplotlib.axes._subplots.AxesSubplot at 0x7f03f738b650>"
      ]
     },
     "execution_count": 27,
     "metadata": {},
     "output_type": "execute_result"
    },
    {
     "data": {
      "image/png": "[encoded data removed]",
      "text/plain": [
       "<matplotlib.figure.Figure at 0x7f0414009a10>"
      ]
     },
     "metadata": {},
     "output_type": "display_data"
    }
   ],
   "source": [
    "knn5 = KNeighborsClassifier(n_neighbors=5)\n",
    "knn5.fit(x_train,y_train)\n",
    "knn5_pred = knn5.predict(x_test)\n",
    "print(confusion_matrix(y_pred=knn5_pred,y_true=y_test))\n",
    "sns.heatmap(xticklabels=range(1,10),yticklabels=range(1,10),data = confusion_matrix(y_pred=knn5_pred,y_true=y_test),cmap='Greens')"
   ]
  },
  {
   "cell_type": "code",
   "execution_count": 28,
   "metadata": {},
   "outputs": [
    {
     "name": "stdout",
     "output_type": "stream",
     "text": [
      "classification report results:\r\n",
      "             precision    recall  f1-score   support\n",
      "\n",
      "          0       0.99      0.99      0.99     24043\n",
      "          1       0.99      1.00      0.99     39726\n",
      "          2       0.99      0.99      0.99     20505\n",
      "\n",
      "avg / total       0.99      0.99      0.99     84274\n",
      "\n"
     ]
    }
   ],
   "source": [
    "print('classification report results:\\r\\n' + classification_report(y_pred=knn5_pred,y_true=y_test))"
   ]
  },
  {
   "cell_type": "code",
   "execution_count": 29,
   "metadata": {},
   "outputs": [
    {
     "data": {
      "text/plain": [
       "0.99456534637017346"
      ]
     },
     "execution_count": 29,
     "metadata": {},
     "output_type": "execute_result"
    }
   ],
   "source": [
    "accuracy_score(y_test,knn5_pred)"
   ]
  },
  {
   "cell_type": "code",
   "execution_count": 24,
   "metadata": {},
   "outputs": [
    {
     "data": {
      "text/plain": [
       "<matplotlib.axes._subplots.AxesSubplot at 0x7f5851fe32d0>"
      ]
     },
     "execution_count": 24,
     "metadata": {},
     "output_type": "execute_result"
    },
    {
     "data": {
      "image/png": "[encoded data removed]",
      "text/plain": [
       "<matplotlib.figure.Figure at 0x7f5852227250>"
      ]
     },
     "metadata": {},
     "output_type": "display_data"
    }
   ],
   "source": [
    "sns.barplot(y=vl.columns,x=forest.feature_importances_,orient=\"h\" )"
   ]
  },
  {
   "cell_type": "markdown",
   "metadata": {},
   "source": [
    "#### Feature importance "
   ]
  },
  {
   "cell_type": "markdown",
   "metadata": {},
   "source": [
    "### Parameters tuning :"
   ]
  },
  {
   "cell_type": "code",
   "execution_count": 25,
   "metadata": {
    "collapsed": true
   },
   "outputs": [],
   "source": [
    "n_trees = range(10,200)\n",
    "max_features = ['sqrt','log2']\n",
    "cores =-1\n",
    "param_dict = dict(n_estimators=n_trees, max_features=max_features)\n",
    "grid = RandomizedSearchCV(forest, param_dict, cv=5, scoring='accuracy')"
   ]
  },
  {
   "cell_type": "code",
   "execution_count": 26,
   "metadata": {},
   "outputs": [
    {
     "ename": "KeyboardInterrupt",
     "evalue": "",
     "output_type": "error",
     "traceback": [
      "\u001b[0;31m---------------------------------------------------------------------------\u001b[0m",
      "\u001b[0;31mKeyboardInterrupt\u001b[0m                         Traceback (most recent call last)",
      "\u001b[0;32m<ipython-input-26-69e1d5e6dd43>\u001b[0m in \u001b[0;36m<module>\u001b[0;34m()\u001b[0m\n\u001b[0;32m----> 1\u001b[0;31m \u001b[0mgrid\u001b[0m\u001b[0;34m.\u001b[0m\u001b[0mfit\u001b[0m\u001b[0;34m(\u001b[0m\u001b[0mx_train\u001b[0m\u001b[0;34m,\u001b[0m\u001b[0my_train\u001b[0m\u001b[0;34m)\u001b[0m\u001b[0;34m\u001b[0m\u001b[0m\n\u001b[0m",
      "\u001b[0;32m/home/yuval/anaconda2/lib/python2.7/site-packages/sklearn/model_selection/_search.pyc\u001b[0m in \u001b[0;36mfit\u001b[0;34m(self, X, y, groups)\u001b[0m\n\u001b[1;32m   1188\u001b[0m                                           \u001b[0mself\u001b[0m\u001b[0;34m.\u001b[0m\u001b[0mn_iter\u001b[0m\u001b[0;34m,\u001b[0m\u001b[0;34m\u001b[0m\u001b[0m\n\u001b[1;32m   1189\u001b[0m                                           random_state=self.random_state)\n\u001b[0;32m-> 1190\u001b[0;31m         \u001b[0;32mreturn\u001b[0m \u001b[0mself\u001b[0m\u001b[0;34m.\u001b[0m\u001b[0m_fit\u001b[0m\u001b[0;34m(\u001b[0m\u001b[0mX\u001b[0m\u001b[0;34m,\u001b[0m \u001b[0my\u001b[0m\u001b[0;34m,\u001b[0m \u001b[0mgroups\u001b[0m\u001b[0;34m,\u001b[0m \u001b[0msampled_params\u001b[0m\u001b[0;34m)\u001b[0m\u001b[0;34m\u001b[0m\u001b[0m\n\u001b[0m",
      "\u001b[0;32m/home/yuval/anaconda2/lib/python2.7/site-packages/sklearn/model_selection/_search.pyc\u001b[0m in \u001b[0;36m_fit\u001b[0;34m(self, X, y, groups, parameter_iterable)\u001b[0m\n\u001b[1;32m    562\u001b[0m                                   \u001b[0mreturn_times\u001b[0m\u001b[0;34m=\u001b[0m\u001b[0mTrue\u001b[0m\u001b[0;34m,\u001b[0m \u001b[0mreturn_parameters\u001b[0m\u001b[0;34m=\u001b[0m\u001b[0mTrue\u001b[0m\u001b[0;34m,\u001b[0m\u001b[0;34m\u001b[0m\u001b[0m\n\u001b[1;32m    563\u001b[0m                                   error_score=self.error_score)\n\u001b[0;32m--> 564\u001b[0;31m           \u001b[0;32mfor\u001b[0m \u001b[0mparameters\u001b[0m \u001b[0;32min\u001b[0m \u001b[0mparameter_iterable\u001b[0m\u001b[0;34m\u001b[0m\u001b[0m\n\u001b[0m\u001b[1;32m    565\u001b[0m           for train, test in cv_iter)\n\u001b[1;32m    566\u001b[0m \u001b[0;34m\u001b[0m\u001b[0m\n",
      "\u001b[0;32m/home/yuval/anaconda2/lib/python2.7/site-packages/sklearn/externals/joblib/parallel.pyc\u001b[0m in \u001b[0;36m__call__\u001b[0;34m(self, iterable)\u001b[0m\n\u001b[1;32m    756\u001b[0m             \u001b[0;31m# was dispatched. In particular this covers the edge\u001b[0m\u001b[0;34m\u001b[0m\u001b[0;34m\u001b[0m\u001b[0m\n\u001b[1;32m    757\u001b[0m             \u001b[0;31m# case of Parallel used with an exhausted iterator.\u001b[0m\u001b[0;34m\u001b[0m\u001b[0;34m\u001b[0m\u001b[0m\n\u001b[0;32m--> 758\u001b[0;31m             \u001b[0;32mwhile\u001b[0m \u001b[0mself\u001b[0m\u001b[0;34m.\u001b[0m\u001b[0mdispatch_one_batch\u001b[0m\u001b[0;34m(\u001b[0m\u001b[0miterator\u001b[0m\u001b[0;34m)\u001b[0m\u001b[0;34m:\u001b[0m\u001b[0;34m\u001b[0m\u001b[0m\n\u001b[0m\u001b[1;32m    759\u001b[0m                 \u001b[0mself\u001b[0m\u001b[0;34m.\u001b[0m\u001b[0m_iterating\u001b[0m \u001b[0;34m=\u001b[0m \u001b[0mTrue\u001b[0m\u001b[0;34m\u001b[0m\u001b[0m\n\u001b[1;32m    760\u001b[0m             \u001b[0;32melse\u001b[0m\u001b[0;34m:\u001b[0m\u001b[0;34m\u001b[0m\u001b[0m\n",
      "\u001b[0;32m/home/yuval/anaconda2/lib/python2.7/site-packages/sklearn/externals/joblib/parallel.pyc\u001b[0m in \u001b[0;36mdispatch_one_batch\u001b[0;34m(self, iterator)\u001b[0m\n\u001b[1;32m    606\u001b[0m                 \u001b[0;32mreturn\u001b[0m \u001b[0mFalse\u001b[0m\u001b[0;34m\u001b[0m\u001b[0m\n\u001b[1;32m    607\u001b[0m             \u001b[0;32melse\u001b[0m\u001b[0;34m:\u001b[0m\u001b[0;34m\u001b[0m\u001b[0m\n\u001b[0;32m--> 608\u001b[0;31m                 \u001b[0mself\u001b[0m\u001b[0;34m.\u001b[0m\u001b[0m_dispatch\u001b[0m\u001b[0;34m(\u001b[0m\u001b[0mtasks\u001b[0m\u001b[0;34m)\u001b[0m\u001b[0;34m\u001b[0m\u001b[0m\n\u001b[0m\u001b[1;32m    609\u001b[0m                 \u001b[0;32mreturn\u001b[0m \u001b[0mTrue\u001b[0m\u001b[0;34m\u001b[0m\u001b[0m\n\u001b[1;32m    610\u001b[0m \u001b[0;34m\u001b[0m\u001b[0m\n",
      "\u001b[0;32m/home/yuval/anaconda2/lib/python2.7/site-packages/sklearn/externals/joblib/parallel.pyc\u001b[0m in \u001b[0;36m_dispatch\u001b[0;34m(self, batch)\u001b[0m\n\u001b[1;32m    569\u001b[0m         \u001b[0mdispatch_timestamp\u001b[0m \u001b[0;34m=\u001b[0m \u001b[0mtime\u001b[0m\u001b[0;34m.\u001b[0m\u001b[0mtime\u001b[0m\u001b[0;34m(\u001b[0m\u001b[0;34m)\u001b[0m\u001b[0;34m\u001b[0m\u001b[0m\n\u001b[1;32m    570\u001b[0m         \u001b[0mcb\u001b[0m \u001b[0;34m=\u001b[0m \u001b[0mBatchCompletionCallBack\u001b[0m\u001b[0;34m(\u001b[0m\u001b[0mdispatch_timestamp\u001b[0m\u001b[0;34m,\u001b[0m \u001b[0mlen\u001b[0m\u001b[0;34m(\u001b[0m\u001b[0mbatch\u001b[0m\u001b[0;34m)\u001b[0m\u001b[0;34m,\u001b[0m \u001b[0mself\u001b[0m\u001b[0;34m)\u001b[0m\u001b[0;34m\u001b[0m\u001b[0m\n\u001b[0;32m--> 571\u001b[0;31m         \u001b[0mjob\u001b[0m \u001b[0;34m=\u001b[0m \u001b[0mself\u001b[0m\u001b[0;34m.\u001b[0m\u001b[0m_backend\u001b[0m\u001b[0;34m.\u001b[0m\u001b[0mapply_async\u001b[0m\u001b[0;34m(\u001b[0m\u001b[0mbatch\u001b[0m\u001b[0;34m,\u001b[0m \u001b[0mcallback\u001b[0m\u001b[0;34m=\u001b[0m\u001b[0mcb\u001b[0m\u001b[0;34m)\u001b[0m\u001b[0;34m\u001b[0m\u001b[0m\n\u001b[0m\u001b[1;32m    572\u001b[0m         \u001b[0mself\u001b[0m\u001b[0;34m.\u001b[0m\u001b[0m_jobs\u001b[0m\u001b[0;34m.\u001b[0m\u001b[0mappend\u001b[0m\u001b[0;34m(\u001b[0m\u001b[0mjob\u001b[0m\u001b[0;34m)\u001b[0m\u001b[0;34m\u001b[0m\u001b[0m\n\u001b[1;32m    573\u001b[0m \u001b[0;34m\u001b[0m\u001b[0m\n",
      "\u001b[0;32m/home/yuval/anaconda2/lib/python2.7/site-packages/sklearn/externals/joblib/_parallel_backends.pyc\u001b[0m in \u001b[0;36mapply_async\u001b[0;34m(self, func, callback)\u001b[0m\n\u001b[1;32m    107\u001b[0m     \u001b[0;32mdef\u001b[0m \u001b[0mapply_async\u001b[0m\u001b[0;34m(\u001b[0m\u001b[0mself\u001b[0m\u001b[0;34m,\u001b[0m \u001b[0mfunc\u001b[0m\u001b[0;34m,\u001b[0m \u001b[0mcallback\u001b[0m\u001b[0;34m=\u001b[0m\u001b[0mNone\u001b[0m\u001b[0;34m)\u001b[0m\u001b[0;34m:\u001b[0m\u001b[0;34m\u001b[0m\u001b[0m\n\u001b[1;32m    108\u001b[0m         \u001b[0;34m\"\"\"Schedule a func to be run\"\"\"\u001b[0m\u001b[0;34m\u001b[0m\u001b[0m\n\u001b[0;32m--> 109\u001b[0;31m         \u001b[0mresult\u001b[0m \u001b[0;34m=\u001b[0m \u001b[0mImmediateResult\u001b[0m\u001b[0;34m(\u001b[0m\u001b[0mfunc\u001b[0m\u001b[0;34m)\u001b[0m\u001b[0;34m\u001b[0m\u001b[0m\n\u001b[0m\u001b[1;32m    110\u001b[0m         \u001b[0;32mif\u001b[0m \u001b[0mcallback\u001b[0m\u001b[0;34m:\u001b[0m\u001b[0;34m\u001b[0m\u001b[0m\n\u001b[1;32m    111\u001b[0m             \u001b[0mcallback\u001b[0m\u001b[0;34m(\u001b[0m\u001b[0mresult\u001b[0m\u001b[0;34m)\u001b[0m\u001b[0;34m\u001b[0m\u001b[0m\n",
      "\u001b[0;32m/home/yuval/anaconda2/lib/python2.7/site-packages/sklearn/externals/joblib/_parallel_backends.pyc\u001b[0m in \u001b[0;36m__init__\u001b[0;34m(self, batch)\u001b[0m\n\u001b[1;32m    324\u001b[0m         \u001b[0;31m# Don't delay the application, to avoid keeping the input\u001b[0m\u001b[0;34m\u001b[0m\u001b[0;34m\u001b[0m\u001b[0m\n\u001b[1;32m    325\u001b[0m         \u001b[0;31m# arguments in memory\u001b[0m\u001b[0;34m\u001b[0m\u001b[0;34m\u001b[0m\u001b[0m\n\u001b[0;32m--> 326\u001b[0;31m         \u001b[0mself\u001b[0m\u001b[0;34m.\u001b[0m\u001b[0mresults\u001b[0m \u001b[0;34m=\u001b[0m \u001b[0mbatch\u001b[0m\u001b[0;34m(\u001b[0m\u001b[0;34m)\u001b[0m\u001b[0;34m\u001b[0m\u001b[0m\n\u001b[0m\u001b[1;32m    327\u001b[0m \u001b[0;34m\u001b[0m\u001b[0m\n\u001b[1;32m    328\u001b[0m     \u001b[0;32mdef\u001b[0m \u001b[0mget\u001b[0m\u001b[0;34m(\u001b[0m\u001b[0mself\u001b[0m\u001b[0;34m)\u001b[0m\u001b[0;34m:\u001b[0m\u001b[0;34m\u001b[0m\u001b[0m\n",
      "\u001b[0;32m/home/yuval/anaconda2/lib/python2.7/site-packages/sklearn/externals/joblib/parallel.pyc\u001b[0m in \u001b[0;36m__call__\u001b[0;34m(self)\u001b[0m\n\u001b[1;32m    129\u001b[0m \u001b[0;34m\u001b[0m\u001b[0m\n\u001b[1;32m    130\u001b[0m     \u001b[0;32mdef\u001b[0m \u001b[0m__call__\u001b[0m\u001b[0;34m(\u001b[0m\u001b[0mself\u001b[0m\u001b[0;34m)\u001b[0m\u001b[0;34m:\u001b[0m\u001b[0;34m\u001b[0m\u001b[0m\n\u001b[0;32m--> 131\u001b[0;31m         \u001b[0;32mreturn\u001b[0m \u001b[0;34m[\u001b[0m\u001b[0mfunc\u001b[0m\u001b[0;34m(\u001b[0m\u001b[0;34m*\u001b[0m\u001b[0margs\u001b[0m\u001b[0;34m,\u001b[0m \u001b[0;34m**\u001b[0m\u001b[0mkwargs\u001b[0m\u001b[0;34m)\u001b[0m \u001b[0;32mfor\u001b[0m \u001b[0mfunc\u001b[0m\u001b[0;34m,\u001b[0m \u001b[0margs\u001b[0m\u001b[0;34m,\u001b[0m \u001b[0mkwargs\u001b[0m \u001b[0;32min\u001b[0m \u001b[0mself\u001b[0m\u001b[0;34m.\u001b[0m\u001b[0mitems\u001b[0m\u001b[0;34m]\u001b[0m\u001b[0;34m\u001b[0m\u001b[0m\n\u001b[0m\u001b[1;32m    132\u001b[0m \u001b[0;34m\u001b[0m\u001b[0m\n\u001b[1;32m    133\u001b[0m     \u001b[0;32mdef\u001b[0m \u001b[0m__len__\u001b[0m\u001b[0;34m(\u001b[0m\u001b[0mself\u001b[0m\u001b[0;34m)\u001b[0m\u001b[0;34m:\u001b[0m\u001b[0;34m\u001b[0m\u001b[0m\n",
      "\u001b[0;32m/home/yuval/anaconda2/lib/python2.7/site-packages/sklearn/model_selection/_validation.pyc\u001b[0m in \u001b[0;36m_fit_and_score\u001b[0;34m(estimator, X, y, scorer, train, test, verbose, parameters, fit_params, return_train_score, return_parameters, return_n_test_samples, return_times, error_score)\u001b[0m\n\u001b[1;32m    236\u001b[0m             \u001b[0mestimator\u001b[0m\u001b[0;34m.\u001b[0m\u001b[0mfit\u001b[0m\u001b[0;34m(\u001b[0m\u001b[0mX_train\u001b[0m\u001b[0;34m,\u001b[0m \u001b[0;34m**\u001b[0m\u001b[0mfit_params\u001b[0m\u001b[0;34m)\u001b[0m\u001b[0;34m\u001b[0m\u001b[0m\n\u001b[1;32m    237\u001b[0m         \u001b[0;32melse\u001b[0m\u001b[0;34m:\u001b[0m\u001b[0;34m\u001b[0m\u001b[0m\n\u001b[0;32m--> 238\u001b[0;31m             \u001b[0mestimator\u001b[0m\u001b[0;34m.\u001b[0m\u001b[0mfit\u001b[0m\u001b[0;34m(\u001b[0m\u001b[0mX_train\u001b[0m\u001b[0;34m,\u001b[0m \u001b[0my_train\u001b[0m\u001b[0;34m,\u001b[0m \u001b[0;34m**\u001b[0m\u001b[0mfit_params\u001b[0m\u001b[0;34m)\u001b[0m\u001b[0;34m\u001b[0m\u001b[0m\n\u001b[0m\u001b[1;32m    239\u001b[0m \u001b[0;34m\u001b[0m\u001b[0m\n\u001b[1;32m    240\u001b[0m     \u001b[0;32mexcept\u001b[0m \u001b[0mException\u001b[0m \u001b[0;32mas\u001b[0m \u001b[0me\u001b[0m\u001b[0;34m:\u001b[0m\u001b[0;34m\u001b[0m\u001b[0m\n",
      "\u001b[0;32m/home/yuval/anaconda2/lib/python2.7/site-packages/sklearn/ensemble/forest.pyc\u001b[0m in \u001b[0;36mfit\u001b[0;34m(self, X, y, sample_weight)\u001b[0m\n\u001b[1;32m    324\u001b[0m                     \u001b[0mt\u001b[0m\u001b[0;34m,\u001b[0m \u001b[0mself\u001b[0m\u001b[0;34m,\u001b[0m \u001b[0mX\u001b[0m\u001b[0;34m,\u001b[0m \u001b[0my\u001b[0m\u001b[0;34m,\u001b[0m \u001b[0msample_weight\u001b[0m\u001b[0;34m,\u001b[0m \u001b[0mi\u001b[0m\u001b[0;34m,\u001b[0m \u001b[0mlen\u001b[0m\u001b[0;34m(\u001b[0m\u001b[0mtrees\u001b[0m\u001b[0;34m)\u001b[0m\u001b[0;34m,\u001b[0m\u001b[0;34m\u001b[0m\u001b[0m\n\u001b[1;32m    325\u001b[0m                     verbose=self.verbose, class_weight=self.class_weight)\n\u001b[0;32m--> 326\u001b[0;31m                 for i, t in enumerate(trees))\n\u001b[0m\u001b[1;32m    327\u001b[0m \u001b[0;34m\u001b[0m\u001b[0m\n\u001b[1;32m    328\u001b[0m             \u001b[0;31m# Collect newly grown trees\u001b[0m\u001b[0;34m\u001b[0m\u001b[0;34m\u001b[0m\u001b[0m\n",
      "\u001b[0;32m/home/yuval/anaconda2/lib/python2.7/site-packages/sklearn/externals/joblib/parallel.pyc\u001b[0m in \u001b[0;36m__call__\u001b[0;34m(self, iterable)\u001b[0m\n\u001b[1;32m    756\u001b[0m             \u001b[0;31m# was dispatched. In particular this covers the edge\u001b[0m\u001b[0;34m\u001b[0m\u001b[0;34m\u001b[0m\u001b[0m\n\u001b[1;32m    757\u001b[0m             \u001b[0;31m# case of Parallel used with an exhausted iterator.\u001b[0m\u001b[0;34m\u001b[0m\u001b[0;34m\u001b[0m\u001b[0m\n\u001b[0;32m--> 758\u001b[0;31m             \u001b[0;32mwhile\u001b[0m \u001b[0mself\u001b[0m\u001b[0;34m.\u001b[0m\u001b[0mdispatch_one_batch\u001b[0m\u001b[0;34m(\u001b[0m\u001b[0miterator\u001b[0m\u001b[0;34m)\u001b[0m\u001b[0;34m:\u001b[0m\u001b[0;34m\u001b[0m\u001b[0m\n\u001b[0m\u001b[1;32m    759\u001b[0m                 \u001b[0mself\u001b[0m\u001b[0;34m.\u001b[0m\u001b[0m_iterating\u001b[0m \u001b[0;34m=\u001b[0m \u001b[0mTrue\u001b[0m\u001b[0;34m\u001b[0m\u001b[0m\n\u001b[1;32m    760\u001b[0m             \u001b[0;32melse\u001b[0m\u001b[0;34m:\u001b[0m\u001b[0;34m\u001b[0m\u001b[0m\n",
      "\u001b[0;32m/home/yuval/anaconda2/lib/python2.7/site-packages/sklearn/externals/joblib/parallel.pyc\u001b[0m in \u001b[0;36mdispatch_one_batch\u001b[0;34m(self, iterator)\u001b[0m\n\u001b[1;32m    606\u001b[0m                 \u001b[0;32mreturn\u001b[0m \u001b[0mFalse\u001b[0m\u001b[0;34m\u001b[0m\u001b[0m\n\u001b[1;32m    607\u001b[0m             \u001b[0;32melse\u001b[0m\u001b[0;34m:\u001b[0m\u001b[0;34m\u001b[0m\u001b[0m\n\u001b[0;32m--> 608\u001b[0;31m                 \u001b[0mself\u001b[0m\u001b[0;34m.\u001b[0m\u001b[0m_dispatch\u001b[0m\u001b[0;34m(\u001b[0m\u001b[0mtasks\u001b[0m\u001b[0;34m)\u001b[0m\u001b[0;34m\u001b[0m\u001b[0m\n\u001b[0m\u001b[1;32m    609\u001b[0m                 \u001b[0;32mreturn\u001b[0m \u001b[0mTrue\u001b[0m\u001b[0;34m\u001b[0m\u001b[0m\n\u001b[1;32m    610\u001b[0m \u001b[0;34m\u001b[0m\u001b[0m\n",
      "\u001b[0;32m/home/yuval/anaconda2/lib/python2.7/site-packages/sklearn/externals/joblib/parallel.pyc\u001b[0m in \u001b[0;36m_dispatch\u001b[0;34m(self, batch)\u001b[0m\n\u001b[1;32m    569\u001b[0m         \u001b[0mdispatch_timestamp\u001b[0m \u001b[0;34m=\u001b[0m \u001b[0mtime\u001b[0m\u001b[0;34m.\u001b[0m\u001b[0mtime\u001b[0m\u001b[0;34m(\u001b[0m\u001b[0;34m)\u001b[0m\u001b[0;34m\u001b[0m\u001b[0m\n\u001b[1;32m    570\u001b[0m         \u001b[0mcb\u001b[0m \u001b[0;34m=\u001b[0m \u001b[0mBatchCompletionCallBack\u001b[0m\u001b[0;34m(\u001b[0m\u001b[0mdispatch_timestamp\u001b[0m\u001b[0;34m,\u001b[0m \u001b[0mlen\u001b[0m\u001b[0;34m(\u001b[0m\u001b[0mbatch\u001b[0m\u001b[0;34m)\u001b[0m\u001b[0;34m,\u001b[0m \u001b[0mself\u001b[0m\u001b[0;34m)\u001b[0m\u001b[0;34m\u001b[0m\u001b[0m\n\u001b[0;32m--> 571\u001b[0;31m         \u001b[0mjob\u001b[0m \u001b[0;34m=\u001b[0m \u001b[0mself\u001b[0m\u001b[0;34m.\u001b[0m\u001b[0m_backend\u001b[0m\u001b[0;34m.\u001b[0m\u001b[0mapply_async\u001b[0m\u001b[0;34m(\u001b[0m\u001b[0mbatch\u001b[0m\u001b[0;34m,\u001b[0m \u001b[0mcallback\u001b[0m\u001b[0;34m=\u001b[0m\u001b[0mcb\u001b[0m\u001b[0;34m)\u001b[0m\u001b[0;34m\u001b[0m\u001b[0m\n\u001b[0m\u001b[1;32m    572\u001b[0m         \u001b[0mself\u001b[0m\u001b[0;34m.\u001b[0m\u001b[0m_jobs\u001b[0m\u001b[0;34m.\u001b[0m\u001b[0mappend\u001b[0m\u001b[0;34m(\u001b[0m\u001b[0mjob\u001b[0m\u001b[0;34m)\u001b[0m\u001b[0;34m\u001b[0m\u001b[0m\n\u001b[1;32m    573\u001b[0m \u001b[0;34m\u001b[0m\u001b[0m\n",
      "\u001b[0;32m/home/yuval/anaconda2/lib/python2.7/site-packages/sklearn/externals/joblib/_parallel_backends.pyc\u001b[0m in \u001b[0;36mapply_async\u001b[0;34m(self, func, callback)\u001b[0m\n\u001b[1;32m    107\u001b[0m     \u001b[0;32mdef\u001b[0m \u001b[0mapply_async\u001b[0m\u001b[0;34m(\u001b[0m\u001b[0mself\u001b[0m\u001b[0;34m,\u001b[0m \u001b[0mfunc\u001b[0m\u001b[0;34m,\u001b[0m \u001b[0mcallback\u001b[0m\u001b[0;34m=\u001b[0m\u001b[0mNone\u001b[0m\u001b[0;34m)\u001b[0m\u001b[0;34m:\u001b[0m\u001b[0;34m\u001b[0m\u001b[0m\n\u001b[1;32m    108\u001b[0m         \u001b[0;34m\"\"\"Schedule a func to be run\"\"\"\u001b[0m\u001b[0;34m\u001b[0m\u001b[0m\n\u001b[0;32m--> 109\u001b[0;31m         \u001b[0mresult\u001b[0m \u001b[0;34m=\u001b[0m \u001b[0mImmediateResult\u001b[0m\u001b[0;34m(\u001b[0m\u001b[0mfunc\u001b[0m\u001b[0;34m)\u001b[0m\u001b[0;34m\u001b[0m\u001b[0m\n\u001b[0m\u001b[1;32m    110\u001b[0m         \u001b[0;32mif\u001b[0m \u001b[0mcallback\u001b[0m\u001b[0;34m:\u001b[0m\u001b[0;34m\u001b[0m\u001b[0m\n\u001b[1;32m    111\u001b[0m             \u001b[0mcallback\u001b[0m\u001b[0;34m(\u001b[0m\u001b[0mresult\u001b[0m\u001b[0;34m)\u001b[0m\u001b[0;34m\u001b[0m\u001b[0m\n",
      "\u001b[0;32m/home/yuval/anaconda2/lib/python2.7/site-packages/sklearn/externals/joblib/_parallel_backends.pyc\u001b[0m in \u001b[0;36m__init__\u001b[0;34m(self, batch)\u001b[0m\n\u001b[1;32m    324\u001b[0m         \u001b[0;31m# Don't delay the application, to avoid keeping the input\u001b[0m\u001b[0;34m\u001b[0m\u001b[0;34m\u001b[0m\u001b[0m\n\u001b[1;32m    325\u001b[0m         \u001b[0;31m# arguments in memory\u001b[0m\u001b[0;34m\u001b[0m\u001b[0;34m\u001b[0m\u001b[0m\n\u001b[0;32m--> 326\u001b[0;31m         \u001b[0mself\u001b[0m\u001b[0;34m.\u001b[0m\u001b[0mresults\u001b[0m \u001b[0;34m=\u001b[0m \u001b[0mbatch\u001b[0m\u001b[0;34m(\u001b[0m\u001b[0;34m)\u001b[0m\u001b[0;34m\u001b[0m\u001b[0m\n\u001b[0m\u001b[1;32m    327\u001b[0m \u001b[0;34m\u001b[0m\u001b[0m\n\u001b[1;32m    328\u001b[0m     \u001b[0;32mdef\u001b[0m \u001b[0mget\u001b[0m\u001b[0;34m(\u001b[0m\u001b[0mself\u001b[0m\u001b[0;34m)\u001b[0m\u001b[0;34m:\u001b[0m\u001b[0;34m\u001b[0m\u001b[0m\n",
      "\u001b[0;32m/home/yuval/anaconda2/lib/python2.7/site-packages/sklearn/externals/joblib/parallel.pyc\u001b[0m in \u001b[0;36m__call__\u001b[0;34m(self)\u001b[0m\n\u001b[1;32m    129\u001b[0m \u001b[0;34m\u001b[0m\u001b[0m\n\u001b[1;32m    130\u001b[0m     \u001b[0;32mdef\u001b[0m \u001b[0m__call__\u001b[0m\u001b[0;34m(\u001b[0m\u001b[0mself\u001b[0m\u001b[0;34m)\u001b[0m\u001b[0;34m:\u001b[0m\u001b[0;34m\u001b[0m\u001b[0m\n\u001b[0;32m--> 131\u001b[0;31m         \u001b[0;32mreturn\u001b[0m \u001b[0;34m[\u001b[0m\u001b[0mfunc\u001b[0m\u001b[0;34m(\u001b[0m\u001b[0;34m*\u001b[0m\u001b[0margs\u001b[0m\u001b[0;34m,\u001b[0m \u001b[0;34m**\u001b[0m\u001b[0mkwargs\u001b[0m\u001b[0;34m)\u001b[0m \u001b[0;32mfor\u001b[0m \u001b[0mfunc\u001b[0m\u001b[0;34m,\u001b[0m \u001b[0margs\u001b[0m\u001b[0;34m,\u001b[0m \u001b[0mkwargs\u001b[0m \u001b[0;32min\u001b[0m \u001b[0mself\u001b[0m\u001b[0;34m.\u001b[0m\u001b[0mitems\u001b[0m\u001b[0;34m]\u001b[0m\u001b[0;34m\u001b[0m\u001b[0m\n\u001b[0m\u001b[1;32m    132\u001b[0m \u001b[0;34m\u001b[0m\u001b[0m\n\u001b[1;32m    133\u001b[0m     \u001b[0;32mdef\u001b[0m \u001b[0m__len__\u001b[0m\u001b[0;34m(\u001b[0m\u001b[0mself\u001b[0m\u001b[0;34m)\u001b[0m\u001b[0;34m:\u001b[0m\u001b[0;34m\u001b[0m\u001b[0m\n",
      "\u001b[0;32m/home/yuval/anaconda2/lib/python2.7/site-packages/sklearn/ensemble/forest.pyc\u001b[0m in \u001b[0;36m_parallel_build_trees\u001b[0;34m(tree, forest, X, y, sample_weight, tree_idx, n_trees, verbose, class_weight)\u001b[0m\n\u001b[1;32m    118\u001b[0m             \u001b[0mcurr_sample_weight\u001b[0m \u001b[0;34m*=\u001b[0m \u001b[0mcompute_sample_weight\u001b[0m\u001b[0;34m(\u001b[0m\u001b[0;34m'balanced'\u001b[0m\u001b[0;34m,\u001b[0m \u001b[0my\u001b[0m\u001b[0;34m,\u001b[0m \u001b[0mindices\u001b[0m\u001b[0;34m)\u001b[0m\u001b[0;34m\u001b[0m\u001b[0m\n\u001b[1;32m    119\u001b[0m \u001b[0;34m\u001b[0m\u001b[0m\n\u001b[0;32m--> 120\u001b[0;31m         \u001b[0mtree\u001b[0m\u001b[0;34m.\u001b[0m\u001b[0mfit\u001b[0m\u001b[0;34m(\u001b[0m\u001b[0mX\u001b[0m\u001b[0;34m,\u001b[0m \u001b[0my\u001b[0m\u001b[0;34m,\u001b[0m \u001b[0msample_weight\u001b[0m\u001b[0;34m=\u001b[0m\u001b[0mcurr_sample_weight\u001b[0m\u001b[0;34m,\u001b[0m \u001b[0mcheck_input\u001b[0m\u001b[0;34m=\u001b[0m\u001b[0mFalse\u001b[0m\u001b[0;34m)\u001b[0m\u001b[0;34m\u001b[0m\u001b[0m\n\u001b[0m\u001b[1;32m    121\u001b[0m     \u001b[0;32melse\u001b[0m\u001b[0;34m:\u001b[0m\u001b[0;34m\u001b[0m\u001b[0m\n\u001b[1;32m    122\u001b[0m         \u001b[0mtree\u001b[0m\u001b[0;34m.\u001b[0m\u001b[0mfit\u001b[0m\u001b[0;34m(\u001b[0m\u001b[0mX\u001b[0m\u001b[0;34m,\u001b[0m \u001b[0my\u001b[0m\u001b[0;34m,\u001b[0m \u001b[0msample_weight\u001b[0m\u001b[0;34m=\u001b[0m\u001b[0msample_weight\u001b[0m\u001b[0;34m,\u001b[0m \u001b[0mcheck_input\u001b[0m\u001b[0;34m=\u001b[0m\u001b[0mFalse\u001b[0m\u001b[0;34m)\u001b[0m\u001b[0;34m\u001b[0m\u001b[0m\n",
      "\u001b[0;32m/home/yuval/anaconda2/lib/python2.7/site-packages/sklearn/tree/tree.pyc\u001b[0m in \u001b[0;36mfit\u001b[0;34m(self, X, y, sample_weight, check_input, X_idx_sorted)\u001b[0m\n\u001b[1;32m    737\u001b[0m             \u001b[0msample_weight\u001b[0m\u001b[0;34m=\u001b[0m\u001b[0msample_weight\u001b[0m\u001b[0;34m,\u001b[0m\u001b[0;34m\u001b[0m\u001b[0m\n\u001b[1;32m    738\u001b[0m             \u001b[0mcheck_input\u001b[0m\u001b[0;34m=\u001b[0m\u001b[0mcheck_input\u001b[0m\u001b[0;34m,\u001b[0m\u001b[0;34m\u001b[0m\u001b[0m\n\u001b[0;32m--> 739\u001b[0;31m             X_idx_sorted=X_idx_sorted)\n\u001b[0m\u001b[1;32m    740\u001b[0m         \u001b[0;32mreturn\u001b[0m \u001b[0mself\u001b[0m\u001b[0;34m\u001b[0m\u001b[0m\n\u001b[1;32m    741\u001b[0m \u001b[0;34m\u001b[0m\u001b[0m\n",
      "\u001b[0;32m/home/yuval/anaconda2/lib/python2.7/site-packages/sklearn/tree/tree.pyc\u001b[0m in \u001b[0;36mfit\u001b[0;34m(self, X, y, sample_weight, check_input, X_idx_sorted)\u001b[0m\n\u001b[1;32m    348\u001b[0m                                            self.min_impurity_split)\n\u001b[1;32m    349\u001b[0m \u001b[0;34m\u001b[0m\u001b[0m\n\u001b[0;32m--> 350\u001b[0;31m         \u001b[0mbuilder\u001b[0m\u001b[0;34m.\u001b[0m\u001b[0mbuild\u001b[0m\u001b[0;34m(\u001b[0m\u001b[0mself\u001b[0m\u001b[0;34m.\u001b[0m\u001b[0mtree_\u001b[0m\u001b[0;34m,\u001b[0m \u001b[0mX\u001b[0m\u001b[0;34m,\u001b[0m \u001b[0my\u001b[0m\u001b[0;34m,\u001b[0m \u001b[0msample_weight\u001b[0m\u001b[0;34m,\u001b[0m \u001b[0mX_idx_sorted\u001b[0m\u001b[0;34m)\u001b[0m\u001b[0;34m\u001b[0m\u001b[0m\n\u001b[0m\u001b[1;32m    351\u001b[0m \u001b[0;34m\u001b[0m\u001b[0m\n\u001b[1;32m    352\u001b[0m         \u001b[0;32mif\u001b[0m \u001b[0mself\u001b[0m\u001b[0;34m.\u001b[0m\u001b[0mn_outputs_\u001b[0m \u001b[0;34m==\u001b[0m \u001b[0;36m1\u001b[0m\u001b[0;34m:\u001b[0m\u001b[0;34m\u001b[0m\u001b[0m\n",
      "\u001b[0;31mKeyboardInterrupt\u001b[0m: "
     ]
    }
   ],
   "source": [
    "grid.fit(x_train,y_train)"
   ]
  },
  {
   "cell_type": "code",
   "execution_count": null,
   "metadata": {
    "collapsed": true
   },
   "outputs": [],
   "source": [
    "print (grid.best_score_)\n",
    "print (grid.best_params_)\n",
    "print (grid.best_estimator_)"
   ]
  },
  {
   "cell_type": "code",
   "execution_count": 57,
   "metadata": {},
   "outputs": [
    {
     "name": "stdout",
     "output_type": "stream",
     "text": [
      "             precision    recall  f1-score   support\n",
      "\n",
      "          0       0.97      0.24      0.38      7551\n",
      "          1       0.43      0.98      0.60      4432\n",
      "          2       0.98      1.00      0.99      3769\n",
      "\n",
      "avg / total       0.82      0.63      0.59     15752\n",
      "\n",
      "0.630078720163\n"
     ]
    }
   ],
   "source": [
    "forset = RandomForestClassifier(n_estimators=grid.best_params_[\"n_estimators\"],max_features =grid.best_params_[\"max_features\"])\n",
    "forest.fit(x_train, y_train)\n",
    "forest_val = forest.predict(vl)\n",
    "print(classification_report(y_pred=forest_val,y_true=rvl.devicemode))\n",
    "print (accuracy_score(rvl.devicemode,forest_val))"
   ]
  },
  {
   "cell_type": "code",
   "execution_count": null,
   "metadata": {
    "collapsed": true
   },
   "outputs": [],
   "source": [
    "print ('Thanks !')"
   ]
  }
 ],
 "metadata": {
  "kernelspec": {
   "display_name": "Python 2",
   "language": "python",
   "name": "python2"
  },
  "language_info": {
   "codemirror_mode": {
    "name": "ipython",
    "version": 2
   },
   "file_extension": ".py",
   "mimetype": "text/x-python",
   "name": "python",
   "nbconvert_exporter": "python",
   "pygments_lexer": "ipython2",
   "version": "2.7.13"
  }
 },
 "nbformat": 4,
 "nbformat_minor": 2
}
