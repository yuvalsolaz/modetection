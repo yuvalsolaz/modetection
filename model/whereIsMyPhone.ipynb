{
 "cells": [
  {
   "cell_type": "code",
   "execution_count": 28,
   "metadata": {},
   "outputs": [
    {
     "name": "stdout",
     "output_type": "stream",
     "text": [
      "\n"
     ]
    }
   ],
   "source": [
    "import os\n",
    "import pandas as pd\n",
    "\n",
    "data \n",
    "labels = ['pocket','swing','texting','whatever'] "
   ]
  },
  {
   "cell_type": "markdown",
   "metadata": {},
   "source": [
    "### read raw data files and add label colomn by parsing the file name "
   ]
  },
  {
   "cell_type": "code",
   "execution_count": 29,
   "metadata": {},
   "outputs": [],
   "source": [
    "def loadFile(root,file):\n",
    "    print 'loading : ' , file \n",
    "    data=pd.read_csv(os.path.join(root,file))\n",
    "    for label in labels:\n",
    "        if file.lower().startswith(label.lower()):\n",
    "            print 'add label : ', label\n",
    "            data['label']=label\n",
    "    return data"
   ]
  },
  {
   "cell_type": "code",
   "execution_count": 32,
   "metadata": {},
   "outputs": [
    {
     "name": "stdout",
     "output_type": "stream",
     "text": [
      "\n"
     ]
    }
   ],
   "source": [
    "def loadFiles(inputDir):\n",
    "    print 'loading files from : ' , inputDir \n",
    "    for root, dirs, filenames in os.walk(inputDir):\n",
    "        for f in filenames:\n",
    "            if f.lower().endswith('.csv'):\n",
    "                loadFile(root,f)"
   ]
  },
  {
   "cell_type": "code",
   "execution_count": 33,
   "metadata": {},
   "outputs": [
    {
     "name": "stdout",
     "output_type": "stream",
     "text": [
      "loading files from :  ../raw-data\n",
      "loading :  SwingRightPhoneDownScBody.csv\n",
      "add label :  swing\n",
      "loading :  swingLeftHandPhoneDownScBody (1).csv\n",
      "add label :  swing\n",
      "loading :  swingLeftHandPhoneDownScBody.csv\n",
      "add label :  swing\n",
      "loading :  TextingPointingDorwatd.csv\n",
      "add label :  texting\n",
      "loading :  swing3.csv\n",
      "add label :  swing\n",
      "loading :  Pocket2.csv\n",
      "add label :  pocket\n",
      "loading :  PocketLeftAidePhoneDownScBodyLoose.csv\n",
      "add label :  pocket\n",
      "loading :  Texting2.csv\n",
      "add label :  texting\n",
      "loading :  SwingRight2.csv\n",
      "add label :  swing\n",
      "loading :  swing4.csv\n",
      "add label :  swing\n",
      "loading :  swing2.csv\n",
      "add label :  swing\n"
     ]
    }
   ],
   "source": [
    "loadFiles(r'../raw-data')"
   ]
  },
  {
   "cell_type": "code",
   "execution_count": null,
   "metadata": {
    "collapsed": true
   },
   "outputs": [],
   "source": []
  }
 ],
 "metadata": {
  "kernelspec": {
   "display_name": "Python 2",
   "language": "python",
   "name": "python2"
  },
  "language_info": {
   "codemirror_mode": {
    "name": "ipython",
    "version": 2
   },
   "file_extension": ".py",
   "mimetype": "text/x-python",
   "name": "python",
   "nbconvert_exporter": "python",
   "pygments_lexer": "ipython2",
   "version": "2.7.13"
  }
 },
 "nbformat": 4,
 "nbformat_minor": 2
}
