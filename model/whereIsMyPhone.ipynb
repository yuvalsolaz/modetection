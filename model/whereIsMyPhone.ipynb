{
 "cells": [
  {
   "cell_type": "code",
   "execution_count": 42,
   "metadata": {},
   "outputs": [],
   "source": [
    "import os\n",
    "import pandas as pd\n",
    "import numpy as np\n",
    "\n",
    "# Visualisation\n",
    "import matplotlib as mpl\n",
    "import matplotlib.pyplot as plt\n",
    "import matplotlib.pylab as pylab\n",
    "%matplotlib inline\n",
    "import seaborn as sns\n",
    "\n",
    "LABELS = ['pocket','swing','texting','whatever'] "
   ]
  },
  {
   "cell_type": "markdown",
   "metadata": {},
   "source": [
    "### read raw data files and add label colomn by parsing the file name "
   ]
  },
  {
   "cell_type": "code",
   "execution_count": 43,
   "metadata": {
    "collapsed": true
   },
   "outputs": [],
   "source": [
    "def loadFile(root,file):\n",
    "    print 'loading : ' , file \n",
    "    data=pd.read_csv(os.path.join(root,file))\n",
    "    data['source']=file  \n",
    "    for label in LABELS:\n",
    "        if file.lower().startswith(label.lower()):\n",
    "            # print 'add label : ', label\n",
    "            data['label']=label\n",
    "            data['devicemode'] =  LABELS.index(label)\n",
    "            return data\n",
    "    data['label']=LABELS[-1]\n",
    "    return data"
   ]
  },
  {
   "cell_type": "code",
   "execution_count": 44,
   "metadata": {
    "collapsed": true
   },
   "outputs": [],
   "source": [
    "def loadFiles(inputDir):\n",
    "    print 'loading files from : ' , inputDir \n",
    "    return pd.concat([loadFile(inputDir,f) for f in os.listdir(inputDir) if f.lower().endswith('.csv')])  "
   ]
  },
  {
   "cell_type": "code",
   "execution_count": 45,
   "metadata": {},
   "outputs": [
    {
     "name": "stdout",
     "output_type": "stream",
     "text": [
      "loading files from :  ../raw-data/utf8\n",
      "loading :  Texting2.csv\n",
      "loading :  SwingRightPhoneDownScBody.csv\n",
      "loading :  SwingRight2.csv\n",
      "loading :  swing3.csv\n",
      "loading :  swing2.csv\n",
      "loading :  swing4.csv\n",
      "loading :  Pocket2.csv\n",
      "loading :  swingLeftHandPhoneDownScBody.csv\n",
      "loading :  TextingPointingDorwatd.csv\n",
      "loading :  PocketLeftAidePhoneDownScBodyLoose.csv\n"
     ]
    }
   ],
   "source": [
    "rdf = loadFiles(r'../raw-data/utf8')"
   ]
  },
  {
   "cell_type": "code",
   "execution_count": 46,
   "metadata": {},
   "outputs": [
    {
     "data": {
      "text/html": [
       "<div>\n",
       "<style>\n",
       "    .dataframe thead tr:only-child th {\n",
       "        text-align: right;\n",
       "    }\n",
       "\n",
       "    .dataframe thead th {\n",
       "        text-align: left;\n",
       "    }\n",
       "\n",
       "    .dataframe tbody tr th {\n",
       "        vertical-align: top;\n",
       "    }\n",
       "</style>\n",
       "<table border=\"1\" class=\"dataframe\">\n",
       "  <thead>\n",
       "    <tr style=\"text-align: right;\">\n",
       "      <th></th>\n",
       "      <th>time</th>\n",
       "      <th>gfx</th>\n",
       "      <th>gFy</th>\n",
       "      <th>gFz</th>\n",
       "      <th>wx</th>\n",
       "      <th>wy</th>\n",
       "      <th>wz</th>\n",
       "      <th>p</th>\n",
       "      <th>Bx</th>\n",
       "      <th>By</th>\n",
       "      <th>Bz</th>\n",
       "      <th>Unnamed: 11</th>\n",
       "      <th>source</th>\n",
       "      <th>label</th>\n",
       "      <th>devicemode</th>\n",
       "    </tr>\n",
       "  </thead>\n",
       "  <tbody>\n",
       "    <tr>\n",
       "      <th>0</th>\n",
       "      <td>0.020</td>\n",
       "      <td>-0.0148</td>\n",
       "      <td>0.3461</td>\n",
       "      <td>0.9069</td>\n",
       "      <td>0.1421</td>\n",
       "      <td>0.0603</td>\n",
       "      <td>0.109</td>\n",
       "      <td>978.4330</td>\n",
       "      <td>-8.1848</td>\n",
       "      <td>-38.2660</td>\n",
       "      <td>-21.8094</td>\n",
       "      <td>NaN</td>\n",
       "      <td>Texting2.csv</td>\n",
       "      <td>texting</td>\n",
       "      <td>2</td>\n",
       "    </tr>\n",
       "    <tr>\n",
       "      <th>1</th>\n",
       "      <td>0.025</td>\n",
       "      <td>-0.0148</td>\n",
       "      <td>0.3461</td>\n",
       "      <td>0.9069</td>\n",
       "      <td>0.1421</td>\n",
       "      <td>0.0603</td>\n",
       "      <td>0.109</td>\n",
       "      <td>978.4330</td>\n",
       "      <td>-8.1085</td>\n",
       "      <td>-37.5809</td>\n",
       "      <td>-22.7829</td>\n",
       "      <td>NaN</td>\n",
       "      <td>Texting2.csv</td>\n",
       "      <td>texting</td>\n",
       "      <td>2</td>\n",
       "    </tr>\n",
       "    <tr>\n",
       "      <th>2</th>\n",
       "      <td>0.032</td>\n",
       "      <td>-0.0383</td>\n",
       "      <td>0.3321</td>\n",
       "      <td>1.0122</td>\n",
       "      <td>0.1421</td>\n",
       "      <td>0.0603</td>\n",
       "      <td>0.109</td>\n",
       "      <td>978.4330</td>\n",
       "      <td>-8.1085</td>\n",
       "      <td>-37.5809</td>\n",
       "      <td>-22.7829</td>\n",
       "      <td>NaN</td>\n",
       "      <td>Texting2.csv</td>\n",
       "      <td>texting</td>\n",
       "      <td>2</td>\n",
       "    </tr>\n",
       "    <tr>\n",
       "      <th>3</th>\n",
       "      <td>0.067</td>\n",
       "      <td>-0.0383</td>\n",
       "      <td>0.3321</td>\n",
       "      <td>1.0122</td>\n",
       "      <td>0.1421</td>\n",
       "      <td>0.0603</td>\n",
       "      <td>0.109</td>\n",
       "      <td>978.4330</td>\n",
       "      <td>-8.8348</td>\n",
       "      <td>-37.9395</td>\n",
       "      <td>-21.8979</td>\n",
       "      <td>NaN</td>\n",
       "      <td>Texting2.csv</td>\n",
       "      <td>texting</td>\n",
       "      <td>2</td>\n",
       "    </tr>\n",
       "    <tr>\n",
       "      <th>4</th>\n",
       "      <td>0.076</td>\n",
       "      <td>-0.0383</td>\n",
       "      <td>0.3321</td>\n",
       "      <td>1.0122</td>\n",
       "      <td>0.1421</td>\n",
       "      <td>0.0603</td>\n",
       "      <td>0.109</td>\n",
       "      <td>978.4193</td>\n",
       "      <td>-8.8348</td>\n",
       "      <td>-37.9395</td>\n",
       "      <td>-21.8979</td>\n",
       "      <td>NaN</td>\n",
       "      <td>Texting2.csv</td>\n",
       "      <td>texting</td>\n",
       "      <td>2</td>\n",
       "    </tr>\n",
       "  </tbody>\n",
       "</table>\n",
       "</div>"
      ],
      "text/plain": [
       "    time     gfx     gFy     gFz      wx      wy     wz         p      Bx  \\\n",
       "0  0.020 -0.0148  0.3461  0.9069  0.1421  0.0603  0.109  978.4330 -8.1848   \n",
       "1  0.025 -0.0148  0.3461  0.9069  0.1421  0.0603  0.109  978.4330 -8.1085   \n",
       "2  0.032 -0.0383  0.3321  1.0122  0.1421  0.0603  0.109  978.4330 -8.1085   \n",
       "3  0.067 -0.0383  0.3321  1.0122  0.1421  0.0603  0.109  978.4330 -8.8348   \n",
       "4  0.076 -0.0383  0.3321  1.0122  0.1421  0.0603  0.109  978.4193 -8.8348   \n",
       "\n",
       "        By       Bz  Unnamed: 11        source    label  devicemode  \n",
       "0 -38.2660 -21.8094          NaN  Texting2.csv  texting           2  \n",
       "1 -37.5809 -22.7829          NaN  Texting2.csv  texting           2  \n",
       "2 -37.5809 -22.7829          NaN  Texting2.csv  texting           2  \n",
       "3 -37.9395 -21.8979          NaN  Texting2.csv  texting           2  \n",
       "4 -37.9395 -21.8979          NaN  Texting2.csv  texting           2  "
      ]
     },
     "execution_count": 46,
     "metadata": {},
     "output_type": "execute_result"
    }
   ],
   "source": [
    "rdf.head()"
   ]
  },
  {
   "cell_type": "code",
   "execution_count": 47,
   "metadata": {},
   "outputs": [
    {
     "name": "stdout",
     "output_type": "stream",
     "text": [
      "<class 'pandas.core.frame.DataFrame'>\n",
      "Int64Index: 78392 entries, 0 to 8755\n",
      "Data columns (total 14 columns):\n",
      "time          78392 non-null float64\n",
      "gfx           78392 non-null float64\n",
      "gFy           78392 non-null float64\n",
      "gFz           78392 non-null float64\n",
      "wx            78392 non-null float64\n",
      "wy            78392 non-null float64\n",
      "wz            78392 non-null float64\n",
      "p             78392 non-null float64\n",
      "Bx            78392 non-null float64\n",
      "By            78392 non-null float64\n",
      "Bz            78392 non-null float64\n",
      "source        78392 non-null object\n",
      "label         78392 non-null object\n",
      "devicemode    78392 non-null int64\n",
      "dtypes: float64(11), int64(1), object(2)\n",
      "memory usage: 9.0+ MB\n"
     ]
    }
   ],
   "source": [
    "rdf.dropna(axis=1,inplace=True)\n",
    "rdf.info()"
   ]
  },
  {
   "cell_type": "code",
   "execution_count": 48,
   "metadata": {},
   "outputs": [
    {
     "data": {
      "text/html": [
       "<div>\n",
       "<style>\n",
       "    .dataframe thead tr:only-child th {\n",
       "        text-align: right;\n",
       "    }\n",
       "\n",
       "    .dataframe thead th {\n",
       "        text-align: left;\n",
       "    }\n",
       "\n",
       "    .dataframe tbody tr th {\n",
       "        vertical-align: top;\n",
       "    }\n",
       "</style>\n",
       "<table border=\"1\" class=\"dataframe\">\n",
       "  <thead>\n",
       "    <tr style=\"text-align: right;\">\n",
       "      <th></th>\n",
       "      <th>time</th>\n",
       "      <th>gfx</th>\n",
       "      <th>gFy</th>\n",
       "      <th>gFz</th>\n",
       "      <th>wx</th>\n",
       "      <th>wy</th>\n",
       "      <th>wz</th>\n",
       "      <th>p</th>\n",
       "      <th>Bx</th>\n",
       "      <th>By</th>\n",
       "      <th>Bz</th>\n",
       "      <th>source</th>\n",
       "      <th>label</th>\n",
       "      <th>devicemode</th>\n",
       "    </tr>\n",
       "  </thead>\n",
       "  <tbody>\n",
       "    <tr>\n",
       "      <th>0</th>\n",
       "      <td>0.020</td>\n",
       "      <td>-0.0148</td>\n",
       "      <td>0.3461</td>\n",
       "      <td>0.9069</td>\n",
       "      <td>0.1421</td>\n",
       "      <td>0.0603</td>\n",
       "      <td>0.109</td>\n",
       "      <td>978.4330</td>\n",
       "      <td>-8.1848</td>\n",
       "      <td>-38.2660</td>\n",
       "      <td>-21.8094</td>\n",
       "      <td>Texting2.csv</td>\n",
       "      <td>texting</td>\n",
       "      <td>2</td>\n",
       "    </tr>\n",
       "    <tr>\n",
       "      <th>1</th>\n",
       "      <td>0.025</td>\n",
       "      <td>-0.0148</td>\n",
       "      <td>0.3461</td>\n",
       "      <td>0.9069</td>\n",
       "      <td>0.1421</td>\n",
       "      <td>0.0603</td>\n",
       "      <td>0.109</td>\n",
       "      <td>978.4330</td>\n",
       "      <td>-8.1085</td>\n",
       "      <td>-37.5809</td>\n",
       "      <td>-22.7829</td>\n",
       "      <td>Texting2.csv</td>\n",
       "      <td>texting</td>\n",
       "      <td>2</td>\n",
       "    </tr>\n",
       "    <tr>\n",
       "      <th>2</th>\n",
       "      <td>0.032</td>\n",
       "      <td>-0.0383</td>\n",
       "      <td>0.3321</td>\n",
       "      <td>1.0122</td>\n",
       "      <td>0.1421</td>\n",
       "      <td>0.0603</td>\n",
       "      <td>0.109</td>\n",
       "      <td>978.4330</td>\n",
       "      <td>-8.1085</td>\n",
       "      <td>-37.5809</td>\n",
       "      <td>-22.7829</td>\n",
       "      <td>Texting2.csv</td>\n",
       "      <td>texting</td>\n",
       "      <td>2</td>\n",
       "    </tr>\n",
       "    <tr>\n",
       "      <th>3</th>\n",
       "      <td>0.067</td>\n",
       "      <td>-0.0383</td>\n",
       "      <td>0.3321</td>\n",
       "      <td>1.0122</td>\n",
       "      <td>0.1421</td>\n",
       "      <td>0.0603</td>\n",
       "      <td>0.109</td>\n",
       "      <td>978.4330</td>\n",
       "      <td>-8.8348</td>\n",
       "      <td>-37.9395</td>\n",
       "      <td>-21.8979</td>\n",
       "      <td>Texting2.csv</td>\n",
       "      <td>texting</td>\n",
       "      <td>2</td>\n",
       "    </tr>\n",
       "    <tr>\n",
       "      <th>4</th>\n",
       "      <td>0.076</td>\n",
       "      <td>-0.0383</td>\n",
       "      <td>0.3321</td>\n",
       "      <td>1.0122</td>\n",
       "      <td>0.1421</td>\n",
       "      <td>0.0603</td>\n",
       "      <td>0.109</td>\n",
       "      <td>978.4193</td>\n",
       "      <td>-8.8348</td>\n",
       "      <td>-37.9395</td>\n",
       "      <td>-21.8979</td>\n",
       "      <td>Texting2.csv</td>\n",
       "      <td>texting</td>\n",
       "      <td>2</td>\n",
       "    </tr>\n",
       "  </tbody>\n",
       "</table>\n",
       "</div>"
      ],
      "text/plain": [
       "    time     gfx     gFy     gFz      wx      wy     wz         p      Bx  \\\n",
       "0  0.020 -0.0148  0.3461  0.9069  0.1421  0.0603  0.109  978.4330 -8.1848   \n",
       "1  0.025 -0.0148  0.3461  0.9069  0.1421  0.0603  0.109  978.4330 -8.1085   \n",
       "2  0.032 -0.0383  0.3321  1.0122  0.1421  0.0603  0.109  978.4330 -8.1085   \n",
       "3  0.067 -0.0383  0.3321  1.0122  0.1421  0.0603  0.109  978.4330 -8.8348   \n",
       "4  0.076 -0.0383  0.3321  1.0122  0.1421  0.0603  0.109  978.4193 -8.8348   \n",
       "\n",
       "        By       Bz        source    label  devicemode  \n",
       "0 -38.2660 -21.8094  Texting2.csv  texting           2  \n",
       "1 -37.5809 -22.7829  Texting2.csv  texting           2  \n",
       "2 -37.5809 -22.7829  Texting2.csv  texting           2  \n",
       "3 -37.9395 -21.8979  Texting2.csv  texting           2  \n",
       "4 -37.9395 -21.8979  Texting2.csv  texting           2  "
      ]
     },
     "execution_count": 48,
     "metadata": {},
     "output_type": "execute_result"
    }
   ],
   "source": [
    "rdf.head()"
   ]
  },
  {
   "cell_type": "markdown",
   "metadata": {},
   "source": [
    "## preprocessing \n",
    "#### todos :lowpass filter , remove dc & normlaize \n"
   ]
  },
  {
   "cell_type": "markdown",
   "metadata": {},
   "source": [
    "## generate features \n",
    "#### todos : calculate norm feature for g-force , gyro \n",
    "####  avarage norm on sliding window "
   ]
  },
  {
   "cell_type": "code",
   "execution_count": 49,
   "metadata": {
    "collapsed": true
   },
   "outputs": [],
   "source": [
    "rdf['gforce'] = np.sqrt(rdf['gfx']**2 + rdf['gFy']**2 + rdf['gFz']**2) \n",
    "rdf['gyro'] = np.sqrt(rdf['wx']**2 + rdf['wy']**2 + rdf['wz']**2) "
   ]
  },
  {
   "cell_type": "code",
   "execution_count": 50,
   "metadata": {},
   "outputs": [
    {
     "data": {
      "text/html": [
       "<div>\n",
       "<style>\n",
       "    .dataframe thead tr:only-child th {\n",
       "        text-align: right;\n",
       "    }\n",
       "\n",
       "    .dataframe thead th {\n",
       "        text-align: left;\n",
       "    }\n",
       "\n",
       "    .dataframe tbody tr th {\n",
       "        vertical-align: top;\n",
       "    }\n",
       "</style>\n",
       "<table border=\"1\" class=\"dataframe\">\n",
       "  <thead>\n",
       "    <tr style=\"text-align: right;\">\n",
       "      <th></th>\n",
       "      <th>time</th>\n",
       "      <th>gfx</th>\n",
       "      <th>gFy</th>\n",
       "      <th>gFz</th>\n",
       "      <th>wx</th>\n",
       "      <th>wy</th>\n",
       "      <th>wz</th>\n",
       "      <th>p</th>\n",
       "      <th>Bx</th>\n",
       "      <th>By</th>\n",
       "      <th>Bz</th>\n",
       "      <th>source</th>\n",
       "      <th>label</th>\n",
       "      <th>devicemode</th>\n",
       "      <th>gforce</th>\n",
       "      <th>gyro</th>\n",
       "    </tr>\n",
       "  </thead>\n",
       "  <tbody>\n",
       "    <tr>\n",
       "      <th>0</th>\n",
       "      <td>0.020</td>\n",
       "      <td>-0.0148</td>\n",
       "      <td>0.3461</td>\n",
       "      <td>0.9069</td>\n",
       "      <td>0.1421</td>\n",
       "      <td>0.0603</td>\n",
       "      <td>0.109</td>\n",
       "      <td>978.4330</td>\n",
       "      <td>-8.1848</td>\n",
       "      <td>-38.2660</td>\n",
       "      <td>-21.8094</td>\n",
       "      <td>Texting2.csv</td>\n",
       "      <td>texting</td>\n",
       "      <td>2</td>\n",
       "      <td>0.970810</td>\n",
       "      <td>0.18897</td>\n",
       "    </tr>\n",
       "    <tr>\n",
       "      <th>1</th>\n",
       "      <td>0.025</td>\n",
       "      <td>-0.0148</td>\n",
       "      <td>0.3461</td>\n",
       "      <td>0.9069</td>\n",
       "      <td>0.1421</td>\n",
       "      <td>0.0603</td>\n",
       "      <td>0.109</td>\n",
       "      <td>978.4330</td>\n",
       "      <td>-8.1085</td>\n",
       "      <td>-37.5809</td>\n",
       "      <td>-22.7829</td>\n",
       "      <td>Texting2.csv</td>\n",
       "      <td>texting</td>\n",
       "      <td>2</td>\n",
       "      <td>0.970810</td>\n",
       "      <td>0.18897</td>\n",
       "    </tr>\n",
       "    <tr>\n",
       "      <th>2</th>\n",
       "      <td>0.032</td>\n",
       "      <td>-0.0383</td>\n",
       "      <td>0.3321</td>\n",
       "      <td>1.0122</td>\n",
       "      <td>0.1421</td>\n",
       "      <td>0.0603</td>\n",
       "      <td>0.109</td>\n",
       "      <td>978.4330</td>\n",
       "      <td>-8.1085</td>\n",
       "      <td>-37.5809</td>\n",
       "      <td>-22.7829</td>\n",
       "      <td>Texting2.csv</td>\n",
       "      <td>texting</td>\n",
       "      <td>2</td>\n",
       "      <td>1.065977</td>\n",
       "      <td>0.18897</td>\n",
       "    </tr>\n",
       "    <tr>\n",
       "      <th>3</th>\n",
       "      <td>0.067</td>\n",
       "      <td>-0.0383</td>\n",
       "      <td>0.3321</td>\n",
       "      <td>1.0122</td>\n",
       "      <td>0.1421</td>\n",
       "      <td>0.0603</td>\n",
       "      <td>0.109</td>\n",
       "      <td>978.4330</td>\n",
       "      <td>-8.8348</td>\n",
       "      <td>-37.9395</td>\n",
       "      <td>-21.8979</td>\n",
       "      <td>Texting2.csv</td>\n",
       "      <td>texting</td>\n",
       "      <td>2</td>\n",
       "      <td>1.065977</td>\n",
       "      <td>0.18897</td>\n",
       "    </tr>\n",
       "    <tr>\n",
       "      <th>4</th>\n",
       "      <td>0.076</td>\n",
       "      <td>-0.0383</td>\n",
       "      <td>0.3321</td>\n",
       "      <td>1.0122</td>\n",
       "      <td>0.1421</td>\n",
       "      <td>0.0603</td>\n",
       "      <td>0.109</td>\n",
       "      <td>978.4193</td>\n",
       "      <td>-8.8348</td>\n",
       "      <td>-37.9395</td>\n",
       "      <td>-21.8979</td>\n",
       "      <td>Texting2.csv</td>\n",
       "      <td>texting</td>\n",
       "      <td>2</td>\n",
       "      <td>1.065977</td>\n",
       "      <td>0.18897</td>\n",
       "    </tr>\n",
       "  </tbody>\n",
       "</table>\n",
       "</div>"
      ],
      "text/plain": [
       "    time     gfx     gFy     gFz      wx      wy     wz         p      Bx  \\\n",
       "0  0.020 -0.0148  0.3461  0.9069  0.1421  0.0603  0.109  978.4330 -8.1848   \n",
       "1  0.025 -0.0148  0.3461  0.9069  0.1421  0.0603  0.109  978.4330 -8.1085   \n",
       "2  0.032 -0.0383  0.3321  1.0122  0.1421  0.0603  0.109  978.4330 -8.1085   \n",
       "3  0.067 -0.0383  0.3321  1.0122  0.1421  0.0603  0.109  978.4330 -8.8348   \n",
       "4  0.076 -0.0383  0.3321  1.0122  0.1421  0.0603  0.109  978.4193 -8.8348   \n",
       "\n",
       "        By       Bz        source    label  devicemode    gforce     gyro  \n",
       "0 -38.2660 -21.8094  Texting2.csv  texting           2  0.970810  0.18897  \n",
       "1 -37.5809 -22.7829  Texting2.csv  texting           2  0.970810  0.18897  \n",
       "2 -37.5809 -22.7829  Texting2.csv  texting           2  1.065977  0.18897  \n",
       "3 -37.9395 -21.8979  Texting2.csv  texting           2  1.065977  0.18897  \n",
       "4 -37.9395 -21.8979  Texting2.csv  texting           2  1.065977  0.18897  "
      ]
     },
     "execution_count": 50,
     "metadata": {},
     "output_type": "execute_result"
    }
   ],
   "source": [
    "rdf.head()"
   ]
  },
  {
   "cell_type": "code",
   "execution_count": 51,
   "metadata": {
    "collapsed": true
   },
   "outputs": [],
   "source": [
    "rdf['mgforce'] = rdf['gforce'].rolling(window=128,center=False).mean()\n",
    "rdf['mgforce'].fillna(value=rdf['mgforce'].mean(),inplace=True)\n",
    "\n",
    "rdf['mgyro'] = rdf['gyro'].rolling(window=128,center=False).mean()\n",
    "rdf['mgyro'].fillna(value=rdf['mgyro'].mean(),inplace=True)\n"
   ]
  },
  {
   "cell_type": "code",
   "execution_count": 52,
   "metadata": {
    "collapsed": true
   },
   "outputs": [],
   "source": [
    "rdf['vgforce'] = rdf['gforce'].rolling(window=128,center=False).var()\n",
    "rdf['vgforce'].fillna(value=rdf['vgforce'].mean(),inplace=True)\n",
    "rdf['vgyro'] = rdf['gyro'].rolling(window=128,center=False).mean()\n",
    "rdf['vgyro'].fillna(value=rdf['vgyro'].mean(),inplace=True)"
   ]
  },
  {
   "cell_type": "code",
   "execution_count": 53,
   "metadata": {},
   "outputs": [
    {
     "data": {
      "text/html": [
       "<div>\n",
       "<style>\n",
       "    .dataframe thead tr:only-child th {\n",
       "        text-align: right;\n",
       "    }\n",
       "\n",
       "    .dataframe thead th {\n",
       "        text-align: left;\n",
       "    }\n",
       "\n",
       "    .dataframe tbody tr th {\n",
       "        vertical-align: top;\n",
       "    }\n",
       "</style>\n",
       "<table border=\"1\" class=\"dataframe\">\n",
       "  <thead>\n",
       "    <tr style=\"text-align: right;\">\n",
       "      <th></th>\n",
       "      <th>time</th>\n",
       "      <th>gfx</th>\n",
       "      <th>gFy</th>\n",
       "      <th>gFz</th>\n",
       "      <th>wx</th>\n",
       "      <th>wy</th>\n",
       "      <th>wz</th>\n",
       "      <th>p</th>\n",
       "      <th>Bx</th>\n",
       "      <th>By</th>\n",
       "      <th>Bz</th>\n",
       "      <th>label</th>\n",
       "      <th>devicemode</th>\n",
       "      <th>gforce</th>\n",
       "      <th>gyro</th>\n",
       "      <th>mgforce</th>\n",
       "      <th>mgyro</th>\n",
       "      <th>vgforce</th>\n",
       "      <th>vgyro</th>\n",
       "    </tr>\n",
       "  </thead>\n",
       "  <tbody>\n",
       "    <tr>\n",
       "      <th>0</th>\n",
       "      <td>0.020</td>\n",
       "      <td>-0.0148</td>\n",
       "      <td>0.3461</td>\n",
       "      <td>0.9069</td>\n",
       "      <td>0.1421</td>\n",
       "      <td>0.0603</td>\n",
       "      <td>0.1090</td>\n",
       "      <td>978.4330</td>\n",
       "      <td>-8.1848</td>\n",
       "      <td>-38.2660</td>\n",
       "      <td>-21.8094</td>\n",
       "      <td>texting</td>\n",
       "      <td>2</td>\n",
       "      <td>0.970810</td>\n",
       "      <td>0.188970</td>\n",
       "      <td>1.159161</td>\n",
       "      <td>1.833778</td>\n",
       "      <td>0.169561</td>\n",
       "      <td>1.833778</td>\n",
       "    </tr>\n",
       "    <tr>\n",
       "      <th>1</th>\n",
       "      <td>0.025</td>\n",
       "      <td>-0.0148</td>\n",
       "      <td>0.3461</td>\n",
       "      <td>0.9069</td>\n",
       "      <td>0.1421</td>\n",
       "      <td>0.0603</td>\n",
       "      <td>0.1090</td>\n",
       "      <td>978.4330</td>\n",
       "      <td>-8.1085</td>\n",
       "      <td>-37.5809</td>\n",
       "      <td>-22.7829</td>\n",
       "      <td>texting</td>\n",
       "      <td>2</td>\n",
       "      <td>0.970810</td>\n",
       "      <td>0.188970</td>\n",
       "      <td>1.159161</td>\n",
       "      <td>1.833778</td>\n",
       "      <td>0.169561</td>\n",
       "      <td>1.833778</td>\n",
       "    </tr>\n",
       "    <tr>\n",
       "      <th>2</th>\n",
       "      <td>0.032</td>\n",
       "      <td>-0.0383</td>\n",
       "      <td>0.3321</td>\n",
       "      <td>1.0122</td>\n",
       "      <td>0.1421</td>\n",
       "      <td>0.0603</td>\n",
       "      <td>0.1090</td>\n",
       "      <td>978.4330</td>\n",
       "      <td>-8.1085</td>\n",
       "      <td>-37.5809</td>\n",
       "      <td>-22.7829</td>\n",
       "      <td>texting</td>\n",
       "      <td>2</td>\n",
       "      <td>1.065977</td>\n",
       "      <td>0.188970</td>\n",
       "      <td>1.159161</td>\n",
       "      <td>1.833778</td>\n",
       "      <td>0.169561</td>\n",
       "      <td>1.833778</td>\n",
       "    </tr>\n",
       "    <tr>\n",
       "      <th>3</th>\n",
       "      <td>0.067</td>\n",
       "      <td>-0.0383</td>\n",
       "      <td>0.3321</td>\n",
       "      <td>1.0122</td>\n",
       "      <td>0.1421</td>\n",
       "      <td>0.0603</td>\n",
       "      <td>0.1090</td>\n",
       "      <td>978.4330</td>\n",
       "      <td>-8.8348</td>\n",
       "      <td>-37.9395</td>\n",
       "      <td>-21.8979</td>\n",
       "      <td>texting</td>\n",
       "      <td>2</td>\n",
       "      <td>1.065977</td>\n",
       "      <td>0.188970</td>\n",
       "      <td>1.159161</td>\n",
       "      <td>1.833778</td>\n",
       "      <td>0.169561</td>\n",
       "      <td>1.833778</td>\n",
       "    </tr>\n",
       "    <tr>\n",
       "      <th>4</th>\n",
       "      <td>0.076</td>\n",
       "      <td>-0.0383</td>\n",
       "      <td>0.3321</td>\n",
       "      <td>1.0122</td>\n",
       "      <td>0.1421</td>\n",
       "      <td>0.0603</td>\n",
       "      <td>0.1090</td>\n",
       "      <td>978.4193</td>\n",
       "      <td>-8.8348</td>\n",
       "      <td>-37.9395</td>\n",
       "      <td>-21.8979</td>\n",
       "      <td>texting</td>\n",
       "      <td>2</td>\n",
       "      <td>1.065977</td>\n",
       "      <td>0.188970</td>\n",
       "      <td>1.159161</td>\n",
       "      <td>1.833778</td>\n",
       "      <td>0.169561</td>\n",
       "      <td>1.833778</td>\n",
       "    </tr>\n",
       "    <tr>\n",
       "      <th>5</th>\n",
       "      <td>0.110</td>\n",
       "      <td>-0.0074</td>\n",
       "      <td>0.3477</td>\n",
       "      <td>0.8704</td>\n",
       "      <td>0.1421</td>\n",
       "      <td>0.0603</td>\n",
       "      <td>0.1090</td>\n",
       "      <td>978.4193</td>\n",
       "      <td>-8.8348</td>\n",
       "      <td>-37.9395</td>\n",
       "      <td>-21.8979</td>\n",
       "      <td>texting</td>\n",
       "      <td>2</td>\n",
       "      <td>0.937308</td>\n",
       "      <td>0.188970</td>\n",
       "      <td>1.159161</td>\n",
       "      <td>1.833778</td>\n",
       "      <td>0.169561</td>\n",
       "      <td>1.833778</td>\n",
       "    </tr>\n",
       "    <tr>\n",
       "      <th>6</th>\n",
       "      <td>0.115</td>\n",
       "      <td>-0.0074</td>\n",
       "      <td>0.3477</td>\n",
       "      <td>0.8704</td>\n",
       "      <td>0.0855</td>\n",
       "      <td>-0.0155</td>\n",
       "      <td>0.0556</td>\n",
       "      <td>978.4193</td>\n",
       "      <td>-8.8348</td>\n",
       "      <td>-37.9395</td>\n",
       "      <td>-21.8979</td>\n",
       "      <td>texting</td>\n",
       "      <td>2</td>\n",
       "      <td>0.937308</td>\n",
       "      <td>0.103159</td>\n",
       "      <td>1.159161</td>\n",
       "      <td>1.833778</td>\n",
       "      <td>0.169561</td>\n",
       "      <td>1.833778</td>\n",
       "    </tr>\n",
       "    <tr>\n",
       "      <th>7</th>\n",
       "      <td>0.116</td>\n",
       "      <td>-0.0074</td>\n",
       "      <td>0.3477</td>\n",
       "      <td>0.8704</td>\n",
       "      <td>0.0855</td>\n",
       "      <td>-0.0155</td>\n",
       "      <td>0.0556</td>\n",
       "      <td>978.4193</td>\n",
       "      <td>-8.8348</td>\n",
       "      <td>-37.9395</td>\n",
       "      <td>-21.8979</td>\n",
       "      <td>texting</td>\n",
       "      <td>2</td>\n",
       "      <td>0.937308</td>\n",
       "      <td>0.103159</td>\n",
       "      <td>1.159161</td>\n",
       "      <td>1.833778</td>\n",
       "      <td>0.169561</td>\n",
       "      <td>1.833778</td>\n",
       "    </tr>\n",
       "    <tr>\n",
       "      <th>8</th>\n",
       "      <td>0.147</td>\n",
       "      <td>-0.0074</td>\n",
       "      <td>0.3477</td>\n",
       "      <td>0.8704</td>\n",
       "      <td>0.0855</td>\n",
       "      <td>-0.0155</td>\n",
       "      <td>0.0556</td>\n",
       "      <td>978.4193</td>\n",
       "      <td>-9.1873</td>\n",
       "      <td>-37.8632</td>\n",
       "      <td>-21.3715</td>\n",
       "      <td>texting</td>\n",
       "      <td>2</td>\n",
       "      <td>0.937308</td>\n",
       "      <td>0.103159</td>\n",
       "      <td>1.159161</td>\n",
       "      <td>1.833778</td>\n",
       "      <td>0.169561</td>\n",
       "      <td>1.833778</td>\n",
       "    </tr>\n",
       "    <tr>\n",
       "      <th>9</th>\n",
       "      <td>0.169</td>\n",
       "      <td>-0.0013</td>\n",
       "      <td>0.3385</td>\n",
       "      <td>0.9399</td>\n",
       "      <td>0.0855</td>\n",
       "      <td>-0.0155</td>\n",
       "      <td>0.0556</td>\n",
       "      <td>978.4193</td>\n",
       "      <td>-9.1873</td>\n",
       "      <td>-37.8632</td>\n",
       "      <td>-21.3715</td>\n",
       "      <td>texting</td>\n",
       "      <td>2</td>\n",
       "      <td>0.998997</td>\n",
       "      <td>0.103159</td>\n",
       "      <td>1.159161</td>\n",
       "      <td>1.833778</td>\n",
       "      <td>0.169561</td>\n",
       "      <td>1.833778</td>\n",
       "    </tr>\n",
       "  </tbody>\n",
       "</table>\n",
       "</div>"
      ],
      "text/plain": [
       "    time     gfx     gFy     gFz      wx      wy      wz         p      Bx  \\\n",
       "0  0.020 -0.0148  0.3461  0.9069  0.1421  0.0603  0.1090  978.4330 -8.1848   \n",
       "1  0.025 -0.0148  0.3461  0.9069  0.1421  0.0603  0.1090  978.4330 -8.1085   \n",
       "2  0.032 -0.0383  0.3321  1.0122  0.1421  0.0603  0.1090  978.4330 -8.1085   \n",
       "3  0.067 -0.0383  0.3321  1.0122  0.1421  0.0603  0.1090  978.4330 -8.8348   \n",
       "4  0.076 -0.0383  0.3321  1.0122  0.1421  0.0603  0.1090  978.4193 -8.8348   \n",
       "5  0.110 -0.0074  0.3477  0.8704  0.1421  0.0603  0.1090  978.4193 -8.8348   \n",
       "6  0.115 -0.0074  0.3477  0.8704  0.0855 -0.0155  0.0556  978.4193 -8.8348   \n",
       "7  0.116 -0.0074  0.3477  0.8704  0.0855 -0.0155  0.0556  978.4193 -8.8348   \n",
       "8  0.147 -0.0074  0.3477  0.8704  0.0855 -0.0155  0.0556  978.4193 -9.1873   \n",
       "9  0.169 -0.0013  0.3385  0.9399  0.0855 -0.0155  0.0556  978.4193 -9.1873   \n",
       "\n",
       "        By       Bz    label  devicemode    gforce      gyro   mgforce  \\\n",
       "0 -38.2660 -21.8094  texting           2  0.970810  0.188970  1.159161   \n",
       "1 -37.5809 -22.7829  texting           2  0.970810  0.188970  1.159161   \n",
       "2 -37.5809 -22.7829  texting           2  1.065977  0.188970  1.159161   \n",
       "3 -37.9395 -21.8979  texting           2  1.065977  0.188970  1.159161   \n",
       "4 -37.9395 -21.8979  texting           2  1.065977  0.188970  1.159161   \n",
       "5 -37.9395 -21.8979  texting           2  0.937308  0.188970  1.159161   \n",
       "6 -37.9395 -21.8979  texting           2  0.937308  0.103159  1.159161   \n",
       "7 -37.9395 -21.8979  texting           2  0.937308  0.103159  1.159161   \n",
       "8 -37.8632 -21.3715  texting           2  0.937308  0.103159  1.159161   \n",
       "9 -37.8632 -21.3715  texting           2  0.998997  0.103159  1.159161   \n",
       "\n",
       "      mgyro   vgforce     vgyro  \n",
       "0  1.833778  0.169561  1.833778  \n",
       "1  1.833778  0.169561  1.833778  \n",
       "2  1.833778  0.169561  1.833778  \n",
       "3  1.833778  0.169561  1.833778  \n",
       "4  1.833778  0.169561  1.833778  \n",
       "5  1.833778  0.169561  1.833778  \n",
       "6  1.833778  0.169561  1.833778  \n",
       "7  1.833778  0.169561  1.833778  \n",
       "8  1.833778  0.169561  1.833778  \n",
       "9  1.833778  0.169561  1.833778  "
      ]
     },
     "execution_count": 53,
     "metadata": {},
     "output_type": "execute_result"
    }
   ],
   "source": [
    "#rdf.dropna(inplace=True)\n",
    "rdf.drop('source',axis=1).head(10)"
   ]
  },
  {
   "cell_type": "markdown",
   "metadata": {},
   "source": [
    "### visualize"
   ]
  },
  {
   "cell_type": "code",
   "execution_count": 54,
   "metadata": {},
   "outputs": [
    {
     "data": {
      "text/plain": [
       "2"
      ]
     },
     "execution_count": 54,
     "metadata": {},
     "output_type": "execute_result"
    }
   ],
   "source": [
    "rdf.iloc[0,13]"
   ]
  },
  {
   "cell_type": "code",
   "execution_count": 55,
   "metadata": {},
   "outputs": [
    {
     "data": {
      "text/html": [
       "<div>\n",
       "<style>\n",
       "    .dataframe thead tr:only-child th {\n",
       "        text-align: right;\n",
       "    }\n",
       "\n",
       "    .dataframe thead th {\n",
       "        text-align: left;\n",
       "    }\n",
       "\n",
       "    .dataframe tbody tr th {\n",
       "        vertical-align: top;\n",
       "    }\n",
       "</style>\n",
       "<table border=\"1\" class=\"dataframe\">\n",
       "  <thead>\n",
       "    <tr style=\"text-align: right;\">\n",
       "      <th></th>\n",
       "      <th>devicemode</th>\n",
       "      <th>gforce</th>\n",
       "      <th>gyro</th>\n",
       "      <th>mgforce</th>\n",
       "      <th>mgyro</th>\n",
       "      <th>vgforce</th>\n",
       "    </tr>\n",
       "  </thead>\n",
       "  <tbody>\n",
       "    <tr>\n",
       "      <th>devicemode</th>\n",
       "      <td>1.000000</td>\n",
       "      <td>-0.183810</td>\n",
       "      <td>-0.559687</td>\n",
       "      <td>-0.703884</td>\n",
       "      <td>-0.816942</td>\n",
       "      <td>-0.789486</td>\n",
       "    </tr>\n",
       "    <tr>\n",
       "      <th>gforce</th>\n",
       "      <td>-0.183810</td>\n",
       "      <td>1.000000</td>\n",
       "      <td>0.209836</td>\n",
       "      <td>0.209643</td>\n",
       "      <td>0.217479</td>\n",
       "      <td>0.168900</td>\n",
       "    </tr>\n",
       "    <tr>\n",
       "      <th>gyro</th>\n",
       "      <td>-0.559687</td>\n",
       "      <td>0.209836</td>\n",
       "      <td>1.000000</td>\n",
       "      <td>0.558408</td>\n",
       "      <td>0.641606</td>\n",
       "      <td>0.538218</td>\n",
       "    </tr>\n",
       "    <tr>\n",
       "      <th>mgforce</th>\n",
       "      <td>-0.703884</td>\n",
       "      <td>0.209643</td>\n",
       "      <td>0.558408</td>\n",
       "      <td>1.000000</td>\n",
       "      <td>0.856470</td>\n",
       "      <td>0.643462</td>\n",
       "    </tr>\n",
       "    <tr>\n",
       "      <th>mgyro</th>\n",
       "      <td>-0.816942</td>\n",
       "      <td>0.217479</td>\n",
       "      <td>0.641606</td>\n",
       "      <td>0.856470</td>\n",
       "      <td>1.000000</td>\n",
       "      <td>0.786577</td>\n",
       "    </tr>\n",
       "    <tr>\n",
       "      <th>vgforce</th>\n",
       "      <td>-0.789486</td>\n",
       "      <td>0.168900</td>\n",
       "      <td>0.538218</td>\n",
       "      <td>0.643462</td>\n",
       "      <td>0.786577</td>\n",
       "      <td>1.000000</td>\n",
       "    </tr>\n",
       "  </tbody>\n",
       "</table>\n",
       "</div>"
      ],
      "text/plain": [
       "            devicemode    gforce      gyro   mgforce     mgyro   vgforce\n",
       "devicemode    1.000000 -0.183810 -0.559687 -0.703884 -0.816942 -0.789486\n",
       "gforce       -0.183810  1.000000  0.209836  0.209643  0.217479  0.168900\n",
       "gyro         -0.559687  0.209836  1.000000  0.558408  0.641606  0.538218\n",
       "mgforce      -0.703884  0.209643  0.558408  1.000000  0.856470  0.643462\n",
       "mgyro        -0.816942  0.217479  0.641606  0.856470  1.000000  0.786577\n",
       "vgforce      -0.789486  0.168900  0.538218  0.643462  0.786577  1.000000"
      ]
     },
     "execution_count": 55,
     "metadata": {},
     "output_type": "execute_result"
    }
   ],
   "source": [
    "cor_mat = rdf.iloc[:,13:-1].corr()\n",
    "cor_mat"
   ]
  },
  {
   "cell_type": "code",
   "execution_count": 56,
   "metadata": {},
   "outputs": [
    {
     "data": {
      "text/plain": [
       "<matplotlib.axes._subplots.AxesSubplot at 0x7f2a6fdbfb10>"
      ]
     },
     "execution_count": 56,
     "metadata": {},
     "output_type": "execute_result"
    },
    {
     "data": {
      "image/png": "[encoded data removed]",
      "text/plain": [
       "<matplotlib.figure.Figure at 0x7f2a8409a610>"
      ]
     },
     "metadata": {},
     "output_type": "display_data"
    }
   ],
   "source": [
    "sns.heatmap(cor_mat)"
   ]
  },
  {
   "cell_type": "code",
   "execution_count": 57,
   "metadata": {},
   "outputs": [
    {
     "name": "stdout",
     "output_type": "stream",
     "text": [
      "swing2.csv                                11819\n",
      "swingLeftHandPhoneDownScBody.csv          10608\n",
      "SwingRightPhoneDownScBody.csv              9258\n",
      "PocketLeftAidePhoneDownScBodyLoose.csv     8756\n",
      "Pocket2.csv                                8050\n",
      "SwingRight2.csv                            7244\n",
      "swing4.csv                                 6784\n",
      "TextingPointingDorwatd.csv                 6674\n",
      "swing3.csv                                 4931\n",
      "Texting2.csv                               4268\n",
      "Name: source, dtype: int64\n"
     ]
    }
   ],
   "source": [
    "print(rdf.iloc[:,11].value_counts())"
   ]
  },
  {
   "cell_type": "code",
   "execution_count": 58,
   "metadata": {},
   "outputs": [
    {
     "name": "stdout",
     "output_type": "stream",
     "text": [
      "Axes(0.125,0.125;0.775x0.755)\n"
     ]
    },
    {
     "data": {
      "image/png": "[encoded data removed]",
      "text/plain": [
       "<matplotlib.figure.Figure at 0x7f2a6fb6ae50>"
      ]
     },
     "metadata": {},
     "output_type": "display_data"
    }
   ],
   "source": [
    "print(rdf.iloc[:,12].value_counts().plot(kind = 'bar'))"
   ]
  },
  {
   "cell_type": "code",
   "execution_count": 59,
   "metadata": {},
   "outputs": [
    {
     "data": {
      "image/png": "[encoded data removed]",
      "text/plain": [
       "<matplotlib.figure.Figure at 0x7f2a6fb331d0>"
      ]
     },
     "metadata": {},
     "output_type": "display_data"
    },
    {
     "data": {
      "image/png": "[encoded data removed]",
      "text/plain": [
       "<matplotlib.figure.Figure at 0x7f2a6f8e1350>"
      ]
     },
     "metadata": {},
     "output_type": "display_data"
    },
    {
     "data": {
      "image/png": "[encoded data removed]",
      "text/plain": [
       "<matplotlib.figure.Figure at 0x7f2a6f6969d0>"
      ]
     },
     "metadata": {},
     "output_type": "display_data"
    },
    {
     "data": {
      "image/png": "[encoded data removed]",
      "text/plain": [
       "<matplotlib.figure.Figure at 0x7f2a6f9cc350>"
      ]
     },
     "metadata": {},
     "output_type": "display_data"
    }
   ],
   "source": [
    "features = ['mgforce','mgyro','vgforce','vgyro']\n",
    "for f in features:\n",
    "    plt.figure(figsize=(20,10))\n",
    "    plt.title(f + \" distribution per mode\")\n",
    "    for l in LABELS:    \n",
    "        if l != 'whatever':\n",
    "            sns.distplot(rdf[rdf.label == l][f], label=l)\n",
    "plt.legend()\n",
    "plt.show()"
   ]
  },
  {
   "cell_type": "markdown",
   "metadata": {},
   "source": [
    "## split train & test data"
   ]
  },
  {
   "cell_type": "code",
   "execution_count": 62,
   "metadata": {},
   "outputs": [],
   "source": [
    "from sklearn.model_selection import train_test_split\n",
    "rdf.drop('source',axis=1,inplace= True)\n",
    "rdf.drop('label',axis=1,inplace= True)\n",
    "X_train, X_test, y_train, y_test = train_test_split(rdf, rdf.devicemode, test_size=0.3, random_state=42)\n"
   ]
  },
  {
   "cell_type": "code",
   "execution_count": 64,
   "metadata": {},
   "outputs": [
    {
     "name": "stdout",
     "output_type": "stream",
     "text": [
      "[[ 4953     5     1]\n",
      " [    7 15309     0]\n",
      " [    0     3  3240]]\n"
     ]
    },
    {
     "data": {
      "text/plain": [
       "<matplotlib.axes._subplots.AxesSubplot at 0x7f2a776f99d0>"
      ]
     },
     "execution_count": 64,
     "metadata": {},
     "output_type": "execute_result"
    },
    {
     "data": {
      "image/png": "[encoded data removed]",
      "text/plain": [
       "<matplotlib.figure.Figure at 0x7f2a7775ce50>"
      ]
     },
     "metadata": {},
     "output_type": "display_data"
    }
   ],
   "source": [
    "from sklearn.neighbors import KNeighborsClassifier\n",
    "from sklearn.metrics import confusion_matrix\n",
    "knn = KNeighborsClassifier(n_jobs=4,n_neighbors=4)\n",
    "knn.fit(X_train,y_train)\n",
    "knn4_pred = knn.predict(X_test)\n",
    "print(confusion_matrix(y_pred=knn4_pred,y_true=y_test))\n",
    "sns.heatmap(xticklabels=range(1,10),yticklabels=range(1,10),data = confusion_matrix(y_pred=knn4_pred,y_true=y_test),cmap='Greens')"
   ]
  },
  {
   "cell_type": "code",
   "execution_count": 65,
   "metadata": {},
   "outputs": [
    {
     "name": "stdout",
     "output_type": "stream",
     "text": [
      "classification report results:\r\n",
      "             precision    recall  f1-score   support\n",
      "\n",
      "          0       1.00      1.00      1.00      4959\n",
      "          1       1.00      1.00      1.00     15316\n",
      "          2       1.00      1.00      1.00      3243\n",
      "\n",
      "avg / total       1.00      1.00      1.00     23518\n",
      "\n"
     ]
    }
   ],
   "source": [
    "from sklearn.metrics import classification_report\n",
    "print('classification report results:\\r\\n' + classification_report(y_pred=knn4_pred,y_true=y_test))"
   ]
  },
  {
   "cell_type": "code",
   "execution_count": null,
   "metadata": {
    "collapsed": true
   },
   "outputs": [],
   "source": []
  }
 ],
 "metadata": {
  "kernelspec": {
   "display_name": "Python 2",
   "language": "python",
   "name": "python2"
  },
  "language_info": {
   "codemirror_mode": {
    "name": "ipython",
    "version": 2
   },
   "file_extension": ".py",
   "mimetype": "text/x-python",
   "name": "python",
   "nbconvert_exporter": "python",
   "pygments_lexer": "ipython2",
   "version": "2.7.13"
  }
 },
 "nbformat": 4,
 "nbformat_minor": 2
}
